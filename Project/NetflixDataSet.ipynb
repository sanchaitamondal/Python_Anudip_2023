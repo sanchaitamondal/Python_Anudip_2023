{
 "cells": [
  {
   "cell_type": "markdown",
   "id": "059aff6d-41f9-4786-a164-f50d94b24cfe",
   "metadata": {},
   "source": [
    "**Netflix Data Set Cleaning, Analysis and Visualize in Python**"
   ]
  },
  {
   "cell_type": "code",
   "execution_count": 1,
   "id": "26e857ea-1a7d-46c0-acf3-0c3f6504a412",
   "metadata": {},
   "outputs": [],
   "source": [
    "#import python libraries, like- numpy,pandas,and matplotlib.\n",
    "import numpy as np\n",
    "import pandas as pd\n",
    "import matplotlib.pyplot as plt"
   ]
  },
  {
   "cell_type": "code",
   "execution_count": 2,
   "id": "6a5c811b-86fb-4365-b958-af2470c531ec",
   "metadata": {},
   "outputs": [],
   "source": [
    "#read data from csv file,and create a dataframe, using 'read_csv()' method.\n",
    "NetflixData='netflix_titles.csv'\n",
    "NetflixDf=pd.read_csv(NetflixData)"
   ]
  },
  {
   "cell_type": "markdown",
   "id": "840d923a-66a4-4371-8652-2e40b7dc3a32",
   "metadata": {},
   "source": [
    "**Netflix Data Analysis**"
   ]
  },
  {
   "cell_type": "code",
   "execution_count": 3,
   "id": "d453f4be-b357-45ab-ae5f-0b994f7a7c1a",
   "metadata": {},
   "outputs": [
    {
     "data": {
      "text/html": [
       "<div>\n",
       "<style scoped>\n",
       "    .dataframe tbody tr th:only-of-type {\n",
       "        vertical-align: middle;\n",
       "    }\n",
       "\n",
       "    .dataframe tbody tr th {\n",
       "        vertical-align: top;\n",
       "    }\n",
       "\n",
       "    .dataframe thead th {\n",
       "        text-align: right;\n",
       "    }\n",
       "</style>\n",
       "<table border=\"1\" class=\"dataframe\">\n",
       "  <thead>\n",
       "    <tr style=\"text-align: right;\">\n",
       "      <th></th>\n",
       "      <th>show_id</th>\n",
       "      <th>type</th>\n",
       "      <th>title</th>\n",
       "      <th>director</th>\n",
       "      <th>cast</th>\n",
       "      <th>country</th>\n",
       "      <th>date_added</th>\n",
       "      <th>release_year</th>\n",
       "      <th>rating</th>\n",
       "      <th>duration</th>\n",
       "      <th>listed_in</th>\n",
       "      <th>description</th>\n",
       "    </tr>\n",
       "  </thead>\n",
       "  <tbody>\n",
       "    <tr>\n",
       "      <th>0</th>\n",
       "      <td>s1</td>\n",
       "      <td>Movie</td>\n",
       "      <td>Dick Johnson Is Dead</td>\n",
       "      <td>Kirsten Johnson</td>\n",
       "      <td>NaN</td>\n",
       "      <td>United States</td>\n",
       "      <td>September 25, 2021</td>\n",
       "      <td>2020</td>\n",
       "      <td>PG-13</td>\n",
       "      <td>90 min</td>\n",
       "      <td>Documentaries</td>\n",
       "      <td>As her father nears the end of his life, filmm...</td>\n",
       "    </tr>\n",
       "    <tr>\n",
       "      <th>1</th>\n",
       "      <td>s2</td>\n",
       "      <td>TV Show</td>\n",
       "      <td>Blood &amp; Water</td>\n",
       "      <td>NaN</td>\n",
       "      <td>Ama Qamata, Khosi Ngema, Gail Mabalane, Thaban...</td>\n",
       "      <td>South Africa</td>\n",
       "      <td>September 24, 2021</td>\n",
       "      <td>2021</td>\n",
       "      <td>TV-MA</td>\n",
       "      <td>2 Seasons</td>\n",
       "      <td>International TV Shows, TV Dramas, TV Mysteries</td>\n",
       "      <td>After crossing paths at a party, a Cape Town t...</td>\n",
       "    </tr>\n",
       "    <tr>\n",
       "      <th>2</th>\n",
       "      <td>s3</td>\n",
       "      <td>TV Show</td>\n",
       "      <td>Ganglands</td>\n",
       "      <td>Julien Leclercq</td>\n",
       "      <td>Sami Bouajila, Tracy Gotoas, Samuel Jouy, Nabi...</td>\n",
       "      <td>NaN</td>\n",
       "      <td>September 24, 2021</td>\n",
       "      <td>2021</td>\n",
       "      <td>TV-MA</td>\n",
       "      <td>1 Season</td>\n",
       "      <td>Crime TV Shows, International TV Shows, TV Act...</td>\n",
       "      <td>To protect his family from a powerful drug lor...</td>\n",
       "    </tr>\n",
       "    <tr>\n",
       "      <th>3</th>\n",
       "      <td>s4</td>\n",
       "      <td>TV Show</td>\n",
       "      <td>Jailbirds New Orleans</td>\n",
       "      <td>NaN</td>\n",
       "      <td>NaN</td>\n",
       "      <td>NaN</td>\n",
       "      <td>September 24, 2021</td>\n",
       "      <td>2021</td>\n",
       "      <td>TV-MA</td>\n",
       "      <td>1 Season</td>\n",
       "      <td>Docuseries, Reality TV</td>\n",
       "      <td>Feuds, flirtations and toilet talk go down amo...</td>\n",
       "    </tr>\n",
       "    <tr>\n",
       "      <th>4</th>\n",
       "      <td>s5</td>\n",
       "      <td>TV Show</td>\n",
       "      <td>Kota Factory</td>\n",
       "      <td>NaN</td>\n",
       "      <td>Mayur More, Jitendra Kumar, Ranjan Raj, Alam K...</td>\n",
       "      <td>India</td>\n",
       "      <td>September 24, 2021</td>\n",
       "      <td>2021</td>\n",
       "      <td>TV-MA</td>\n",
       "      <td>2 Seasons</td>\n",
       "      <td>International TV Shows, Romantic TV Shows, TV ...</td>\n",
       "      <td>In a city of coaching centers known to train I...</td>\n",
       "    </tr>\n",
       "  </tbody>\n",
       "</table>\n",
       "</div>"
      ],
      "text/plain": [
       "  show_id     type                  title         director  \\\n",
       "0      s1    Movie   Dick Johnson Is Dead  Kirsten Johnson   \n",
       "1      s2  TV Show          Blood & Water              NaN   \n",
       "2      s3  TV Show              Ganglands  Julien Leclercq   \n",
       "3      s4  TV Show  Jailbirds New Orleans              NaN   \n",
       "4      s5  TV Show           Kota Factory              NaN   \n",
       "\n",
       "                                                cast        country  \\\n",
       "0                                                NaN  United States   \n",
       "1  Ama Qamata, Khosi Ngema, Gail Mabalane, Thaban...   South Africa   \n",
       "2  Sami Bouajila, Tracy Gotoas, Samuel Jouy, Nabi...            NaN   \n",
       "3                                                NaN            NaN   \n",
       "4  Mayur More, Jitendra Kumar, Ranjan Raj, Alam K...          India   \n",
       "\n",
       "           date_added  release_year rating   duration  \\\n",
       "0  September 25, 2021          2020  PG-13     90 min   \n",
       "1  September 24, 2021          2021  TV-MA  2 Seasons   \n",
       "2  September 24, 2021          2021  TV-MA   1 Season   \n",
       "3  September 24, 2021          2021  TV-MA   1 Season   \n",
       "4  September 24, 2021          2021  TV-MA  2 Seasons   \n",
       "\n",
       "                                           listed_in  \\\n",
       "0                                      Documentaries   \n",
       "1    International TV Shows, TV Dramas, TV Mysteries   \n",
       "2  Crime TV Shows, International TV Shows, TV Act...   \n",
       "3                             Docuseries, Reality TV   \n",
       "4  International TV Shows, Romantic TV Shows, TV ...   \n",
       "\n",
       "                                         description  \n",
       "0  As her father nears the end of his life, filmm...  \n",
       "1  After crossing paths at a party, a Cape Town t...  \n",
       "2  To protect his family from a powerful drug lor...  \n",
       "3  Feuds, flirtations and toilet talk go down amo...  \n",
       "4  In a city of coaching centers known to train I...  "
      ]
     },
     "execution_count": 3,
     "metadata": {},
     "output_type": "execute_result"
    }
   ],
   "source": [
    "#head()- shows top 5 rows from data list, from given dataframe.\n",
    "NetflixDf.head()"
   ]
  },
  {
   "cell_type": "code",
   "execution_count": 4,
   "id": "aa72c442-bba2-49a8-8793-1cfaedbf17e5",
   "metadata": {},
   "outputs": [
    {
     "name": "stdout",
     "output_type": "stream",
     "text": [
      "<class 'pandas.core.frame.DataFrame'>\n",
      "RangeIndex: 8807 entries, 0 to 8806\n",
      "Data columns (total 12 columns):\n",
      " #   Column        Non-Null Count  Dtype \n",
      "---  ------        --------------  ----- \n",
      " 0   show_id       8807 non-null   object\n",
      " 1   type          8807 non-null   object\n",
      " 2   title         8807 non-null   object\n",
      " 3   director      6173 non-null   object\n",
      " 4   cast          7982 non-null   object\n",
      " 5   country       7976 non-null   object\n",
      " 6   date_added    8797 non-null   object\n",
      " 7   release_year  8807 non-null   int64 \n",
      " 8   rating        8803 non-null   object\n",
      " 9   duration      8804 non-null   object\n",
      " 10  listed_in     8807 non-null   object\n",
      " 11  description   8807 non-null   object\n",
      "dtypes: int64(1), object(11)\n",
      "memory usage: 825.8+ KB\n"
     ]
    }
   ],
   "source": [
    "# info()-returns the information(like- how many columns present, data type of each column,index etc) about\n",
    "# the given dataframe.\n",
    "NetflixDf.info()"
   ]
  },
  {
   "cell_type": "markdown",
   "id": "4cc02312-7e85-4171-8a63-1a9b9dd50a68",
   "metadata": {},
   "source": [
    "**Total data entry, 8807. Total column is 12 and row is 8807.Index starting from 0 to 8806.\n",
    "Director,cast,country,date_added,rating and duration columns have some missing values. Here, release_year column has only contain integer type data, othres have object type data.**"
   ]
  },
  {
   "cell_type": "code",
   "execution_count": 5,
   "id": "f6516bc0-9ea0-443a-ac33-e3d63a25d94e",
   "metadata": {},
   "outputs": [
    {
     "data": {
      "text/html": [
       "<div>\n",
       "<style scoped>\n",
       "    .dataframe tbody tr th:only-of-type {\n",
       "        vertical-align: middle;\n",
       "    }\n",
       "\n",
       "    .dataframe tbody tr th {\n",
       "        vertical-align: top;\n",
       "    }\n",
       "\n",
       "    .dataframe thead th {\n",
       "        text-align: right;\n",
       "    }\n",
       "</style>\n",
       "<table border=\"1\" class=\"dataframe\">\n",
       "  <thead>\n",
       "    <tr style=\"text-align: right;\">\n",
       "      <th></th>\n",
       "      <th>release_year</th>\n",
       "    </tr>\n",
       "  </thead>\n",
       "  <tbody>\n",
       "    <tr>\n",
       "      <th>count</th>\n",
       "      <td>8807.000000</td>\n",
       "    </tr>\n",
       "    <tr>\n",
       "      <th>mean</th>\n",
       "      <td>2014.180198</td>\n",
       "    </tr>\n",
       "    <tr>\n",
       "      <th>std</th>\n",
       "      <td>8.819312</td>\n",
       "    </tr>\n",
       "    <tr>\n",
       "      <th>min</th>\n",
       "      <td>1925.000000</td>\n",
       "    </tr>\n",
       "    <tr>\n",
       "      <th>25%</th>\n",
       "      <td>2013.000000</td>\n",
       "    </tr>\n",
       "    <tr>\n",
       "      <th>50%</th>\n",
       "      <td>2017.000000</td>\n",
       "    </tr>\n",
       "    <tr>\n",
       "      <th>75%</th>\n",
       "      <td>2019.000000</td>\n",
       "    </tr>\n",
       "    <tr>\n",
       "      <th>max</th>\n",
       "      <td>2021.000000</td>\n",
       "    </tr>\n",
       "  </tbody>\n",
       "</table>\n",
       "</div>"
      ],
      "text/plain": [
       "       release_year\n",
       "count   8807.000000\n",
       "mean    2014.180198\n",
       "std        8.819312\n",
       "min     1925.000000\n",
       "25%     2013.000000\n",
       "50%     2017.000000\n",
       "75%     2019.000000\n",
       "max     2021.000000"
      ]
     },
     "execution_count": 5,
     "metadata": {},
     "output_type": "execute_result"
    }
   ],
   "source": [
    "#describe()-returns the some brife description/information(like-count,mean,std,min etc) about given dataframe.\n",
    "NetflixDf.describe()"
   ]
  },
  {
   "cell_type": "code",
   "execution_count": 6,
   "id": "58c5a321-03cf-4ba5-9f74-99f233aacb2c",
   "metadata": {},
   "outputs": [
    {
     "data": {
      "text/html": [
       "<div>\n",
       "<style scoped>\n",
       "    .dataframe tbody tr th:only-of-type {\n",
       "        vertical-align: middle;\n",
       "    }\n",
       "\n",
       "    .dataframe tbody tr th {\n",
       "        vertical-align: top;\n",
       "    }\n",
       "\n",
       "    .dataframe thead th {\n",
       "        text-align: right;\n",
       "    }\n",
       "</style>\n",
       "<table border=\"1\" class=\"dataframe\">\n",
       "  <thead>\n",
       "    <tr style=\"text-align: right;\">\n",
       "      <th></th>\n",
       "      <th>show_id</th>\n",
       "      <th>type</th>\n",
       "      <th>title</th>\n",
       "      <th>director</th>\n",
       "      <th>cast</th>\n",
       "      <th>country</th>\n",
       "      <th>date_added</th>\n",
       "      <th>rating</th>\n",
       "      <th>duration</th>\n",
       "      <th>listed_in</th>\n",
       "      <th>description</th>\n",
       "    </tr>\n",
       "  </thead>\n",
       "  <tbody>\n",
       "    <tr>\n",
       "      <th>count</th>\n",
       "      <td>8807</td>\n",
       "      <td>8807</td>\n",
       "      <td>8807</td>\n",
       "      <td>6173</td>\n",
       "      <td>7982</td>\n",
       "      <td>7976</td>\n",
       "      <td>8797</td>\n",
       "      <td>8803</td>\n",
       "      <td>8804</td>\n",
       "      <td>8807</td>\n",
       "      <td>8807</td>\n",
       "    </tr>\n",
       "    <tr>\n",
       "      <th>unique</th>\n",
       "      <td>8807</td>\n",
       "      <td>2</td>\n",
       "      <td>8807</td>\n",
       "      <td>4528</td>\n",
       "      <td>7692</td>\n",
       "      <td>748</td>\n",
       "      <td>1767</td>\n",
       "      <td>17</td>\n",
       "      <td>220</td>\n",
       "      <td>514</td>\n",
       "      <td>8775</td>\n",
       "    </tr>\n",
       "    <tr>\n",
       "      <th>top</th>\n",
       "      <td>s1</td>\n",
       "      <td>Movie</td>\n",
       "      <td>Dick Johnson Is Dead</td>\n",
       "      <td>Rajiv Chilaka</td>\n",
       "      <td>David Attenborough</td>\n",
       "      <td>United States</td>\n",
       "      <td>January 1, 2020</td>\n",
       "      <td>TV-MA</td>\n",
       "      <td>1 Season</td>\n",
       "      <td>Dramas, International Movies</td>\n",
       "      <td>Paranormal activity at a lush, abandoned prope...</td>\n",
       "    </tr>\n",
       "    <tr>\n",
       "      <th>freq</th>\n",
       "      <td>1</td>\n",
       "      <td>6131</td>\n",
       "      <td>1</td>\n",
       "      <td>19</td>\n",
       "      <td>19</td>\n",
       "      <td>2818</td>\n",
       "      <td>109</td>\n",
       "      <td>3207</td>\n",
       "      <td>1793</td>\n",
       "      <td>362</td>\n",
       "      <td>4</td>\n",
       "    </tr>\n",
       "  </tbody>\n",
       "</table>\n",
       "</div>"
      ],
      "text/plain": [
       "       show_id   type                 title       director  \\\n",
       "count     8807   8807                  8807           6173   \n",
       "unique    8807      2                  8807           4528   \n",
       "top         s1  Movie  Dick Johnson Is Dead  Rajiv Chilaka   \n",
       "freq         1   6131                     1             19   \n",
       "\n",
       "                      cast        country       date_added rating  duration  \\\n",
       "count                 7982           7976             8797   8803      8804   \n",
       "unique                7692            748             1767     17       220   \n",
       "top     David Attenborough  United States  January 1, 2020  TV-MA  1 Season   \n",
       "freq                    19           2818              109   3207      1793   \n",
       "\n",
       "                           listed_in  \\\n",
       "count                           8807   \n",
       "unique                           514   \n",
       "top     Dramas, International Movies   \n",
       "freq                             362   \n",
       "\n",
       "                                              description  \n",
       "count                                                8807  \n",
       "unique                                               8775  \n",
       "top     Paranormal activity at a lush, abandoned prope...  \n",
       "freq                                                    4  "
      ]
     },
     "execution_count": 6,
     "metadata": {},
     "output_type": "execute_result"
    }
   ],
   "source": [
    "#describe(include=object)- include is parameter, object is value of the parameter,\n",
    "# which says that ,to give description from the columns in the given dataframe which contain object data types.\n",
    "NetflixDf.describe(include=object)"
   ]
  },
  {
   "cell_type": "code",
   "execution_count": 7,
   "id": "3cc3e7ad-dbaf-4439-b2b6-0327fdc1628b",
   "metadata": {},
   "outputs": [
    {
     "data": {
      "text/plain": [
       "show_id            0\n",
       "type               0\n",
       "title              0\n",
       "director        2634\n",
       "cast             825\n",
       "country          831\n",
       "date_added        10\n",
       "release_year       0\n",
       "rating             4\n",
       "duration           3\n",
       "listed_in          0\n",
       "description        0\n",
       "dtype: int64"
      ]
     },
     "execution_count": 7,
     "metadata": {},
     "output_type": "execute_result"
    }
   ],
   "source": [
    "#isnull()-returns True or False,if any null values present or not in any column. \n",
    "#sum()- calculates sum, how many null value present in the dataframe.\n",
    "NetflixDf.isnull().sum()"
   ]
  },
  {
   "cell_type": "markdown",
   "id": "027710da-fd7b-4122-a77a-d3f04358f919",
   "metadata": {},
   "source": [
    "**Here, we can see that, there are 2634,825,831,10,4 and 3 null values present in director,cast, country,date_added,rating and duration columns respectively in the dataframe.**"
   ]
  },
  {
   "cell_type": "markdown",
   "id": "8f3b2649-d8da-4f98-b784-586e0b12c289",
   "metadata": {},
   "source": [
    "**Data Cleaning**"
   ]
  },
  {
   "cell_type": "code",
   "execution_count": 8,
   "id": "94cf42ba-ae87-4ae7-8855-3f8374989b80",
   "metadata": {},
   "outputs": [
    {
     "data": {
      "text/plain": [
       "0"
      ]
     },
     "execution_count": 8,
     "metadata": {},
     "output_type": "execute_result"
    }
   ],
   "source": [
    "#duplicated()- returns True, if duplicate row is persent.\n",
    "NetflixDf.duplicated().sum()"
   ]
  },
  {
   "cell_type": "markdown",
   "id": "a2d8fbde-31f5-4c43-a6bb-a8cdb030f157",
   "metadata": {},
   "source": [
    "**duplicated().sum()- returns us 0, it's mean there is no duplicate row present in the given Dataframe**"
   ]
  },
  {
   "cell_type": "code",
   "execution_count": 9,
   "id": "c2699414-d565-4b20-92d2-b05c4b99cd58",
   "metadata": {},
   "outputs": [
    {
     "data": {
      "text/html": [
       "<div>\n",
       "<style scoped>\n",
       "    .dataframe tbody tr th:only-of-type {\n",
       "        vertical-align: middle;\n",
       "    }\n",
       "\n",
       "    .dataframe tbody tr th {\n",
       "        vertical-align: top;\n",
       "    }\n",
       "\n",
       "    .dataframe thead th {\n",
       "        text-align: right;\n",
       "    }\n",
       "</style>\n",
       "<table border=\"1\" class=\"dataframe\">\n",
       "  <thead>\n",
       "    <tr style=\"text-align: right;\">\n",
       "      <th></th>\n",
       "      <th>show_id</th>\n",
       "      <th>type</th>\n",
       "      <th>title</th>\n",
       "      <th>director</th>\n",
       "      <th>cast</th>\n",
       "      <th>country</th>\n",
       "      <th>date_added</th>\n",
       "      <th>release_year</th>\n",
       "      <th>rating</th>\n",
       "      <th>duration</th>\n",
       "      <th>listed_in</th>\n",
       "      <th>description</th>\n",
       "    </tr>\n",
       "  </thead>\n",
       "  <tbody>\n",
       "    <tr>\n",
       "      <th>0</th>\n",
       "      <td>s1</td>\n",
       "      <td>Movie</td>\n",
       "      <td>Dick Johnson Is Dead</td>\n",
       "      <td>Kirsten Johnson</td>\n",
       "      <td>NaN</td>\n",
       "      <td>United States</td>\n",
       "      <td>September 25, 2021</td>\n",
       "      <td>2020</td>\n",
       "      <td>PG-13</td>\n",
       "      <td>90 min</td>\n",
       "      <td>Documentaries</td>\n",
       "      <td>As her father nears the end of his life, filmm...</td>\n",
       "    </tr>\n",
       "    <tr>\n",
       "      <th>1</th>\n",
       "      <td>s2</td>\n",
       "      <td>TV Show</td>\n",
       "      <td>Blood &amp; Water</td>\n",
       "      <td>NaN</td>\n",
       "      <td>Ama Qamata, Khosi Ngema, Gail Mabalane, Thaban...</td>\n",
       "      <td>South Africa</td>\n",
       "      <td>September 24, 2021</td>\n",
       "      <td>2021</td>\n",
       "      <td>TV-MA</td>\n",
       "      <td>2 Seasons</td>\n",
       "      <td>International TV Shows, TV Dramas, TV Mysteries</td>\n",
       "      <td>After crossing paths at a party, a Cape Town t...</td>\n",
       "    </tr>\n",
       "  </tbody>\n",
       "</table>\n",
       "</div>"
      ],
      "text/plain": [
       "  show_id     type                 title         director  \\\n",
       "0      s1    Movie  Dick Johnson Is Dead  Kirsten Johnson   \n",
       "1      s2  TV Show         Blood & Water              NaN   \n",
       "\n",
       "                                                cast        country  \\\n",
       "0                                                NaN  United States   \n",
       "1  Ama Qamata, Khosi Ngema, Gail Mabalane, Thaban...   South Africa   \n",
       "\n",
       "           date_added  release_year rating   duration  \\\n",
       "0  September 25, 2021          2020  PG-13     90 min   \n",
       "1  September 24, 2021          2021  TV-MA  2 Seasons   \n",
       "\n",
       "                                         listed_in  \\\n",
       "0                                    Documentaries   \n",
       "1  International TV Shows, TV Dramas, TV Mysteries   \n",
       "\n",
       "                                         description  \n",
       "0  As her father nears the end of his life, filmm...  \n",
       "1  After crossing paths at a party, a Cape Town t...  "
      ]
     },
     "execution_count": 9,
     "metadata": {},
     "output_type": "execute_result"
    }
   ],
   "source": [
    "NetflixDf.head(2)"
   ]
  },
  {
   "cell_type": "markdown",
   "id": "9cc808b5-1c9e-4924-be31-924db93af4a2",
   "metadata": {},
   "source": [
    "**Using isnull() method, we see that some null values persent in the some columns. So, we start cleaning the dataframe, to get better result in analysis and visualization**"
   ]
  },
  {
   "cell_type": "code",
   "execution_count": 10,
   "id": "3eb61143-b90c-4448-b37d-8e68831c8ac9",
   "metadata": {},
   "outputs": [
    {
     "data": {
      "text/plain": [
       "0"
      ]
     },
     "execution_count": 10,
     "metadata": {},
     "output_type": "execute_result"
    }
   ],
   "source": [
    "#use fillna() method for filling null values in the director column. \n",
    "NetflixDf['director'].fillna(value='Unknown',inplace=True)\n",
    "NetflixDf['director'].isnull().sum()"
   ]
  },
  {
   "cell_type": "markdown",
   "id": "9ff33ea7-375b-4d46-9d48-539bb6e1399c",
   "metadata": {},
   "source": [
    "**2634 null values persent in the director column. If we drop all the null value columns, then it will impact a huge difference in the result. So, thats why use, fillna() method.\n",
    "Here, after filling the null values with value='Unknown', the isnull().sum() returns 0. That means, all the null values are filled.**"
   ]
  },
  {
   "cell_type": "code",
   "execution_count": 11,
   "id": "fbe8e880-21c4-46f4-bcd3-b4068598f107",
   "metadata": {},
   "outputs": [
    {
     "data": {
      "text/plain": [
       "0"
      ]
     },
     "execution_count": 11,
     "metadata": {},
     "output_type": "execute_result"
    }
   ],
   "source": [
    "#use fillna() method for filling null values in the cast column. \n",
    "NetflixDf['cast'].fillna(value='Name not mentioned',inplace=True)\n",
    "NetflixDf['cast'].isnull().sum()"
   ]
  },
  {
   "cell_type": "markdown",
   "id": "b715de87-c58e-4b2c-9c60-d54a03135e9d",
   "metadata": {},
   "source": [
    "**825 null values persent in the cast column. If we drop all the null value columns, then it will impact a huge difference in the result. So, thats why use, fillna() method.\n",
    "Here, after filling the null values with value='Name not mentioned', the isnull().sum() returns 0. That means, all the null values are filled.**"
   ]
  },
  {
   "cell_type": "code",
   "execution_count": 12,
   "id": "c21168d6-03c3-4ff3-82a8-619d6dca6196",
   "metadata": {},
   "outputs": [
    {
     "data": {
      "text/plain": [
       "0"
      ]
     },
     "execution_count": 12,
     "metadata": {},
     "output_type": "execute_result"
    }
   ],
   "source": [
    "#use fillna() method for filling null values in the country column. \n",
    "NetflixDf['country'].fillna(value='Unspecified',inplace=True)\n",
    "NetflixDf['country'].isnull().sum()"
   ]
  },
  {
   "cell_type": "code",
   "execution_count": 13,
   "id": "1ee7e4bb-22c6-4cc8-be93-f7dd41564797",
   "metadata": {},
   "outputs": [
    {
     "data": {
      "text/plain": [
       "0"
      ]
     },
     "execution_count": 13,
     "metadata": {},
     "output_type": "execute_result"
    }
   ],
   "source": [
    "#use fillna() method for filling null values in the date_added column. \n",
    "NetflixDf['date_added'].fillna(value='Not Mentioned',inplace=True)\n",
    "NetflixDf['date_added'].isnull().sum()"
   ]
  },
  {
   "cell_type": "code",
   "execution_count": 14,
   "id": "81b17259-8202-40f9-a833-5b1b2e959c08",
   "metadata": {},
   "outputs": [
    {
     "data": {
      "text/plain": [
       "0"
      ]
     },
     "execution_count": 14,
     "metadata": {},
     "output_type": "execute_result"
    }
   ],
   "source": [
    "#use fillna() method for filling null values in the rating column. \n",
    "NetflixDf['rating'].fillna(value='UR', inplace=True) #UR- means unrated\n",
    "NetflixDf['rating'].isnull().sum()"
   ]
  },
  {
   "cell_type": "code",
   "execution_count": 15,
   "id": "7887a7ab-d877-4502-b149-b5bf4cda5643",
   "metadata": {},
   "outputs": [
    {
     "name": "stdout",
     "output_type": "stream",
     "text": [
      "\n",
      "Show the rows in duration Column, which contain the null values \n"
     ]
    },
    {
     "data": {
      "text/html": [
       "<div>\n",
       "<style scoped>\n",
       "    .dataframe tbody tr th:only-of-type {\n",
       "        vertical-align: middle;\n",
       "    }\n",
       "\n",
       "    .dataframe tbody tr th {\n",
       "        vertical-align: top;\n",
       "    }\n",
       "\n",
       "    .dataframe thead th {\n",
       "        text-align: right;\n",
       "    }\n",
       "</style>\n",
       "<table border=\"1\" class=\"dataframe\">\n",
       "  <thead>\n",
       "    <tr style=\"text-align: right;\">\n",
       "      <th></th>\n",
       "      <th>show_id</th>\n",
       "      <th>type</th>\n",
       "      <th>title</th>\n",
       "      <th>director</th>\n",
       "      <th>cast</th>\n",
       "      <th>country</th>\n",
       "      <th>date_added</th>\n",
       "      <th>release_year</th>\n",
       "      <th>rating</th>\n",
       "      <th>duration</th>\n",
       "      <th>listed_in</th>\n",
       "      <th>description</th>\n",
       "    </tr>\n",
       "  </thead>\n",
       "  <tbody>\n",
       "    <tr>\n",
       "      <th>5541</th>\n",
       "      <td>s5542</td>\n",
       "      <td>Movie</td>\n",
       "      <td>Louis C.K. 2017</td>\n",
       "      <td>Louis C.K.</td>\n",
       "      <td>Louis C.K.</td>\n",
       "      <td>United States</td>\n",
       "      <td>April 4, 2017</td>\n",
       "      <td>2017</td>\n",
       "      <td>74 min</td>\n",
       "      <td>NaN</td>\n",
       "      <td>Movies</td>\n",
       "      <td>Louis C.K. muses on religion, eternal love, gi...</td>\n",
       "    </tr>\n",
       "    <tr>\n",
       "      <th>5794</th>\n",
       "      <td>s5795</td>\n",
       "      <td>Movie</td>\n",
       "      <td>Louis C.K.: Hilarious</td>\n",
       "      <td>Louis C.K.</td>\n",
       "      <td>Louis C.K.</td>\n",
       "      <td>United States</td>\n",
       "      <td>September 16, 2016</td>\n",
       "      <td>2010</td>\n",
       "      <td>84 min</td>\n",
       "      <td>NaN</td>\n",
       "      <td>Movies</td>\n",
       "      <td>Emmy-winning comedy writer Louis C.K. brings h...</td>\n",
       "    </tr>\n",
       "    <tr>\n",
       "      <th>5813</th>\n",
       "      <td>s5814</td>\n",
       "      <td>Movie</td>\n",
       "      <td>Louis C.K.: Live at the Comedy Store</td>\n",
       "      <td>Louis C.K.</td>\n",
       "      <td>Louis C.K.</td>\n",
       "      <td>United States</td>\n",
       "      <td>August 15, 2016</td>\n",
       "      <td>2015</td>\n",
       "      <td>66 min</td>\n",
       "      <td>NaN</td>\n",
       "      <td>Movies</td>\n",
       "      <td>The comic puts his trademark hilarious/thought...</td>\n",
       "    </tr>\n",
       "  </tbody>\n",
       "</table>\n",
       "</div>"
      ],
      "text/plain": [
       "     show_id   type                                 title    director  \\\n",
       "5541   s5542  Movie                       Louis C.K. 2017  Louis C.K.   \n",
       "5794   s5795  Movie                 Louis C.K.: Hilarious  Louis C.K.   \n",
       "5813   s5814  Movie  Louis C.K.: Live at the Comedy Store  Louis C.K.   \n",
       "\n",
       "            cast        country          date_added  release_year  rating  \\\n",
       "5541  Louis C.K.  United States       April 4, 2017          2017  74 min   \n",
       "5794  Louis C.K.  United States  September 16, 2016          2010  84 min   \n",
       "5813  Louis C.K.  United States     August 15, 2016          2015  66 min   \n",
       "\n",
       "     duration listed_in                                        description  \n",
       "5541      NaN    Movies  Louis C.K. muses on religion, eternal love, gi...  \n",
       "5794      NaN    Movies  Emmy-winning comedy writer Louis C.K. brings h...  \n",
       "5813      NaN    Movies  The comic puts his trademark hilarious/thought...  "
      ]
     },
     "execution_count": 15,
     "metadata": {},
     "output_type": "execute_result"
    }
   ],
   "source": [
    "print(\"\\nShow the rows in duration Column, which contain the null values \")\n",
    "NetflixDf[NetflixDf['duration'].isnull()]"
   ]
  },
  {
   "cell_type": "code",
   "execution_count": 16,
   "id": "e26b46ef-2f59-4415-a5ba-869a7c0a61f9",
   "metadata": {},
   "outputs": [
    {
     "data": {
      "text/plain": [
       "0"
      ]
     },
     "execution_count": 16,
     "metadata": {},
     "output_type": "execute_result"
    }
   ],
   "source": [
    "#use ffill() method for filling null values with the value from the previous row in the duration column. \n",
    "NetflixDf['duration'].ffill( inplace=True)\n",
    "NetflixDf['duration'].isnull().sum()"
   ]
  },
  {
   "cell_type": "code",
   "execution_count": 17,
   "id": "e894e637-a684-427e-abbc-4eb84037f507",
   "metadata": {},
   "outputs": [
    {
     "name": "stdout",
     "output_type": "stream",
     "text": [
      "<class 'pandas.core.frame.DataFrame'>\n",
      "RangeIndex: 8807 entries, 0 to 8806\n",
      "Data columns (total 12 columns):\n",
      " #   Column        Non-Null Count  Dtype \n",
      "---  ------        --------------  ----- \n",
      " 0   show_id       8807 non-null   object\n",
      " 1   type          8807 non-null   object\n",
      " 2   title         8807 non-null   object\n",
      " 3   director      8807 non-null   object\n",
      " 4   cast          8807 non-null   object\n",
      " 5   country       8807 non-null   object\n",
      " 6   date_added    8807 non-null   object\n",
      " 7   release_year  8807 non-null   int64 \n",
      " 8   rating        8807 non-null   object\n",
      " 9   duration      8807 non-null   object\n",
      " 10  listed_in     8807 non-null   object\n",
      " 11  description   8807 non-null   object\n",
      "dtypes: int64(1), object(11)\n",
      "memory usage: 825.8+ KB\n"
     ]
    }
   ],
   "source": [
    "NetflixDf.info()"
   ]
  },
  {
   "cell_type": "markdown",
   "id": "686161cd-b38f-4f7f-993c-7761798b1c93",
   "metadata": {},
   "source": [
    "**Here,using info()- we see that the data is cleaned. And 8807 numbers of information present in the all columns.**"
   ]
  },
  {
   "cell_type": "code",
   "execution_count": 18,
   "id": "bd4b8fe9-6e2d-4636-8bc5-e06c040b56b6",
   "metadata": {},
   "outputs": [
    {
     "data": {
      "text/plain": [
       "show_id         0\n",
       "type            0\n",
       "title           0\n",
       "director        0\n",
       "cast            0\n",
       "country         0\n",
       "date_added      0\n",
       "release_year    0\n",
       "rating          0\n",
       "duration        0\n",
       "listed_in       0\n",
       "description     0\n",
       "dtype: int64"
      ]
     },
     "execution_count": 18,
     "metadata": {},
     "output_type": "execute_result"
    }
   ],
   "source": [
    "NetflixDf.isnull().sum()"
   ]
  },
  {
   "cell_type": "markdown",
   "id": "fb88b522-580f-4a3c-a3d5-95ff18553099",
   "metadata": {},
   "source": [
    "**There is no null value present in the given Netflix data set.**"
   ]
  },
  {
   "cell_type": "code",
   "execution_count": 19,
   "id": "e52e0f02-6f51-47a3-af82-2ccc16cc1b34",
   "metadata": {},
   "outputs": [
    {
     "data": {
      "text/html": [
       "<div>\n",
       "<style scoped>\n",
       "    .dataframe tbody tr th:only-of-type {\n",
       "        vertical-align: middle;\n",
       "    }\n",
       "\n",
       "    .dataframe tbody tr th {\n",
       "        vertical-align: top;\n",
       "    }\n",
       "\n",
       "    .dataframe thead tr th {\n",
       "        text-align: left;\n",
       "    }\n",
       "\n",
       "    .dataframe thead tr:last-of-type th {\n",
       "        text-align: right;\n",
       "    }\n",
       "</style>\n",
       "<table border=\"1\" class=\"dataframe\">\n",
       "  <thead>\n",
       "    <tr>\n",
       "      <th></th>\n",
       "      <th>count</th>\n",
       "    </tr>\n",
       "    <tr>\n",
       "      <th></th>\n",
       "      <th>title</th>\n",
       "    </tr>\n",
       "    <tr>\n",
       "      <th>type</th>\n",
       "      <th></th>\n",
       "    </tr>\n",
       "  </thead>\n",
       "  <tbody>\n",
       "    <tr>\n",
       "      <th>Movie</th>\n",
       "      <td>6131</td>\n",
       "    </tr>\n",
       "    <tr>\n",
       "      <th>TV Show</th>\n",
       "      <td>2676</td>\n",
       "    </tr>\n",
       "  </tbody>\n",
       "</table>\n",
       "</div>"
      ],
      "text/plain": [
       "        count\n",
       "        title\n",
       "type         \n",
       "Movie    6131\n",
       "TV Show  2676"
      ]
     },
     "execution_count": 19,
     "metadata": {},
     "output_type": "execute_result"
    }
   ],
   "source": [
    "#pivot_table()- create a spreadsheet pivot table as a dataframe.\n",
    "# Here, we show that, how many types of Netflix shows present, and total number of shows in each type. \n",
    "pd.pivot_table(NetflixDf,index=['type'],values=['title'],aggfunc=[\"count\"])"
   ]
  },
  {
   "cell_type": "markdown",
   "id": "a1ff22ca-1f55-454c-815a-53235940334b",
   "metadata": {},
   "source": [
    "**2 types of Netfilx shows present. They are Movie and Tv Shows.\n",
    "6131 movies released on Netflix and 2676 TV Shows released on Netflix.**"
   ]
  },
  {
   "cell_type": "code",
   "execution_count": 20,
   "id": "70496949-338e-40fe-a620-05ba7370ff35",
   "metadata": {},
   "outputs": [
    {
     "data": {
      "image/png": "[encoded data removed]",
      "text/plain": [
       "<Figure size 640x480 with 1 Axes>"
      ]
     },
     "metadata": {},
     "output_type": "display_data"
    }
   ],
   "source": [
    "#bar-plot\n",
    "showstype_table_result=pd.pivot_table(NetflixDf,index=['type'],values=['title'],aggfunc=[\"count\"])\n",
    "showstype_table_result.plot(kind='bar',color='Hotpink')\n",
    "plt.title('Count of Movie and TV Shows on Netflix')\n",
    "plt.xlabel('Shows Type')\n",
    "plt.xticks(rotation=0)\n",
    "plt.ylabel('Count')\n",
    "plt.show()"
   ]
  },
  {
   "cell_type": "markdown",
   "id": "23d4d05e-5c7e-416d-b134-27d78daced0d",
   "metadata": {},
   "source": [
    "**Here we see in the bar plot, that Above 6000+ Movie on Netfilx, and 2000+ TV Shows on the Netflix**"
   ]
  },
  {
   "cell_type": "code",
   "execution_count": 21,
   "id": "bbcd51a8-00e4-4885-b6a3-9019f9152163",
   "metadata": {},
   "outputs": [
    {
     "data": {
      "image/png": "[encoded data removed]",
      "text/plain": [
       "<Figure size 600x800 with 1 Axes>"
      ]
     },
     "metadata": {},
     "output_type": "display_data"
    }
   ],
   "source": [
    "#Pie()-function to draw pie charts\n",
    "#Here, we show total percentage of Netfilx shows type.\n",
    "Shows_type=NetflixDf.pivot_table(index=['type'], values='title', aggfunc='count')\n",
    "values=Shows_type.values.flatten()\n",
    "Type_labels =[ 'Movie', 'TV Shows']\n",
    "plt.figure(figsize=(6, 8))\n",
    "plt.title('Pie Chart for showing percentage of Movie and TV Shows in Netflix')\n",
    "plt.pie(values, autopct='%1.2f%%',colors=[\"DarkOrchid\",\"Aqua\"])\n",
    "plt.legend(title='Types:',labels=Type_labels)\n",
    "plt.show()"
   ]
  },
  {
   "cell_type": "markdown",
   "id": "9fef9bfd-b100-4d70-b9fd-2dec8b1a3e65",
   "metadata": {},
   "source": [
    "**In the Pie Chart, We can see 69.62% is Movies and 30.38% is TV shows on Total 100%**"
   ]
  },
  {
   "cell_type": "code",
   "execution_count": 22,
   "id": "4ae1f545-e7c9-4a13-badf-515069ca2fc0",
   "metadata": {},
   "outputs": [
    {
     "data": {
      "text/html": [
       "<div>\n",
       "<style scoped>\n",
       "    .dataframe tbody tr th:only-of-type {\n",
       "        vertical-align: middle;\n",
       "    }\n",
       "\n",
       "    .dataframe tbody tr th {\n",
       "        vertical-align: top;\n",
       "    }\n",
       "\n",
       "    .dataframe thead th {\n",
       "        text-align: right;\n",
       "    }\n",
       "</style>\n",
       "<table border=\"1\" class=\"dataframe\">\n",
       "  <thead>\n",
       "    <tr style=\"text-align: right;\">\n",
       "      <th></th>\n",
       "      <th>show_id</th>\n",
       "      <th>type</th>\n",
       "      <th>title</th>\n",
       "      <th>director</th>\n",
       "      <th>cast</th>\n",
       "      <th>country</th>\n",
       "      <th>date_added</th>\n",
       "      <th>release_year</th>\n",
       "      <th>rating</th>\n",
       "      <th>duration</th>\n",
       "      <th>listed_in</th>\n",
       "      <th>description</th>\n",
       "    </tr>\n",
       "  </thead>\n",
       "  <tbody>\n",
       "    <tr>\n",
       "      <th>0</th>\n",
       "      <td>s1</td>\n",
       "      <td>Movie</td>\n",
       "      <td>Dick Johnson Is Dead</td>\n",
       "      <td>Kirsten Johnson</td>\n",
       "      <td>Name not mentioned</td>\n",
       "      <td>United States</td>\n",
       "      <td>September 25, 2021</td>\n",
       "      <td>2020</td>\n",
       "      <td>PG-13</td>\n",
       "      <td>90 min</td>\n",
       "      <td>Documentaries</td>\n",
       "      <td>As her father nears the end of his life, filmm...</td>\n",
       "    </tr>\n",
       "  </tbody>\n",
       "</table>\n",
       "</div>"
      ],
      "text/plain": [
       "  show_id   type                 title         director                cast  \\\n",
       "0      s1  Movie  Dick Johnson Is Dead  Kirsten Johnson  Name not mentioned   \n",
       "\n",
       "         country          date_added  release_year rating duration  \\\n",
       "0  United States  September 25, 2021          2020  PG-13   90 min   \n",
       "\n",
       "       listed_in                                        description  \n",
       "0  Documentaries  As her father nears the end of his life, filmm...  "
      ]
     },
     "execution_count": 22,
     "metadata": {},
     "output_type": "execute_result"
    }
   ],
   "source": [
    "NetflixDf.head(1)"
   ]
  },
  {
   "cell_type": "code",
   "execution_count": 23,
   "id": "f03130e9-e759-42d3-8245-eba1bfbc73af",
   "metadata": {},
   "outputs": [
    {
     "name": "stdout",
     "output_type": "stream",
     "text": [
      "\n",
      "In Pivot Table show Year wise released Netflix's type(Movie and TV shows) count:-\n"
     ]
    },
    {
     "data": {
      "text/html": [
       "<div>\n",
       "<style scoped>\n",
       "    .dataframe tbody tr th:only-of-type {\n",
       "        vertical-align: middle;\n",
       "    }\n",
       "\n",
       "    .dataframe tbody tr th {\n",
       "        vertical-align: top;\n",
       "    }\n",
       "\n",
       "    .dataframe thead tr th {\n",
       "        text-align: left;\n",
       "    }\n",
       "\n",
       "    .dataframe thead tr:last-of-type th {\n",
       "        text-align: right;\n",
       "    }\n",
       "</style>\n",
       "<table border=\"1\" class=\"dataframe\">\n",
       "  <thead>\n",
       "    <tr>\n",
       "      <th></th>\n",
       "      <th>count</th>\n",
       "      <th>sum</th>\n",
       "    </tr>\n",
       "    <tr>\n",
       "      <th></th>\n",
       "      <th>title</th>\n",
       "      <th>title</th>\n",
       "    </tr>\n",
       "    <tr>\n",
       "      <th>rating</th>\n",
       "      <th></th>\n",
       "      <th></th>\n",
       "    </tr>\n",
       "  </thead>\n",
       "  <tbody>\n",
       "    <tr>\n",
       "      <th>66 min</th>\n",
       "      <td>1</td>\n",
       "      <td>Louis C.K.: Live at the Comedy Store</td>\n",
       "    </tr>\n",
       "    <tr>\n",
       "      <th>74 min</th>\n",
       "      <td>1</td>\n",
       "      <td>Louis C.K. 2017</td>\n",
       "    </tr>\n",
       "    <tr>\n",
       "      <th>84 min</th>\n",
       "      <td>1</td>\n",
       "      <td>Louis C.K.: Hilarious</td>\n",
       "    </tr>\n",
       "    <tr>\n",
       "      <th>G</th>\n",
       "      <td>41</td>\n",
       "      <td>A Champion HeartHachi: A Dog's TaleMy Fair Lad...</td>\n",
       "    </tr>\n",
       "    <tr>\n",
       "      <th>NC-17</th>\n",
       "      <td>3</td>\n",
       "      <td>Swearnet: The MovieBlue Is the Warmest ColorLa...</td>\n",
       "    </tr>\n",
       "    <tr>\n",
       "      <th>NR</th>\n",
       "      <td>80</td>\n",
       "      <td>(T)ERROR13 Cameras4th Man OutA Russell Peters ...</td>\n",
       "    </tr>\n",
       "    <tr>\n",
       "      <th>PG</th>\n",
       "      <td>287</td>\n",
       "      <td>My Little Pony: A New GenerationJawsJaws 2Jaws...</td>\n",
       "    </tr>\n",
       "    <tr>\n",
       "      <th>PG-13</th>\n",
       "      <td>490</td>\n",
       "      <td>Dick Johnson Is DeadThe StarlingGrown UpsDark ...</td>\n",
       "    </tr>\n",
       "    <tr>\n",
       "      <th>R</th>\n",
       "      <td>799</td>\n",
       "      <td>Safe HouseTraining DayKateIn the CutBlade Runn...</td>\n",
       "    </tr>\n",
       "    <tr>\n",
       "      <th>TV-14</th>\n",
       "      <td>2160</td>\n",
       "      <td>The Great British Baking ShowIntrusionMonsters...</td>\n",
       "    </tr>\n",
       "    <tr>\n",
       "      <th>TV-G</th>\n",
       "      <td>220</td>\n",
       "      <td>Raja Rasoi Aur Anya KahaniyanYou vs. Wild: Out...</td>\n",
       "    </tr>\n",
       "    <tr>\n",
       "      <th>TV-MA</th>\n",
       "      <td>3207</td>\n",
       "      <td>Blood &amp; WaterGanglandsJailbirds New OrleansKot...</td>\n",
       "    </tr>\n",
       "    <tr>\n",
       "      <th>TV-PG</th>\n",
       "      <td>863</td>\n",
       "      <td>Confessions of an Invisible GirlAvvai Shanmugh...</td>\n",
       "    </tr>\n",
       "    <tr>\n",
       "      <th>TV-Y</th>\n",
       "      <td>307</td>\n",
       "      <td>Go! Go! Cory Carson: Chrissy Takes the WheelNu...</td>\n",
       "    </tr>\n",
       "    <tr>\n",
       "      <th>TV-Y7</th>\n",
       "      <td>334</td>\n",
       "      <td>Tayo and Little WizardsAngry BirdsChhota Bheem...</td>\n",
       "    </tr>\n",
       "    <tr>\n",
       "      <th>TV-Y7-FV</th>\n",
       "      <td>6</td>\n",
       "      <td>Dear DraculaLEGO Ninjago: Masters of Spinjitzu...</td>\n",
       "    </tr>\n",
       "    <tr>\n",
       "      <th>UR</th>\n",
       "      <td>7</td>\n",
       "      <td>13TH: A Conversation with Oprah Winfrey &amp; Ava ...</td>\n",
       "    </tr>\n",
       "  </tbody>\n",
       "</table>\n",
       "</div>"
      ],
      "text/plain": [
       "         count                                                sum\n",
       "         title                                              title\n",
       "rating                                                           \n",
       "66 min       1               Louis C.K.: Live at the Comedy Store\n",
       "74 min       1                                    Louis C.K. 2017\n",
       "84 min       1                              Louis C.K.: Hilarious\n",
       "G           41  A Champion HeartHachi: A Dog's TaleMy Fair Lad...\n",
       "NC-17        3  Swearnet: The MovieBlue Is the Warmest ColorLa...\n",
       "NR          80  (T)ERROR13 Cameras4th Man OutA Russell Peters ...\n",
       "PG         287  My Little Pony: A New GenerationJawsJaws 2Jaws...\n",
       "PG-13      490  Dick Johnson Is DeadThe StarlingGrown UpsDark ...\n",
       "R          799  Safe HouseTraining DayKateIn the CutBlade Runn...\n",
       "TV-14     2160  The Great British Baking ShowIntrusionMonsters...\n",
       "TV-G       220  Raja Rasoi Aur Anya KahaniyanYou vs. Wild: Out...\n",
       "TV-MA     3207  Blood & WaterGanglandsJailbirds New OrleansKot...\n",
       "TV-PG      863  Confessions of an Invisible GirlAvvai Shanmugh...\n",
       "TV-Y       307  Go! Go! Cory Carson: Chrissy Takes the WheelNu...\n",
       "TV-Y7      334  Tayo and Little WizardsAngry BirdsChhota Bheem...\n",
       "TV-Y7-FV     6  Dear DraculaLEGO Ninjago: Masters of Spinjitzu...\n",
       "UR           7  13TH: A Conversation with Oprah Winfrey & Ava ..."
      ]
     },
     "execution_count": 23,
     "metadata": {},
     "output_type": "execute_result"
    }
   ],
   "source": [
    "#Create a pivot_table, to show how many types of rating Netflix shows have received.\n",
    "print(\"\\nIn Pivot Table show Year wise released Netflix's type(Movie and TV shows) count:-\")\n",
    "pd.pivot_table(NetflixDf,index=['rating'],values=['title'],aggfunc=['count','sum'])"
   ]
  },
  {
   "cell_type": "markdown",
   "id": "b5187c1f-2164-4514-9df7-31f59a67aa26",
   "metadata": {},
   "source": [
    "**Here, we see 17 types of rating Netflix shows have received. 3207 numbers of Netflix shows get TV-MA rating.**"
   ]
  },
  {
   "cell_type": "code",
   "execution_count": 24,
   "id": "8b793f10-81dc-402c-b49f-cb8fe49821d9",
   "metadata": {},
   "outputs": [
    {
     "data": {
      "image/png": "[encoded data removed]",
      "text/plain": [
       "<Figure size 640x480 with 1 Axes>"
      ]
     },
     "metadata": {},
     "output_type": "display_data"
    }
   ],
   "source": [
    "#Use bar-plot to show rating of Netflix show types.\n",
    "Rating_wise_show=pd.pivot_table(NetflixDf,index=['rating'],values=['title'],aggfunc=['count'])\n",
    "Rating_wise_show.plot(kind='bar',color='gold')\n",
    "plt.title(\"Showing rating of Netfilx shows in Bar plot \")\n",
    "plt.xlabel(\"Type of Rating\")\n",
    "plt.ylabel(\"Total number of Rating\")\n",
    "plt.grid()\n",
    "plt.show()"
   ]
  },
  {
   "cell_type": "markdown",
   "id": "854bf94b-3aac-4fcb-9856-dc05dddeac6d",
   "metadata": {},
   "source": [
    "**Here, We see the 3207 numbers of Netflix Shows out of 8807, got TV-MA rating.**"
   ]
  },
  {
   "cell_type": "code",
   "execution_count": 25,
   "id": "d3b31dbd-dc60-44ff-a304-5f2dc79d0b0e",
   "metadata": {},
   "outputs": [
    {
     "name": "stdout",
     "output_type": "stream",
     "text": [
      "             count\n",
      "             title\n",
      "release_year      \n",
      "1925             1\n",
      "1942             2\n",
      "1943             3\n",
      "1944             3\n",
      "1945             4\n",
      "1946             2\n",
      "1947             1\n",
      "1954             2\n",
      "1955             3\n",
      "1956             2\n",
      "1958             3\n",
      "1959             1\n",
      "1960             4\n",
      "1961             1\n",
      "1962             3\n",
      "1963             2\n",
      "1964             2\n",
      "1965             2\n",
      "1966             1\n",
      "1967             5\n",
      "1968             3\n",
      "1969             2\n",
      "1970             2\n",
      "1971             5\n",
      "1972             5\n",
      "1973            10\n",
      "1974             7\n",
      "1975             7\n",
      "1976             9\n",
      "1977             7\n",
      "1978             7\n",
      "1979            11\n",
      "1980            11\n",
      "1981            13\n",
      "1982            17\n",
      "1983            11\n",
      "1984            12\n",
      "1985            10\n",
      "1986            13\n",
      "1987             8\n",
      "1988            18\n",
      "1989            16\n",
      "1990            22\n",
      "1991            17\n",
      "1992            23\n",
      "1993            28\n",
      "1994            22\n",
      "1995            25\n",
      "1996            24\n",
      "1997            38\n",
      "1998            36\n",
      "1999            39\n",
      "2000            37\n",
      "2001            45\n",
      "2002            51\n",
      "2003            61\n",
      "2004            64\n",
      "2005            80\n",
      "2006            96\n",
      "2007            88\n",
      "2008           136\n",
      "2009           152\n",
      "2010           194\n",
      "2011           185\n",
      "2012           237\n",
      "2013           288\n",
      "2014           352\n",
      "2015           560\n",
      "2016           902\n",
      "2017          1032\n",
      "2018          1147\n",
      "2019          1030\n",
      "2020           953\n",
      "2021           592\n"
     ]
    }
   ],
   "source": [
    "#Create a pivot table to show title sum according to the released year.\n",
    "release_year_pivot_table=pd.pivot_table(NetflixDf,index=['release_year'],values=['title'],aggfunc=['count'])\n",
    "#set_option()- function in pandas that allows us to set various options for controlling the behavior of the library. \n",
    "# We set value for showing all the rows according to the Released_year.\n",
    "pd.set_option('display.max_rows', None)\n",
    "print(release_year_pivot_table)"
   ]
  },
  {
   "cell_type": "code",
   "execution_count": 26,
   "id": "5fcb9634-ec28-4fac-9e53-62f70e1110c9",
   "metadata": {},
   "outputs": [
    {
     "name": "stdout",
     "output_type": "stream",
     "text": [
      "<class 'pandas.core.frame.DataFrame'>\n",
      "Index: 74 entries, 1925 to 2021\n",
      "Data columns (total 1 columns):\n",
      " #   Column          Non-Null Count  Dtype\n",
      "---  ------          --------------  -----\n",
      " 0   (count, title)  74 non-null     int64\n",
      "dtypes: int64(1)\n",
      "memory usage: 1.2 KB\n"
     ]
    }
   ],
   "source": [
    "release_year_pivot_table.info()"
   ]
  },
  {
   "cell_type": "code",
   "execution_count": 27,
   "id": "c18950d9-75ea-444b-9571-b0ba255529c3",
   "metadata": {},
   "outputs": [
    {
     "data": {
      "text/html": [
       "<div>\n",
       "<style scoped>\n",
       "    .dataframe tbody tr th:only-of-type {\n",
       "        vertical-align: middle;\n",
       "    }\n",
       "\n",
       "    .dataframe tbody tr th {\n",
       "        vertical-align: top;\n",
       "    }\n",
       "\n",
       "    .dataframe thead tr th {\n",
       "        text-align: left;\n",
       "    }\n",
       "</style>\n",
       "<table border=\"1\" class=\"dataframe\">\n",
       "  <thead>\n",
       "    <tr>\n",
       "      <th></th>\n",
       "      <th>count</th>\n",
       "    </tr>\n",
       "    <tr>\n",
       "      <th></th>\n",
       "      <th>title</th>\n",
       "    </tr>\n",
       "  </thead>\n",
       "  <tbody>\n",
       "    <tr>\n",
       "      <th>count</th>\n",
       "      <td>74.000000</td>\n",
       "    </tr>\n",
       "    <tr>\n",
       "      <th>mean</th>\n",
       "      <td>119.013514</td>\n",
       "    </tr>\n",
       "    <tr>\n",
       "      <th>std</th>\n",
       "      <td>266.982042</td>\n",
       "    </tr>\n",
       "    <tr>\n",
       "      <th>min</th>\n",
       "      <td>1.000000</td>\n",
       "    </tr>\n",
       "    <tr>\n",
       "      <th>25%</th>\n",
       "      <td>3.000000</td>\n",
       "    </tr>\n",
       "    <tr>\n",
       "      <th>50%</th>\n",
       "      <td>12.500000</td>\n",
       "    </tr>\n",
       "    <tr>\n",
       "      <th>75%</th>\n",
       "      <td>58.500000</td>\n",
       "    </tr>\n",
       "    <tr>\n",
       "      <th>max</th>\n",
       "      <td>1147.000000</td>\n",
       "    </tr>\n",
       "  </tbody>\n",
       "</table>\n",
       "</div>"
      ],
      "text/plain": [
       "             count\n",
       "             title\n",
       "count    74.000000\n",
       "mean    119.013514\n",
       "std     266.982042\n",
       "min       1.000000\n",
       "25%       3.000000\n",
       "50%      12.500000\n",
       "75%      58.500000\n",
       "max    1147.000000"
      ]
     },
     "execution_count": 27,
     "metadata": {},
     "output_type": "execute_result"
    }
   ],
   "source": [
    "release_year_pivot_table.describe()"
   ]
  },
  {
   "cell_type": "code",
   "execution_count": 34,
   "id": "364d9e29-684f-47f4-b99c-1de31e180b1e",
   "metadata": {},
   "outputs": [
    {
     "data": {
      "image/png": "[encoded data removed]",
      "text/plain": [
       "<Figure size 640x480 with 1 Axes>"
      ]
     },
     "metadata": {},
     "output_type": "display_data"
    }
   ],
   "source": [
    "# line-plot\n",
    "release_year_pivot_table.plot(kind='line',color='lime')  \n",
    "plt.title(\"Netflix shows title according to the released year\")\n",
    "plt.xlabel(\"Released_year\")\n",
    "plt.ylabel(\"Netflix_shows\")\n",
    "plt.show()"
   ]
  },
  {
   "cell_type": "markdown",
   "id": "2cf9f01e-c02a-4aae-8f94-6d147a2a227e",
   "metadata": {},
   "source": [
    "**Here, we see that, from 1925 to 2021, Netfilx has total 8807 released shows. In the Year 2018 maximun number of shows(1147) released on Netflix**"
   ]
  },
  {
   "cell_type": "code",
   "execution_count": 29,
   "id": "533ad140-3b6b-4adb-b808-49ca1ef2fbcd",
   "metadata": {},
   "outputs": [
    {
     "data": {
      "text/html": [
       "<div>\n",
       "<style scoped>\n",
       "    .dataframe tbody tr th:only-of-type {\n",
       "        vertical-align: middle;\n",
       "    }\n",
       "\n",
       "    .dataframe tbody tr th {\n",
       "        vertical-align: top;\n",
       "    }\n",
       "\n",
       "    .dataframe thead th {\n",
       "        text-align: right;\n",
       "    }\n",
       "</style>\n",
       "<table border=\"1\" class=\"dataframe\">\n",
       "  <thead>\n",
       "    <tr style=\"text-align: right;\">\n",
       "      <th></th>\n",
       "      <th>show_id</th>\n",
       "      <th>type</th>\n",
       "      <th>title</th>\n",
       "      <th>director</th>\n",
       "      <th>cast</th>\n",
       "      <th>country</th>\n",
       "      <th>date_added</th>\n",
       "      <th>rating</th>\n",
       "      <th>duration</th>\n",
       "      <th>listed_in</th>\n",
       "      <th>description</th>\n",
       "    </tr>\n",
       "  </thead>\n",
       "  <tbody>\n",
       "    <tr>\n",
       "      <th>count</th>\n",
       "      <td>8807</td>\n",
       "      <td>8807</td>\n",
       "      <td>8807</td>\n",
       "      <td>8807</td>\n",
       "      <td>8807</td>\n",
       "      <td>8807</td>\n",
       "      <td>8807</td>\n",
       "      <td>8807</td>\n",
       "      <td>8807</td>\n",
       "      <td>8807</td>\n",
       "      <td>8807</td>\n",
       "    </tr>\n",
       "    <tr>\n",
       "      <th>unique</th>\n",
       "      <td>8807</td>\n",
       "      <td>2</td>\n",
       "      <td>8807</td>\n",
       "      <td>4529</td>\n",
       "      <td>7693</td>\n",
       "      <td>749</td>\n",
       "      <td>1768</td>\n",
       "      <td>17</td>\n",
       "      <td>220</td>\n",
       "      <td>514</td>\n",
       "      <td>8775</td>\n",
       "    </tr>\n",
       "    <tr>\n",
       "      <th>top</th>\n",
       "      <td>s1</td>\n",
       "      <td>Movie</td>\n",
       "      <td>Dick Johnson Is Dead</td>\n",
       "      <td>Unknown</td>\n",
       "      <td>Name not mentioned</td>\n",
       "      <td>United States</td>\n",
       "      <td>January 1, 2020</td>\n",
       "      <td>TV-MA</td>\n",
       "      <td>1 Season</td>\n",
       "      <td>Dramas, International Movies</td>\n",
       "      <td>Paranormal activity at a lush, abandoned prope...</td>\n",
       "    </tr>\n",
       "    <tr>\n",
       "      <th>freq</th>\n",
       "      <td>1</td>\n",
       "      <td>6131</td>\n",
       "      <td>1</td>\n",
       "      <td>2634</td>\n",
       "      <td>825</td>\n",
       "      <td>2818</td>\n",
       "      <td>109</td>\n",
       "      <td>3207</td>\n",
       "      <td>1793</td>\n",
       "      <td>362</td>\n",
       "      <td>4</td>\n",
       "    </tr>\n",
       "  </tbody>\n",
       "</table>\n",
       "</div>"
      ],
      "text/plain": [
       "       show_id   type                 title director                cast  \\\n",
       "count     8807   8807                  8807     8807                8807   \n",
       "unique    8807      2                  8807     4529                7693   \n",
       "top         s1  Movie  Dick Johnson Is Dead  Unknown  Name not mentioned   \n",
       "freq         1   6131                     1     2634                 825   \n",
       "\n",
       "              country       date_added rating  duration  \\\n",
       "count            8807             8807   8807      8807   \n",
       "unique            749             1768     17       220   \n",
       "top     United States  January 1, 2020  TV-MA  1 Season   \n",
       "freq             2818              109   3207      1793   \n",
       "\n",
       "                           listed_in  \\\n",
       "count                           8807   \n",
       "unique                           514   \n",
       "top     Dramas, International Movies   \n",
       "freq                             362   \n",
       "\n",
       "                                              description  \n",
       "count                                                8807  \n",
       "unique                                               8775  \n",
       "top     Paranormal activity at a lush, abandoned prope...  \n",
       "freq                                                    4  "
      ]
     },
     "execution_count": 29,
     "metadata": {},
     "output_type": "execute_result"
    }
   ],
   "source": [
    "NetflixDf.describe(include=object)"
   ]
  },
  {
   "cell_type": "markdown",
   "id": "6aec65aa-f479-46cd-a2b0-b6a80eec645b",
   "metadata": {},
   "source": [
    "**Conclusion:-**\n",
    " After Cleaning the Netflix data set, we see there are 8807 numbers of data each column.\n",
    " After Analysis the data, we see there is 2 types of shows, one is Movies, and another is TV Shows on Netflix. Where, movie's numbers are greater than TV Shows. From United States, most of the shows(Movie or TV shows) 2818 released. 109 numbers of shows added on Netflix on 1st january,2020. "
   ]
  },
  {
   "cell_type": "code",
   "execution_count": null,
   "id": "cd645220-5e6a-498b-9a21-cddb700b38b0",
   "metadata": {},
   "outputs": [],
   "source": []
  }
 ],
 "metadata": {
  "kernelspec": {
   "display_name": "Python 3 (ipykernel)",
   "language": "python",
   "name": "python3"
  },
  "language_info": {
   "codemirror_mode": {
    "name": "ipython",
    "version": 3
   },
   "file_extension": ".py",
   "mimetype": "text/x-python",
   "name": "python",
   "nbconvert_exporter": "python",
   "pygments_lexer": "ipython3",
   "version": "3.12.0"
  }
 },
 "nbformat": 4,
 "nbformat_minor": 5
}
