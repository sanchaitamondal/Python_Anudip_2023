{
 "cells": [
  {
   "cell_type": "code",
   "execution_count": 4,
   "id": "d055787e-a27b-4de4-ab14-5f199ea8d9aa",
   "metadata": {},
   "outputs": [],
   "source": [
    "#x=input(\"Enter a name:\")"
   ]
  },
  {
   "cell_type": "code",
   "execution_count": 5,
   "id": "faed449a-744c-4f39-8efc-32d39295912e",
   "metadata": {},
   "outputs": [
    {
     "name": "stdout",
     "output_type": "stream",
     "text": [
      "anu\n"
     ]
    }
   ],
   "source": [
    "print(x)"
   ]
  },
  {
   "cell_type": "code",
   "execution_count": 6,
   "id": "c069ae57-789e-4381-8ab4-9319c0a826a5",
   "metadata": {},
   "outputs": [
    {
     "name": "stdin",
     "output_type": "stream",
     "text": [
      "NAME: swagata\n"
     ]
    },
    {
     "name": "stdout",
     "output_type": "stream",
     "text": [
      "swagata\n"
     ]
    }
   ],
   "source": [
    "#input and print\n",
    "x=input(\"NAME:\")\n",
    "print(x)"
   ]
  },
  {
   "cell_type": "code",
   "execution_count": null,
   "id": "b8539030-9310-418d-baaf-a82daf66f536",
   "metadata": {},
   "outputs": [],
   "source": []
  }
 ],
 "metadata": {
  "kernelspec": {
   "display_name": "Python 3 (ipykernel)",
   "language": "python",
   "name": "python3"
  },
  "language_info": {
   "codemirror_mode": {
    "name": "ipython",
    "version": 3
   },
   "file_extension": ".py",
   "mimetype": "text/x-python",
   "name": "python",
   "nbconvert_exporter": "python",
   "pygments_lexer": "ipython3",
   "version": "3.12.0"
  }
 },
 "nbformat": 4,
 "nbformat_minor": 5
}
