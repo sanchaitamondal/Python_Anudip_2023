{
 "cells": [
  {
   "cell_type": "code",
   "execution_count": 1,
   "id": "82b4aca2-d3a0-4698-b8c0-c68eed81a0ca",
   "metadata": {},
   "outputs": [],
   "source": [
    "#oprator and convertion"
   ]
  },
  {
   "cell_type": "code",
   "execution_count": 2,
   "id": "16221fa1-a884-42a2-8216-8828c8c43c14",
   "metadata": {},
   "outputs": [
    {
     "name": "stdin",
     "output_type": "stream",
     "text": [
      "Enter 1st number: 36\n",
      "Enter 2nd number: 69\n"
     ]
    }
   ],
   "source": [
    "#1.In python inputs are always String\n",
    "a=input(\"Enter 1st number:\")\n",
    "b=input(\"Enter 2nd number:\")"
   ]
  },
  {
   "cell_type": "code",
   "execution_count": 3,
   "id": "8dde7943-8136-4183-9068-7470c1041ab8",
   "metadata": {},
   "outputs": [],
   "source": [
    "# Converts our inputs(String) into interger using int() function\n",
    "x=int(a)\n",
    "y=int(b)"
   ]
  },
  {
   "cell_type": "code",
   "execution_count": 4,
   "id": "3ab5f757-9b76-424c-81e7-4ae4c053d5d9",
   "metadata": {},
   "outputs": [],
   "source": [
    "# Use mathematical operation in x and y.\n",
    "z=x+y"
   ]
  },
  {
   "cell_type": "code",
   "execution_count": 6,
   "id": "370fdb04-1f64-49ad-8dc2-ae4d84656801",
   "metadata": {},
   "outputs": [
    {
     "name": "stdout",
     "output_type": "stream",
     "text": [
      "105\n",
      "<class 'int'>\n"
     ]
    }
   ],
   "source": [
    "print(z)\n",
    "print(type(z)) # type() function uses for checking the type of the variable"
   ]
  },
  {
   "cell_type": "code",
   "execution_count": 13,
   "id": "f05a6991-39d0-4b4a-a286-24e7a26479d5",
   "metadata": {},
   "outputs": [
    {
     "name": "stdout",
     "output_type": "stream",
     "text": [
      "<class 'str'>\n",
      "Sum of Two intergers :105\n"
     ]
    }
   ],
   "source": [
    "# Converts our output(integer) into string using str() function\n",
    "c=str(z)\n",
    "print(type(c))\n",
    "print(\"Sum of Two intergers :\"+c)\n",
    " "
   ]
  },
  {
   "cell_type": "code",
   "execution_count": 16,
   "id": "c6b489bf-649d-4c7b-9fce-8f95873af062",
   "metadata": {},
   "outputs": [
    {
     "name": "stdin",
     "output_type": "stream",
     "text": [
      "Enter 1st number: 64\n",
      "Enter 2nd number: 31\n"
     ]
    },
    {
     "name": "stdout",
     "output_type": "stream",
     "text": [
      "Sum of Two intergers : 95\n",
      "Sum of Two intergers :95\n"
     ]
    }
   ],
   "source": [
    "#OR, 1.Shorthand integer input\n",
    "a=int(input(\"Enter 1st number:\"))\n",
    "b=int(input(\"Enter 2nd number:\"))\n",
    "c=a+b\n",
    "print(\"Sum of Two intergers :\",c) #this c is integer type\n",
    "print(\"Sum of Two intergers :\"+str(c)) #this c is converted  into string type using str()"
   ]
  },
  {
   "cell_type": "code",
   "execution_count": 24,
   "id": "32168b06-d3a2-4052-99ad-900f970337ba",
   "metadata": {},
   "outputs": [
    {
     "name": "stdin",
     "output_type": "stream",
     "text": [
      "Enter the Radius: 4\n"
     ]
    },
    {
     "name": "stdout",
     "output_type": "stream",
     "text": [
      "Perimeter: %.4f25.12Meter\n",
      "Area:50.24Squaremeter\n"
     ]
    }
   ],
   "source": [
    "#2.write a program that will accept the radius of a circle, then display its perimeter and area.\n",
    "r=float(input(\"Enter the Radius:\")) #input from keyboard\n",
    "p=2*3.14*r #for calculate Perimeter of a circle\n",
    "a=3.14*pow(r,2) #for calculate Area of a circle\n",
    "print(\"Perimeter:\" +str(p)+\"Meter\")\n",
    "print(\"Area:\"+str(a)+\"Squaremeter\")"
   ]
  },
  {
   "cell_type": "code",
   "execution_count": 34,
   "id": "23d22a16-4450-4f55-ba5e-b33f1273afc4",
   "metadata": {},
   "outputs": [
    {
     "name": "stdin",
     "output_type": "stream",
     "text": [
      "Enter kilometer:  21.7\n"
     ]
    },
    {
     "name": "stdout",
     "output_type": "stream",
     "text": [
      "21.7 Kilometer = 7.0 Mile\n",
      "3.14\n"
     ]
    }
   ],
   "source": [
    "#3.Write a program to convert kilometer to miles. (1mile=3.1km)or(1km=1/3.1mile)\n",
    "km=float(input(\"Enter kilometer: \"))\n",
    "mile=km/3.1\n",
    "print(str(km),\"Kilometer =\",str(mile),\"Mile\")\n",
    "#print(\"%0.2f\" % 3.14159)\n"
   ]
  },
  {
   "cell_type": "code",
   "execution_count": 35,
   "id": "b626910d-6832-4eb7-a2e3-15042d494d61",
   "metadata": {},
   "outputs": [
    {
     "name": "stdin",
     "output_type": "stream",
     "text": [
      "Principal Amount: 15000\n",
      "Rate of Interest: 2.5\n",
      "Year: 5\n"
     ]
    },
    {
     "name": "stdout",
     "output_type": "stream",
     "text": [
      "Simple Interest of the amount  15000.0 is 14648.4375\n"
     ]
    }
   ],
   "source": [
    "# 4.Accept a principal amount,Accept rate of interest,Find total interest\n",
    "p=float(input(\"Principal Amount:\"))\n",
    "r=float(input(\"Rate of Interest:\"))\n",
    "t=float(input(\"Year:\"))\n",
    "si=(p*r**t)/100\n",
    "print(\"Simple Interest of the amount \",p,\"is\",si)"
   ]
  },
  {
   "cell_type": "code",
   "execution_count": null,
   "id": "4920a76d-4500-4def-80d3-b0f38cde5145",
   "metadata": {},
   "outputs": [],
   "source": []
  }
 ],
 "metadata": {
  "kernelspec": {
   "display_name": "Python 3 (ipykernel)",
   "language": "python",
   "name": "python3"
  },
  "language_info": {
   "codemirror_mode": {
    "name": "ipython",
    "version": 3
   },
   "file_extension": ".py",
   "mimetype": "text/x-python",
   "name": "python",
   "nbconvert_exporter": "python",
   "pygments_lexer": "ipython3",
   "version": "3.12.0"
  }
 },
 "nbformat": 4,
 "nbformat_minor": 5
}
