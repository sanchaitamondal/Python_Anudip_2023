{
 "cells": [
  {
   "cell_type": "code",
   "execution_count": null,
   "id": "6599a1ca-cdcc-41c5-8094-c3d50ba68856",
   "metadata": {},
   "outputs": [],
   "source": [
    "#If-Else condition"
   ]
  },
  {
   "cell_type": "code",
   "execution_count": 4,
   "id": "61183022-a8d0-4647-bdb0-ef148046a35c",
   "metadata": {},
   "outputs": [
    {
     "name": "stdin",
     "output_type": "stream",
     "text": [
      "Enter number: 88\n"
     ]
    },
    {
     "name": "stdout",
     "output_type": "stream",
     "text": [
      "88 is a even number\n"
     ]
    }
   ],
   "source": [
    "# 1.Write a Python application that will accept a number & say odd or even using if-else condition\n",
    "def oddEven():\n",
    "    n=int(input(\"Enter number:\"))\n",
    "    if n%2==0:\n",
    "        print(n,\"is a even number\")\n",
    "    else:\n",
    "        print(n,\"is a odd number\")   \n",
    "oddEven()    "
   ]
  },
  {
   "cell_type": "code",
   "execution_count": 13,
   "id": "3bb57993-6427-4ab4-8495-0e951ec670e4",
   "metadata": {},
   "outputs": [
    {
     "name": "stdin",
     "output_type": "stream",
     "text": [
      "1st Number : 12\n",
      "2nd Number : 13\n",
      "Enter the operation: +/-/*// %\n"
     ]
    },
    {
     "name": "stdout",
     "output_type": "stream",
     "text": [
      "This is error\n"
     ]
    }
   ],
   "source": [
    "# 2.Make a Calculator using if-elif-else condition\n",
    "def calculator():\n",
    "    n1=float(input(\"1st Number :\"))\n",
    "    n2=float(input(\"2nd Number :\"))\n",
    "    operation=input(\"Enter the operation: +/-/*//\")\n",
    "    if operation=='+':\n",
    "        a=n1+n2\n",
    "        print(\"Addition:\",a)\n",
    "    elif operation=='-':\n",
    "        s=n1-n2\n",
    "        print(\"SubStraction:\",s)\n",
    "    elif operation=='*':\n",
    "        m=n1*n2\n",
    "        print(\"Multiplication:\",m)\n",
    "    elif operation=='/':\n",
    "        d=n1/n2\n",
    "        print(\"Divison:\",d)\n",
    "    else:\n",
    "        print(\"This is error\")\n",
    "calculator()"
   ]
  },
  {
   "cell_type": "code",
   "execution_count": 15,
   "id": "d67d64fe-7f8c-45d4-97b3-7d51387d364d",
   "metadata": {},
   "outputs": [
    {
     "name": "stdin",
     "output_type": "stream",
     "text": [
      "Enter 1st number: 89\n",
      "Enter 2nd number: 45\n"
     ]
    },
    {
     "name": "stdout",
     "output_type": "stream",
     "text": [
      "89 is greater than 45\n"
     ]
    }
   ],
   "source": [
    "# 3.Check if two number is greater than or less than or equal ,using if-elif-else condition\n",
    "# a>b ==> a-b>b-b ==> a-b>0\n",
    "def checkGreaterLessEqual():\n",
    "    a=int(input(\"Enter 1st number:\"))   \n",
    "    b=int(input(\"Enter 2nd number:\"))\n",
    "    if a-b>0:\n",
    "        print(a,\"is greater than\",b)\n",
    "    elif a-b<0:\n",
    "        print(b,\"is grater than\",a)\n",
    "    else:\n",
    "        print(a,\"and\",b, \"is equal number\")\n",
    "checkGreaterLessEqual()"
   ]
  },
  {
   "cell_type": "code",
   "execution_count": 34,
   "id": "dc173ecd-2cf3-4cf7-9fb5-d0c711381525",
   "metadata": {},
   "outputs": [
    {
     "name": "stdin",
     "output_type": "stream",
     "text": [
      "Enter User name: anu@gmail.com\n",
      "Enter Password : anu11\n"
     ]
    },
    {
     "name": "stdout",
     "output_type": "stream",
     "text": [
      "Login is successful\n"
     ]
    }
   ],
   "source": [
    "# 4.Develop a simple login system. Ask the user to enter a username and password,\n",
    "#and then check if they match a predefined username and password.\n",
    "#Print a success message if the login is successful, otherwise print an error message.\n",
    "\n",
    "def login_system():\n",
    "    #Define original user and password\n",
    "    userName=\"8768590677\"\n",
    "    password=\"anu11\"\n",
    "    \n",
    "    #taking the user input\n",
    "    enterName=input(\"Enter User name:\")\n",
    "    \n",
    "    if enterName==userName:\n",
    "        enterpassword=input(\"Enter Password :\")\n",
    "        if enterpassword==password:\n",
    "            print(\"Login is successful\")\n",
    "        else:\n",
    "            print(\"Login failed\")\n",
    "    else:\n",
    "        print(\"User not vaild\")\n",
    "login_system()"
   ]
  },
  {
   "cell_type": "code",
   "execution_count": 42,
   "id": "9f28fff9-9c34-447e-b68c-76bdcda849ea",
   "metadata": {},
   "outputs": [
    {
     "name": "stdin",
     "output_type": "stream",
     "text": [
      "Enter 1st angle 65\n",
      "Enter 2nd angle 55\n",
      "Enter 3rd angle 60\n"
     ]
    },
    {
     "name": "stdout",
     "output_type": "stream",
     "text": [
      "Yes, 65 , 55 and 60 degree angles can form a Triangle\n",
      "It is form a scalene triangle\n"
     ]
    }
   ],
   "source": [
    "# 5.Given three angles, determine if they can form a triangle.\n",
    "# If they can, classify the triangle as equilateral, isosceles, or scalene.\n",
    "def angle_determine():\n",
    "    angle1=int(input(\"Enter 1st angle\"))\n",
    "    angle2=int(input(\"Enter 2nd angle\"))\n",
    "    angle3=int(input(\"Enter 3rd angle\"))\n",
    "    if (angle1+angle2+angle3)==180:\n",
    "        print(\"Yes,\",angle1,\",\",angle2,\"and\",angle3,\"degree angles can form a Triangle\")\n",
    "        if angle1==60 and angle2==60 and angle3==60:\n",
    "            print(\"It is form a equilateral triangle\")\n",
    "        elif angle1==angle2 or angle2==angle3 or angle3==angle1:\n",
    "            print(\"It is form a isosceles triangle\")\n",
    "        else:\n",
    "            print(\"It is form a scalene triangle\")\n",
    "    else:\n",
    "        print(\"This angles can not form a triangle\")\n",
    "angle_determine()    "
   ]
  },
  {
   "cell_type": "code",
   "execution_count": 19,
   "id": "bf068d5a-f130-4a62-8132-622640ffe059",
   "metadata": {},
   "outputs": [
    {
     "name": "stdin",
     "output_type": "stream",
     "text": [
      "Enter a letter : 5\n"
     ]
    },
    {
     "name": "stdout",
     "output_type": "stream",
     "text": [
      "Wrong input\n"
     ]
    }
   ],
   "source": [
    "#6. Write a program that takes a character (a single letter) as input and prints whether it is a vowel or a consonant.\n",
    "def vowel_consonant():\n",
    "    letter=input(\"Enter a letter :\")\n",
    "    vowels=['a','e','i','o','u']  #making a list with all vowels.\n",
    "    if len(letter)==1 and letter.isalpha():\n",
    "        if letter in vowels:\n",
    "            print(\"It is a Vowel.\")\n",
    "        else:\n",
    "            print(\"It is a Consonant.\")\n",
    "    else:\n",
    "        print(\"Wrong input\")\n",
    "vowel_consonant()"
   ]
  },
  {
   "cell_type": "code",
   "execution_count": 25,
   "id": "68eee56d-e48f-4027-9385-4c69c54fab7d",
   "metadata": {},
   "outputs": [
    {
     "name": "stdin",
     "output_type": "stream",
     "text": [
      "Enter a number: -5\n"
     ]
    },
    {
     "name": "stdout",
     "output_type": "stream",
     "text": [
      "-5 is a Negative number\n"
     ]
    }
   ],
   "source": [
    "#7. Create a program that determines whether a given number is positive, negative, or zero.\n",
    "number=int(input(\"Enter a number:\"))\n",
    "if number>0:\n",
    "    print(number,\"is a Positive number\")\n",
    "elif number==0:\n",
    "    print(number,\"is Zero\")\n",
    "else:\n",
    "    print(number,\"is a Negative number\")"
   ]
  },
  {
   "cell_type": "code",
   "execution_count": 50,
   "id": "bda37f09-6227-4509-8cad-cfd537a41e6f",
   "metadata": {},
   "outputs": [
    {
     "name": "stdin",
     "output_type": "stream",
     "text": [
      "Enter the numbers: 12365\n"
     ]
    },
    {
     "name": "stdout",
     "output_type": "stream",
     "text": [
      "12365\n",
      "12365\n"
     ]
    }
   ],
   "source": [
    "#8. Write a python program to calculate the maximum odd value from string input.\n",
    "num_input=(input(\"Enter the numbers:\"))\n",
    "\n",
    "x=''\n",
    "if len(num_input)==5:\n",
    "    if x in num_input:\n",
    "        print(num_input)\n",
    "        num_input=x+num_input\n",
    "    print(num_input)"
   ]
  },
  {
   "cell_type": "code",
   "execution_count": null,
   "id": "408d0fb7-8888-4244-bb92-c62320765c4b",
   "metadata": {},
   "outputs": [],
   "source": []
  }
 ],
 "metadata": {
  "kernelspec": {
   "display_name": "Python 3 (ipykernel)",
   "language": "python",
   "name": "python3"
  },
  "language_info": {
   "codemirror_mode": {
    "name": "ipython",
    "version": 3
   },
   "file_extension": ".py",
   "mimetype": "text/x-python",
   "name": "python",
   "nbconvert_exporter": "python",
   "pygments_lexer": "ipython3",
   "version": "3.12.0"
  }
 },
 "nbformat": 4,
 "nbformat_minor": 5
}
