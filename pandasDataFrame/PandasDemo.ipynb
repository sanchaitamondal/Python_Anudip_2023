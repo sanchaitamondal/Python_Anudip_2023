{
 "cells": [
  {
   "cell_type": "code",
   "execution_count": 1,
   "id": "bac2d52d-c119-4f9c-93b0-88ad590c5149",
   "metadata": {},
   "outputs": [],
   "source": [
    "import pandas as pd"
   ]
  },
  {
   "cell_type": "code",
   "execution_count": 2,
   "id": "633af5b5-17b7-4a1c-8473-5f73151a659b",
   "metadata": {},
   "outputs": [
    {
     "name": "stdout",
     "output_type": "stream",
     "text": [
      "2.1.3\n"
     ]
    }
   ],
   "source": [
    "#checking the version of pandas\n",
    "print(pd.__version__)"
   ]
  },
  {
   "cell_type": "code",
   "execution_count": 3,
   "id": "8511b31f-d9c9-443a-b5c7-131b0e2a91e5",
   "metadata": {},
   "outputs": [
    {
     "name": "stdout",
     "output_type": "stream",
     "text": [
      "0    11\n",
      "1    12\n",
      "2    13\n",
      "3    14\n",
      "4    15\n",
      "dtype: int64\n"
     ]
    }
   ],
   "source": [
    "data = [11,12,13,14,15]\n",
    "series = pd.Series(data)\n",
    "print(series)"
   ]
  },
  {
   "cell_type": "code",
   "execution_count": 4,
   "id": "65a7da74-4e95-495f-9b19-355fd3f643d5",
   "metadata": {},
   "outputs": [
    {
     "name": "stdout",
     "output_type": "stream",
     "text": [
      "Jan     1700\n",
      "Feb     3679\n",
      "Mar     4011\n",
      "Apr     7586\n",
      "May     5077\n",
      "Jun     2589\n",
      "Jul     6291\n",
      "Aug     6388\n",
      "Sep     3789\n",
      "Oct    10000\n",
      "Nov     5389\n",
      "Dec     1500\n",
      "Name: Monthly Sales, dtype: int64\n"
     ]
    }
   ],
   "source": [
    "months = ['Jan','Feb','Mar','Apr','May','Jun','Jul','Aug','Sep','Oct','Nov','Dec']\n",
    "#monthly sale data for a product\n",
    "sales = [1700,3679,4011,7586,5077,2589,6291,6388,3789,10000,5389,1500]\n",
    "\n",
    "sales_series = pd.Series(sales,index=months,name='Monthly Sales')\n",
    "print(sales_series)"
   ]
  },
  {
   "cell_type": "code",
   "execution_count": 11,
   "id": "27bd3135-8ea9-4db1-82c9-91932ae42a3d",
   "metadata": {},
   "outputs": [
    {
     "name": "stdout",
     "output_type": "stream",
     "text": [
      "     Name  Age\n",
      "0   Reena   26\n",
      "1   Meena   28\n",
      "2  Anuska   25\n",
      "3   Teena   24\n"
     ]
    }
   ],
   "source": [
    "data = {'Name':['Reena','Meena','Anuska','Teena'],\n",
    "    'Age':[26,28,25,24]\n",
    "}\n",
    "\n",
    "#create a dataframe from a dict\n",
    "df = pd.DataFrame(data)\n",
    "print(df)\n"
   ]
  },
  {
   "cell_type": "code",
   "execution_count": 12,
   "id": "36a193a9-2af0-476b-b0a1-6979d476b3b8",
   "metadata": {},
   "outputs": [
    {
     "name": "stdout",
     "output_type": "stream",
     "text": [
      "     Name  Age  State\n",
      "0   Reena   26     WB\n",
      "1   Meena   28  Bihar\n",
      "2  Anuska   25     MP\n",
      "3   Teena   24     UP\n"
     ]
    }
   ],
   "source": [
    "#Add a new columns state\n",
    "df['State'] = ['WB','Bihar','MP','UP']\n",
    "print(df)"
   ]
  },
  {
   "cell_type": "code",
   "execution_count": 13,
   "id": "6b5c8c86-389b-4c48-aabc-1555fff2597a",
   "metadata": {},
   "outputs": [
    {
     "name": "stdout",
     "output_type": "stream",
     "text": [
      "     Name  Age  Gender  State       City\n",
      "0   Reena   26  Female     WB    Kolkata\n",
      "1   Meena   28  Female  Bihar      Patna\n",
      "2  Anuska   25  Female     MP     Bhopal\n",
      "3   Teena   24  Female     UP  Ghaziabad\n"
     ]
    }
   ],
   "source": [
    "new_columns = {\n",
    "    'city':['Kolkata','Patna','Bhopal','Ghaziabad'],\n",
    "    'gender':['Female','Female','Female','Female']\n",
    "}\n",
    "df['City'] = new_columns['city']\n",
    "#df['Gender'] = new_columns['gender']\n",
    "#df.insert(col_index,column_name,column_data)\n",
    "df.insert(2,'Gender',new_columns['gender'])\n",
    "\n",
    "print(df)"
   ]
  },
  {
   "cell_type": "code",
   "execution_count": 14,
   "id": "2cdda2b5-e2fc-4305-af9d-6c559d4b68f6",
   "metadata": {},
   "outputs": [
    {
     "name": "stdout",
     "output_type": "stream",
     "text": [
      "     Name  Age  Gender  State       City\n",
      "0   Reena   26  Female     WB    Kolkata\n",
      "1   Meena   28  Female  Bihar      Patna\n",
      "2  Anuska   25  Female     MP     Bhopal\n",
      "3   Teena   24  Female     UP  Ghaziabad\n",
      "4   Ankit   26    Male  Delhi  New Delhi\n"
     ]
    }
   ],
   "source": [
    "#to add a new row to the dataframe\n",
    "#pd.concat(obj)\n",
    "data = {'Name':['Ankit'],'Age':[26],'Gender':['Male'],'State':['Delhi'],'City':['New Delhi']}\n",
    "new_row = pd.DataFrame(data)\n",
    "\n",
    "\n",
    "df = pd.concat([df,new_row],ignore_index=True)\n",
    "print(df)"
   ]
  },
  {
   "cell_type": "code",
   "execution_count": 15,
   "id": "53e19261-92e7-4708-9822-96f177fb599e",
   "metadata": {},
   "outputs": [
    {
     "name": "stdout",
     "output_type": "stream",
     "text": [
      "     Name  Age  Gender   State       City\n",
      "0   Reena   26  Female      WB    Kolkata\n",
      "1   Meena   28  Female   Bihar      Patna\n",
      "2  Anuska   25  Female      MP     Bhopal\n",
      "3   Teena   24  Female      UP  Ghaziabad\n",
      "4   Ankit   26    Male   Delhi  New Delhi\n",
      "5   Rohan   26    Male   Delhi  New Delhi\n",
      "6    Amit   23    Male  Punjab   Amritsar\n"
     ]
    }
   ],
   "source": [
    "#to add multiple rows in a dataframe\n",
    "data = {'Name':['Rohan','Amit'],\n",
    "        'Age':[26,23],\n",
    "        'Gender':['Male','Male'],\n",
    "        'State':['Delhi','Punjab'],\n",
    "        'City':['New Delhi','Amritsar']}\n",
    "new_rows = pd.DataFrame(data)\n",
    "\n",
    "\n",
    "df = pd.concat([df,new_rows],ignore_index=True)\n",
    "print(df)"
   ]
  },
  {
   "cell_type": "code",
   "execution_count": 18,
   "id": "a4fa8b43-7110-4b87-aee4-2e1de65fa072",
   "metadata": {},
   "outputs": [
    {
     "name": "stdout",
     "output_type": "stream",
     "text": [
      "     Name  Age  Gender   State       City\n",
      "0   Reena   26  Female      WB    Kolkata\n",
      "1   Meena   28  Female   Bihar      Patna\n",
      "2  Anuska   25  Female      MP     Bhopal\n",
      "3   Priya   28  Female      WB    Kolkata\n",
      "4   Teena   24  Female      UP  Ghaziabad\n",
      "5   Ankit   26    Male   Delhi  New Delhi\n",
      "6   Rohan   26    Male   Delhi  New Delhi\n",
      "7    Amit   23    Male  Punjab   Amritsar\n"
     ]
    }
   ],
   "source": [
    "#insert a new record in a specified position\n",
    "# DataFrame.loc[pos]\n",
    "data = {'Name':'Priya','Age':28,'Gender':'Female','State':'WB','City':'Kolkata'}\n",
    "\n",
    "df.loc[2.5] = data #This will insert at index 3\n",
    "df = df.sort_index().reset_index(drop=True)\n",
    "\n",
    "print(df)"
   ]
  },
  {
   "cell_type": "code",
   "execution_count": null,
   "id": "052ce633-586b-4930-b77a-e691f7fbeb6f",
   "metadata": {},
   "outputs": [],
   "source": []
  }
 ],
 "metadata": {
  "kernelspec": {
   "display_name": "Python 3 (ipykernel)",
   "language": "python",
   "name": "python3"
  },
  "language_info": {
   "codemirror_mode": {
    "name": "ipython",
    "version": 3
   },
   "file_extension": ".py",
   "mimetype": "text/x-python",
   "name": "python",
   "nbconvert_exporter": "python",
   "pygments_lexer": "ipython3",
   "version": "3.12.0"
  }
 },
 "nbformat": 4,
 "nbformat_minor": 5
}
