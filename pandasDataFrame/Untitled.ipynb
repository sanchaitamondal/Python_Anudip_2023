{
 "cells": [
  {
   "cell_type": "code",
   "execution_count": 1,
   "id": "8c4f991e-c1ac-4e2e-bc71-abcd2c9159ec",
   "metadata": {},
   "outputs": [],
   "source": [
    "import pandas as pd"
   ]
  },
  {
   "cell_type": "code",
   "execution_count": 4,
   "id": "00b1b67a-cfe3-466e-8e3f-8fd06d7f2710",
   "metadata": {},
   "outputs": [
    {
     "name": "stdout",
     "output_type": "stream",
     "text": [
      "   Student ID            Name  Age Grade        Major   GPA City\n",
      "0           1     Paula Singh   23     B      Biology  2.52  LUS\n",
      "1           2  Louis Robinson   21     A      English  3.66  KQK\n",
      "2           3    Nora Krueger   18     B      English  3.95  EPV\n",
      "3           4     Jones Myers   19     C  Mathematics  3.94  CUR\n",
      "4           5      Lydia Leon   21     D  Mathematics  3.43  AER\n"
     ]
    }
   ],
   "source": [
    "df=pd.read_csv(\"student_data.csv\")\n",
    "print(df.head())"
   ]
  },
  {
   "cell_type": "code",
   "execution_count": 6,
   "id": "a924c129-c131-4749-9efd-06822341fe2c",
   "metadata": {},
   "outputs": [
    {
     "name": "stdout",
     "output_type": "stream",
     "text": [
      "Index(['Student ID', 'Name', 'Age', 'Grade', 'Major', 'GPA', 'City'], dtype='object')\n"
     ]
    }
   ],
   "source": [
    "print(df.columns)"
   ]
  },
  {
   "cell_type": "code",
   "execution_count": 7,
   "id": "4cd43cd8-94d0-4a18-a195-6ad53dc33bfc",
   "metadata": {},
   "outputs": [
    {
     "name": "stdout",
     "output_type": "stream",
     "text": [
      "<class 'pandas.core.frame.DataFrame'>\n",
      "RangeIndex: 106 entries, 0 to 105\n",
      "Data columns (total 7 columns):\n",
      " #   Column      Non-Null Count  Dtype  \n",
      "---  ------      --------------  -----  \n",
      " 0   Student ID  106 non-null    int64  \n",
      " 1   Name        105 non-null    object \n",
      " 2   Age         106 non-null    int64  \n",
      " 3   Grade       105 non-null    object \n",
      " 4   Major       105 non-null    object \n",
      " 5   GPA         106 non-null    float64\n",
      " 6   City        105 non-null    object \n",
      "dtypes: float64(1), int64(2), object(4)\n",
      "memory usage: 5.9+ KB\n"
     ]
    }
   ],
   "source": [
    "df.info()"
   ]
  },
  {
   "cell_type": "code",
   "execution_count": null,
   "id": "f52b6f59-297e-4092-b85e-f5213aca0b6e",
   "metadata": {},
   "outputs": [],
   "source": []
  }
 ],
 "metadata": {
  "kernelspec": {
   "display_name": "Python 3 (ipykernel)",
   "language": "python",
   "name": "python3"
  },
  "language_info": {
   "codemirror_mode": {
    "name": "ipython",
    "version": 3
   },
   "file_extension": ".py",
   "mimetype": "text/x-python",
   "name": "python",
   "nbconvert_exporter": "python",
   "pygments_lexer": "ipython3",
   "version": "3.12.0"
  }
 },
 "nbformat": 4,
 "nbformat_minor": 5
}
