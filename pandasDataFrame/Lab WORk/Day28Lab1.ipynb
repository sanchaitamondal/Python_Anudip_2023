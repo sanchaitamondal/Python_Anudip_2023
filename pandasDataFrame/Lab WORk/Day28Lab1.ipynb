{
 "cells": [
  {
   "cell_type": "markdown",
   "id": "de5ed699-9b9b-42e0-8a30-412081244bad",
   "metadata": {},
   "source": [
    "#Lab3: Write a Pandas program to split the following data frame into groups based\n",
    "on Class and count the number of students in that particular class.Also generate\n",
    "a bar chart based on the result and explain the conclusion.\n",
    "Input:\n",
    "student_data = pd.DataFrame({\n",
    "'school_code': ['s001','s002','s003','s001','s002','s004'],\n",
    "'class': ['V', 'VI', 'VI', 'VI', 'V', 'VI'],\n",
    "'name': ['Alberto Franco','Gino Mcneill','Ryan Parkes', 'Eesha Hinton', 'Gino Mcneill',\n",
    "'David Parkes'],\n",
    "'age': [12, 12, 13, 13, 14, 12],\n",
    "'height': [173, 192, 186, 167, 151, 159],\n",
    "'weight': [35, 32, 33, 30, 31, 32],\n",
    "'address': ['street1', 'street2', 'street3', 'street1', 'street2', 'street4']},\n",
    ")"
   ]
  },
  {
   "cell_type": "code",
   "execution_count": 4,
   "id": "80b18e57-9cba-48a9-bac1-a751051aeb7f",
   "metadata": {},
   "outputs": [],
   "source": [
    "import pandas as pd\n",
    "import matplotlib.pyplot as plt"
   ]
  },
  {
   "cell_type": "code",
   "execution_count": 5,
   "id": "c59e8af6-8d37-4bdb-9f09-5e64c86a2f48",
   "metadata": {},
   "outputs": [],
   "source": [
    "student_data = pd.DataFrame({ 'school_code': ['s001','s002','s003','s001','s002','s004'], \n",
    "                              'class': ['V', 'VI', 'VI', 'VI', 'V', 'VI'], \n",
    "                              'name': ['Alberto Franco','Gino Mcneill','Ryan Parkes', 'Eesha Hinton','Gino Mcneill', 'David Parkes'],\n",
    "                              'age': [12, 12, 13, 13, 14, 12], \n",
    "                              'height': [173, 192, 186, 167, 151, 159], \n",
    "                              'weight': [35, 32, 33, 30, 31, 32], \n",
    "                              'address': ['street1','street2','street3','street1','street2','street4']})"
   ]
  },
  {
   "cell_type": "code",
   "execution_count": 6,
   "id": "72142d3b-b4e8-4e34-ad1a-5158022d3489",
   "metadata": {},
   "outputs": [
    {
     "name": "stdout",
     "output_type": "stream",
     "text": [
      "Original Dataframe:\n",
      "  school_code class            name  age  height  weight  address\n",
      "0        s001     V  Alberto Franco   12     173      35  street1\n",
      "1        s002    VI    Gino Mcneill   12     192      32  street2\n",
      "2        s003    VI     Ryan Parkes   13     186      33  street3\n",
      "3        s001    VI    Eesha Hinton   13     167      30  street1\n",
      "4        s002     V    Gino Mcneill   14     151      31  street2\n",
      "5        s004    VI    David Parkes   12     159      32  street4\n",
      "\n",
      "Class wise No of students counts:\n",
      "class\n",
      "V     2\n",
      "VI    4\n",
      "Name: count, dtype: int64\n"
     ]
    },
    {
     "data": {
      "text/plain": [
       "<Axes: xlabel='class'>"
      ]
     },
     "execution_count": 6,
     "metadata": {},
     "output_type": "execute_result"
    },
    {
     "data": {
      "image/png": "[encoded data removed]",
      "text/plain": [
       "<Figure size 640x480 with 1 Axes>"
      ]
     },
     "metadata": {},
     "output_type": "display_data"
    }
   ],
   "source": [
    "print(\"Original Dataframe:\")\n",
    "print(student_data)\n",
    "print(\"\\nClass wise No of students counts:\")\n",
    "#using \"value_counts()\" for counting students based on class\n",
    "print(student_data['class'].value_counts(ascending=True))\n",
    "#display the students, present in the dataframe based on class using bar chart\n",
    "student_data['class'].value_counts(ascending=True).plot(kind='bar')"
   ]
  },
  {
   "cell_type": "markdown",
   "id": "14fe13bf-e0d4-4335-8894-394a1f55a6da",
   "metadata": {},
   "source": [
    "Here, we see in bar diagram, there are 2 student in class five(V) and 4 student in class six(VI). Most of the students belongs to class six."
   ]
  },
  {
   "cell_type": "code",
   "execution_count": null,
   "id": "27c53f53-baf8-48ae-9873-d8d153331418",
   "metadata": {},
   "outputs": [],
   "source": []
  }
 ],
 "metadata": {
  "kernelspec": {
   "display_name": "Python 3 (ipykernel)",
   "language": "python",
   "name": "python3"
  },
  "language_info": {
   "codemirror_mode": {
    "name": "ipython",
    "version": 3
   },
   "file_extension": ".py",
   "mimetype": "text/x-python",
   "name": "python",
   "nbconvert_exporter": "python",
   "pygments_lexer": "ipython3",
   "version": "3.12.0"
  }
 },
 "nbformat": 4,
 "nbformat_minor": 5
}
