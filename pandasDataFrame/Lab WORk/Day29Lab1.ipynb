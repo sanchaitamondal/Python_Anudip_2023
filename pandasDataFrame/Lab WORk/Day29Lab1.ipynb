{
 "cells": [
  {
   "cell_type": "markdown",
   "id": "1280faa0-c07a-4f35-89e3-a5029006fe24",
   "metadata": {},
   "source": [
    "Lab1: Write a Pandas program to create a Pivot table and find the total sale\r\n",
    "amount region wise, manager wise, sales man wise."
   ]
  },
  {
   "cell_type": "code",
   "execution_count": 27,
   "id": "c5c2efbe-a5dc-43fb-8440-09794d63ac3c",
   "metadata": {},
   "outputs": [],
   "source": [
    "import pandas as pd\n",
    "import numpy as np"
   ]
  },
  {
   "cell_type": "code",
   "execution_count": 28,
   "id": "9d6f9057-4f42-4991-a929-27b9a18e1d6a",
   "metadata": {},
   "outputs": [
    {
     "name": "stdout",
     "output_type": "stream",
     "text": [
      "    Region  Manager   SalesMan          Item  Units  Unit_price  Sale_amt\n",
      "0     East   Martha  Alexander    Television     95      1198.0  113810.0\n",
      "1  Central  Hermann     Shelli  Home Theater     50       500.0   25000.0\n",
      "2  Central  Hermann       Luis    Television     36      1198.0   43128.0\n",
      "3  Central  Timothy      David    Cell Phone     27       225.0    6075.0\n",
      "4     West  Timothy    Stephen    Television     56      1198.0   67088.0\n"
     ]
    }
   ],
   "source": [
    "#read_csv()- read csv file into dataframe\n",
    "df=pd.read_csv(\"salesdata.csv\")\n",
    "print(df.head())"
   ]
  },
  {
   "cell_type": "code",
   "execution_count": 29,
   "id": "f3759319-c51a-4d46-9629-77bdda88809c",
   "metadata": {},
   "outputs": [
    {
     "name": "stdout",
     "output_type": "stream",
     "text": [
      "                                sum\n",
      "                           Sale_amt\n",
      "Region  Manager SalesMan           \n",
      "Central Douglas John       124016.0\n",
      "        Hermann Luis       206373.0\n",
      "                Shelli      33698.0\n",
      "                Sigal      125037.5\n",
      "        Marth   Steven      14000.0\n",
      "        Martha  Steven     185690.0\n",
      "        Timothy David      140955.0\n",
      "East    Douglas Karen       48204.0\n",
      "        Martha  Alexander  236703.0\n",
      "                Diana       36100.0\n",
      "West    Douglas Michael     66836.0\n",
      "        Timothy Stephen     88063.0\n"
     ]
    }
   ],
   "source": [
    "#create pivot table for showing total sales amount, based on region wise, manager wise and salesman wise.\n",
    "region_manager_salesman_pivot=pd.pivot_table(df,index=['Region','Manager','SalesMan'],values=['Sale_amt'],\n",
    "                                             aggfunc=['sum'])\n",
    "print(region_manager_salesman_pivot)"
   ]
  },
  {
   "cell_type": "code",
   "execution_count": 30,
   "id": "608a1a92-ffb6-4f09-944d-eac63bcee348",
   "metadata": {},
   "outputs": [
    {
     "data": {
      "text/html": [
       "<div>\n",
       "<style scoped>\n",
       "    .dataframe tbody tr th:only-of-type {\n",
       "        vertical-align: middle;\n",
       "    }\n",
       "\n",
       "    .dataframe tbody tr th {\n",
       "        vertical-align: top;\n",
       "    }\n",
       "\n",
       "    .dataframe thead th {\n",
       "        text-align: right;\n",
       "    }\n",
       "</style>\n",
       "<table border=\"1\" class=\"dataframe\">\n",
       "  <thead>\n",
       "    <tr style=\"text-align: right;\">\n",
       "      <th></th>\n",
       "      <th>Region</th>\n",
       "      <th>Manager</th>\n",
       "      <th>SalesMan</th>\n",
       "      <th>Item</th>\n",
       "      <th>Units</th>\n",
       "      <th>Unit_price</th>\n",
       "      <th>Sale_amt</th>\n",
       "    </tr>\n",
       "  </thead>\n",
       "  <tbody>\n",
       "    <tr>\n",
       "      <th>0</th>\n",
       "      <td>East</td>\n",
       "      <td>Martha</td>\n",
       "      <td>Alexander</td>\n",
       "      <td>Television</td>\n",
       "      <td>95</td>\n",
       "      <td>1198.0</td>\n",
       "      <td>113810.0</td>\n",
       "    </tr>\n",
       "    <tr>\n",
       "      <th>1</th>\n",
       "      <td>Central</td>\n",
       "      <td>Hermann</td>\n",
       "      <td>Shelli</td>\n",
       "      <td>Home Theater</td>\n",
       "      <td>50</td>\n",
       "      <td>500.0</td>\n",
       "      <td>25000.0</td>\n",
       "    </tr>\n",
       "    <tr>\n",
       "      <th>2</th>\n",
       "      <td>Central</td>\n",
       "      <td>Hermann</td>\n",
       "      <td>Luis</td>\n",
       "      <td>Television</td>\n",
       "      <td>36</td>\n",
       "      <td>1198.0</td>\n",
       "      <td>43128.0</td>\n",
       "    </tr>\n",
       "    <tr>\n",
       "      <th>3</th>\n",
       "      <td>Central</td>\n",
       "      <td>Timothy</td>\n",
       "      <td>David</td>\n",
       "      <td>Cell Phone</td>\n",
       "      <td>27</td>\n",
       "      <td>225.0</td>\n",
       "      <td>6075.0</td>\n",
       "    </tr>\n",
       "    <tr>\n",
       "      <th>4</th>\n",
       "      <td>West</td>\n",
       "      <td>Timothy</td>\n",
       "      <td>Stephen</td>\n",
       "      <td>Television</td>\n",
       "      <td>56</td>\n",
       "      <td>1198.0</td>\n",
       "      <td>67088.0</td>\n",
       "    </tr>\n",
       "  </tbody>\n",
       "</table>\n",
       "</div>"
      ],
      "text/plain": [
       "    Region  Manager   SalesMan          Item  Units  Unit_price  Sale_amt\n",
       "0     East   Martha  Alexander    Television     95      1198.0  113810.0\n",
       "1  Central  Hermann     Shelli  Home Theater     50       500.0   25000.0\n",
       "2  Central  Hermann       Luis    Television     36      1198.0   43128.0\n",
       "3  Central  Timothy      David    Cell Phone     27       225.0    6075.0\n",
       "4     West  Timothy    Stephen    Television     56      1198.0   67088.0"
      ]
     },
     "execution_count": 30,
     "metadata": {},
     "output_type": "execute_result"
    }
   ],
   "source": [
    "df.head()"
   ]
  },
  {
   "cell_type": "code",
   "execution_count": 31,
   "id": "bf6b8bbe-2fc8-44a7-88ef-fff5110508e5",
   "metadata": {},
   "outputs": [
    {
     "name": "stdout",
     "output_type": "stream",
     "text": [
      "              sum\n",
      "         Sale_amt\n",
      "Region           \n",
      "Central  829769.5\n",
      "East     321007.0\n",
      "West     154899.0\n"
     ]
    }
   ],
   "source": [
    "region_wise_pivot=pd.pivot_table(df,index=['Region'],values=['Sale_amt'],aggfunc=['sum'])\n",
    "print(region_wise_pivot)"
   ]
  },
  {
   "cell_type": "code",
   "execution_count": 32,
   "id": "cb863b97-b673-493b-9436-d9f5e02b398d",
   "metadata": {},
   "outputs": [
    {
     "name": "stdout",
     "output_type": "stream",
     "text": [
      "              sum\n",
      "         Sale_amt\n",
      "Manager          \n",
      "Douglas  239056.0\n",
      "Hermann  365108.5\n",
      "Marth     14000.0\n",
      "Martha   458493.0\n",
      "Timothy  229018.0\n"
     ]
    }
   ],
   "source": [
    "manager_wise_pivot=pd.pivot_table(df,index=['Manager'],values=['Sale_amt'],aggfunc=['sum'])\n",
    "print(manager_wise_pivot)"
   ]
  },
  {
   "cell_type": "code",
   "execution_count": 33,
   "id": "3dff4f10-1308-413b-b264-50786cd26690",
   "metadata": {},
   "outputs": [
    {
     "name": "stdout",
     "output_type": "stream",
     "text": [
      "                sum\n",
      "           Sale_amt\n",
      "SalesMan           \n",
      "Alexander  236703.0\n",
      "David      140955.0\n",
      "Diana       36100.0\n",
      "John       124016.0\n",
      "Karen       48204.0\n",
      "Luis       206373.0\n",
      "Michael     66836.0\n",
      "Shelli      33698.0\n",
      "Sigal      125037.5\n",
      "Stephen     88063.0\n",
      "Steven     199690.0\n"
     ]
    }
   ],
   "source": [
    "salesman_wise_pivot=pd.pivot_table(df,index=['SalesMan'],values=['Sale_amt'],aggfunc=['sum'])\n",
    "print(salesman_wise_pivot)"
   ]
  },
  {
   "cell_type": "code",
   "execution_count": null,
   "id": "e8e8a9a1-d1a2-4d15-8d3e-9cd0767963a0",
   "metadata": {},
   "outputs": [],
   "source": []
  },
  {
   "cell_type": "code",
   "execution_count": null,
   "id": "f1619a0c-d666-497a-8621-48a7912b61ab",
   "metadata": {},
   "outputs": [],
   "source": []
  }
 ],
 "metadata": {
  "kernelspec": {
   "display_name": "Python 3 (ipykernel)",
   "language": "python",
   "name": "python3"
  },
  "language_info": {
   "codemirror_mode": {
    "name": "ipython",
    "version": 3
   },
   "file_extension": ".py",
   "mimetype": "text/x-python",
   "name": "python",
   "nbconvert_exporter": "python",
   "pygments_lexer": "ipython3",
   "version": "3.12.0"
  }
 },
 "nbformat": 4,
 "nbformat_minor": 5
}
