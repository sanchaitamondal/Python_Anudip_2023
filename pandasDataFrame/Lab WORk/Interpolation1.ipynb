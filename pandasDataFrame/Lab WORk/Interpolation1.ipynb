{
 "cells": [
  {
   "cell_type": "markdown",
   "id": "2bef2d31-218b-4438-a108-f1e719b916ce",
   "metadata": {},
   "source": [
    "Lab1: Write a python program using pandas Interpolation to fill in missing values\r\n",
    "in the data frame.\r\n",
    "Input:\r\n",
    "df = pd.DataFrame({\"Math\":[12, 4, 7, None, 2],\r\n",
    "\"English\":[4, 3, 57, 3, None],\r\n",
    "\"Hindi\":[20, 16, None, 3, 8],\r\n",
    "\"Science\":[14, 3, None, None, 6]})"
   ]
  },
  {
   "cell_type": "code",
   "execution_count": 10,
   "id": "e3066562-1864-451e-ab85-ce7eec31dcd8",
   "metadata": {},
   "outputs": [],
   "source": [
    "import pandas as pd"
   ]
  },
  {
   "cell_type": "code",
   "execution_count": 11,
   "id": "c4788c2a-ba65-4f2a-9086-3f4b99dd9867",
   "metadata": {},
   "outputs": [
    {
     "name": "stdout",
     "output_type": "stream",
     "text": [
      "   Math  English  Hindi  Science\n",
      "0  12.0      4.0   20.0     14.0\n",
      "1   4.0      3.0   16.0      3.0\n",
      "2   7.0     57.0    NaN      NaN\n",
      "3   NaN      3.0    3.0      NaN\n",
      "4   2.0      NaN    8.0      6.0\n"
     ]
    }
   ],
   "source": [
    " df = pd.DataFrame({\"Math\":[12, 4, 7, None, 2], \n",
    "                    \"English\":[4, 3, 57, 3, None], \n",
    "                    \"Hindi\":[20, 16, None, 3, 8], \n",
    "                    \"Science\":[14, 3, None, None, 6]})\n",
    "print(df)"
   ]
  },
  {
   "cell_type": "code",
   "execution_count": 12,
   "id": "79198a22-a7e3-4190-830e-345912a50017",
   "metadata": {},
   "outputs": [
    {
     "name": "stdout",
     "output_type": "stream",
     "text": [
      "   Math  English  Hindi  Science\n",
      "0  12.0      4.0   20.0     14.0\n",
      "1   4.0      3.0   16.0      3.0\n",
      "2   7.0     57.0    9.5      4.0\n",
      "3   4.5      3.0    3.0      5.0\n",
      "4   2.0      3.0    8.0      6.0\n"
     ]
    }
   ],
   "source": [
    "# Interpolate() method to fill missing values\n",
    "df.interpolate(inplace=True)\n",
    "# Display interpolated DataFrame\n",
    "print(df)"
   ]
  },
  {
   "cell_type": "code",
   "execution_count": null,
   "id": "45a25d8b-7284-42c9-b4cf-6504d8fb60a3",
   "metadata": {},
   "outputs": [],
   "source": []
  }
 ],
 "metadata": {
  "kernelspec": {
   "display_name": "Python 3 (ipykernel)",
   "language": "python",
   "name": "python3"
  },
  "language_info": {
   "codemirror_mode": {
    "name": "ipython",
    "version": 3
   },
   "file_extension": ".py",
   "mimetype": "text/x-python",
   "name": "python",
   "nbconvert_exporter": "python",
   "pygments_lexer": "ipython3",
   "version": "3.12.0"
  }
 },
 "nbformat": 4,
 "nbformat_minor": 5
}
