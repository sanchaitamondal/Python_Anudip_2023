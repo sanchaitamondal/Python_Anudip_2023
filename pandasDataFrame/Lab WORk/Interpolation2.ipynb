{
 "cells": [
  {
   "cell_type": "markdown",
   "id": "a5df2470-a0d5-46a3-ab3a-494a8d9d4b70",
   "metadata": {},
   "source": [
    "Lab2: Write a python program using Interpolation to fill in missing values in the\n",
    "data frame. Then generate a subject wise highest score in the form of a bar chart.\n",
    "Input:\n",
    "data = {\n",
    "'Subject': ['Math', 'Physics', 'Chemistry', 'Biology'],\n",
    "'Student_A': [80, 85, np.nan, 70],\n",
    "'Student_B': [90, np.nan, 75, 85],\n",
    "'Student_C': [80, 88, np.nan, 78]\n",
    "}"
   ]
  },
  {
   "cell_type": "code",
   "execution_count": 22,
   "id": "9403015f-67e9-4a7f-a0db-4207470816ce",
   "metadata": {},
   "outputs": [],
   "source": [
    "import pandas as pd\n",
    "import numpy as np\n",
    "import matplotlib.pyplot as plt"
   ]
  },
  {
   "cell_type": "code",
   "execution_count": 25,
   "id": "17935cc6-e0fb-44db-a685-b062c3b8267a",
   "metadata": {},
   "outputs": [
    {
     "name": "stdout",
     "output_type": "stream",
     "text": [
      "Original Dataframe:\n",
      "     Subject  Student_A  Student_B  Student_C\n",
      "0       Math       80.0       90.0       80.0\n",
      "1    Physics       85.0        NaN       88.0\n",
      "2  Chemistry        NaN       75.0        NaN\n",
      "3    Biology       70.0       85.0       78.0\n",
      "\n",
      "DataFrame after Interpolation:\n",
      "     Subject  Student_A  Student_B  Student_C\n",
      "0       Math       80.0       90.0       80.0\n",
      "1    Physics       85.0       82.5       88.0\n",
      "2  Chemistry       77.5       75.0       83.0\n",
      "3    Biology       70.0       85.0       78.0\n"
     ]
    },
    {
     "name": "stderr",
     "output_type": "stream",
     "text": [
      "C:\\Users\\SANCHAITA PC\\AppData\\Local\\Temp\\ipykernel_13992\\3837873847.py:9: FutureWarning: DataFrame.interpolate with object dtype is deprecated and will raise in a future version. Call obj.infer_objects(copy=False) before interpolating instead.\n",
      "  df.interpolate(inplace=True)\n"
     ]
    }
   ],
   "source": [
    " data = { 'Subject': ['Math', 'Physics', 'Chemistry', 'Biology'], \n",
    "          'Student_A': [80, 85, np.nan, 70], \n",
    "          'Student_B': [90, np.nan, 75, 85], \n",
    "          'Student_C': [80, 88, np.nan, 78] }\n",
    "df=pd.DataFrame(data)\n",
    "print(\"Original Dataframe:\")\n",
    "print(df)  \n",
    "print(\"\\nDataFrame after Interpolation:\")\n",
    "df.interpolate(inplace=True)\n",
    "print(df)"
   ]
  },
  {
   "cell_type": "code",
   "execution_count": 26,
   "id": "aa5a8575-1688-41a8-b2a2-f3474bfb8394",
   "metadata": {},
   "outputs": [
    {
     "data": {
      "image/png": "[encoded data removed]",
      "text/plain": [
       "<Figure size 400x200 with 1 Axes>"
      ]
     },
     "metadata": {},
     "output_type": "display_data"
    }
   ],
   "source": [
    "df['HighestScore']=df[['Student_A','Student_B','Student_C']].max(axis=1)\n",
    "\n",
    "plt.figure(figsize=(4,2))\n",
    "plt.bar(df['Subject'], df['HighestScore'])\n",
    "plt.title('Subject-wise Highest Score')\n",
    "plt.xlabel('Subject')\n",
    "plt.ylabel('Highest Score')\n",
    "plt.show()"
   ]
  },
  {
   "cell_type": "code",
   "execution_count": null,
   "id": "4e0f2dde-3fd9-4bd0-840d-5fde6548c585",
   "metadata": {},
   "outputs": [],
   "source": []
  }
 ],
 "metadata": {
  "kernelspec": {
   "display_name": "Python 3 (ipykernel)",
   "language": "python",
   "name": "python3"
  },
  "language_info": {
   "codemirror_mode": {
    "name": "ipython",
    "version": 3
   },
   "file_extension": ".py",
   "mimetype": "text/x-python",
   "name": "python",
   "nbconvert_exporter": "python",
   "pygments_lexer": "ipython3",
   "version": "3.12.0"
  }
 },
 "nbformat": 4,
 "nbformat_minor": 5
}
