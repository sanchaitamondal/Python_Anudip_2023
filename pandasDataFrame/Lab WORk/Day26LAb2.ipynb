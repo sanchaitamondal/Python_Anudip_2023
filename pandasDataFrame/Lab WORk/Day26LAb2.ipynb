{
 "cells": [
  {
   "cell_type": "markdown",
   "id": "65bd7a29-c73e-43e8-ae3a-68a904155941",
   "metadata": {},
   "source": [
    "Lab2: Write a Pandas program to create and display a DataFrame from a\n",
    "specified dictionary data which has the index labels.\n",
    "Sample Python dictionary data and list labels:\n",
    "exam_data = {'name': ['Anastasia', 'Dima', 'Katherine', 'James', 'Emily',\n",
    "'Michael', 'Matthew', 'Laura', 'Kevin', 'Jonas'],\n",
    "'score': [12.5, 9, 16.5, np.nan, 9, 20, 14.5, np.nan, 8, 19],\n",
    "'attempts': [1, 3, 2, 3, 2, 3, 1, 1, 2, 1],\n",
    "'qualify': ['yes', 'no', 'yes', 'no', 'no', 'yes', 'yes', 'no', 'no', 'yes']}"
   ]
  },
  {
   "cell_type": "code",
   "execution_count": 9,
   "id": "abf77de5-aaf3-4d23-a4fa-2911c4d2732c",
   "metadata": {},
   "outputs": [],
   "source": [
    "import pandas as pd\n",
    "import numpy as np"
   ]
  },
  {
   "cell_type": "code",
   "execution_count": 10,
   "id": "2f830462-1096-424c-83d7-a47cb860cc77",
   "metadata": {},
   "outputs": [],
   "source": [
    "#Dictionary data\n",
    "exam_data = {'name': ['Anastasia', 'Dima', 'Katherine', 'James', 'Emily', 'Michael', 'Matthew', 'Laura', 'Kevin', 'Jonas'], \n",
    "             'score': [12.5, 9, 16.5, np.nan, 9, 20, 14.5, np.nan, 8, 19],\n",
    "             'attempts': [1, 3, 2, 3, 2, 3, 1, 1, 2, 1],\n",
    "             'qualify': ['yes', 'no', 'yes', 'no', 'no', 'yes', 'yes', 'no', 'no', 'yes']}"
   ]
  },
  {
   "cell_type": "code",
   "execution_count": 11,
   "id": "43f94eec-7d71-4318-ae10-36e04cd9797b",
   "metadata": {},
   "outputs": [],
   "source": [
    "#index labels\n",
    "index_labels = ['1', '2', '3', '4', '5', '6', '7', '8', '9', '10']"
   ]
  },
  {
   "cell_type": "code",
   "execution_count": 12,
   "id": "bef3b0a6-8208-430d-87cd-11997a72f5ec",
   "metadata": {},
   "outputs": [
    {
     "name": "stdout",
     "output_type": "stream",
     "text": [
      "         name  score  attempts qualify\n",
      "1   Anastasia   12.5         1     yes\n",
      "2        Dima    9.0         3      no\n",
      "3   Katherine   16.5         2     yes\n",
      "4       James    NaN         3      no\n",
      "5       Emily    9.0         2      no\n",
      "6     Michael   20.0         3     yes\n",
      "7     Matthew   14.5         1     yes\n",
      "8       Laura    NaN         1      no\n",
      "9       Kevin    8.0         2      no\n",
      "10      Jonas   19.0         1     yes\n"
     ]
    }
   ],
   "source": [
    "#Create Dataframe\n",
    "dataFrame=pd.DataFrame(exam_data,index=index_labels)\n",
    "print(dataFrame)"
   ]
  },
  {
   "cell_type": "code",
   "execution_count": null,
   "id": "ba82e0db-3130-4344-9c61-f1cab02fcbf9",
   "metadata": {},
   "outputs": [],
   "source": []
  }
 ],
 "metadata": {
  "kernelspec": {
   "display_name": "Python 3 (ipykernel)",
   "language": "python",
   "name": "python3"
  },
  "language_info": {
   "codemirror_mode": {
    "name": "ipython",
    "version": 3
   },
   "file_extension": ".py",
   "mimetype": "text/x-python",
   "name": "python",
   "nbconvert_exporter": "python",
   "pygments_lexer": "ipython3",
   "version": "3.12.0"
  }
 },
 "nbformat": 4,
 "nbformat_minor": 5
}
