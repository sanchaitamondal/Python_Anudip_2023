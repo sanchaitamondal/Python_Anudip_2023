{
 "cells": [
  {
   "cell_type": "markdown",
   "id": "4934fe94-b6aa-4aab-9457-f34d1dae7913",
   "metadata": {},
   "source": [
    "Lab1: Write a python program to read the radius from the below .csv file\r\n",
    "and then Calculate the Area of a Circle using SciPy Constants. After that display\r\n",
    "the first 5 records and also save the calculated result into a new .csv file.\r\n",
    "Input:\r\n",
    "https://raw.githubusercontent.com/AnudipAE/DANLC/master/radius_data.csv"
   ]
  },
  {
   "cell_type": "code",
   "execution_count": 72,
   "id": "06812d2e-b87c-43ba-a69f-a0b3c4418d4a",
   "metadata": {},
   "outputs": [],
   "source": [
    "#import pandas and scipy.And also import constants from scipy modules as cons.\n",
    "import pandas as pd\n",
    "import scipy\n",
    "from scipy import constants as cons"
   ]
  },
  {
   "cell_type": "code",
   "execution_count": 73,
   "id": "aa12d047-69f5-4324-b42a-0d31306df4f4",
   "metadata": {},
   "outputs": [
    {
     "name": "stdout",
     "output_type": "stream",
     "text": [
      "  CircleName    Radius        Area\n",
      "0        SAY  3.798717   45.333960\n",
      "1        PSN  9.958397  311.550720\n",
      "2        JDP  5.142711   83.087197\n",
      "3        AUO  3.319584   34.619210\n",
      "4        OHG  1.138395    4.071325\n"
     ]
    }
   ],
   "source": [
    "#read the csv file from the github link\n",
    "df=pd.read_csv(\"https://raw.githubusercontent.com/AnudipAE/DANLC/master/radius_data.csv\")\n",
    "#calculating the arae of circles with given radius. and put area as Area name column into the dataframe.\n",
    "df['Area']=cons.pi*df['Radius']**2\n",
    "#display first five row from df\n",
    "print(df.head())"
   ]
  },
  {
   "cell_type": "code",
   "execution_count": 74,
   "id": "89142909-140c-49e7-b00e-d38223530080",
   "metadata": {},
   "outputs": [
    {
     "name": "stdout",
     "output_type": "stream",
     "text": [
      "\n",
      "Calculated area results saved to: circle_area_results.csv\n"
     ]
    }
   ],
   "source": [
    "#save the dataframe with calculated area into a new .csv file. The new csv file name is \"circle_area_results.csv\"\n",
    "output_file_path = \"circle_area_results.csv\"\n",
    "df.to_csv(output_file_path, index=False)\n",
    "print(f\"\\nCalculated area results saved to: {output_file_path}\")"
   ]
  },
  {
   "cell_type": "code",
   "execution_count": 44,
   "id": "8c2e6787-f6b5-4977-a583-e40d2b3b30b9",
   "metadata": {},
   "outputs": [
    {
     "name": "stdout",
     "output_type": "stream",
     "text": [
      "   CircleName    Radius\n",
      "0         SAY  3.798717\n",
      "1         PSN  9.958397\n",
      "2         JDP  5.142711\n",
      "3         AUO  3.319584\n",
      "4         OHG  1.138395\n",
      "..        ...       ...\n",
      "95        PVZ  7.798122\n",
      "96        SQR  5.133239\n",
      "97        NSM  9.761868\n",
      "98        SXE  6.774164\n",
      "99        JNT  2.823492\n",
      "\n",
      "[100 rows x 2 columns]\n"
     ]
    }
   ],
   "source": [
    "print(df)"
   ]
  },
  {
   "cell_type": "code",
   "execution_count": 45,
   "id": "1785996f-ba6e-46ce-9127-b9e55f419f7f",
   "metadata": {},
   "outputs": [
    {
     "name": "stdout",
     "output_type": "stream",
     "text": [
      "<class 'pandas.core.frame.DataFrame'>\n",
      "RangeIndex: 100 entries, 0 to 99\n",
      "Data columns (total 2 columns):\n",
      " #   Column      Non-Null Count  Dtype  \n",
      "---  ------      --------------  -----  \n",
      " 0   CircleName  100 non-null    object \n",
      " 1   Radius      100 non-null    float64\n",
      "dtypes: float64(1), object(1)\n",
      "memory usage: 1.7+ KB\n",
      "100\n"
     ]
    }
   ],
   "source": [
    "df.info()\n",
    "print(len(df))"
   ]
  },
  {
   "cell_type": "code",
   "execution_count": 69,
   "id": "633391d3-36ad-4e62-94a1-f891c0302b79",
   "metadata": {},
   "outputs": [
    {
     "name": "stdout",
     "output_type": "stream",
     "text": [
      "   CircleName    Radius        Area\n",
      "0         SAY  3.798717   45.333960\n",
      "1         PSN  9.958397  311.550720\n",
      "2         JDP  5.142711   83.087197\n",
      "3         AUO  3.319584   34.619210\n",
      "4         OHG  1.138395    4.071325\n",
      "..        ...       ...         ...\n",
      "95        PVZ  7.798122  191.042457\n",
      "96        SQR  5.133239   82.781400\n",
      "97        NSM  9.761868  299.375156\n",
      "98        SXE  6.774164  144.165471\n",
      "99        JNT  2.823492   25.045121\n",
      "\n",
      "[100 rows x 3 columns]\n",
      "0      45.333960\n",
      "1     311.550720\n",
      "2      83.087197\n",
      "3      34.619210\n",
      "4       4.071325\n",
      "         ...    \n",
      "95    191.042457\n",
      "96     82.781400\n",
      "97    299.375156\n",
      "98    144.165471\n",
      "99     25.045121\n",
      "Name: Radius, Length: 100, dtype: float64\n",
      "100\n"
     ]
    }
   ],
   "source": [
    "df1=pd.DataFrame(df)\n",
    "print(df1)\n",
    "r=df['Radius']\n",
    "for i in df:\n",
    "    area=((cons.pi)*pow(r,2))\n",
    "print(area)\n",
    "print(len(area))"
   ]
  },
  {
   "cell_type": "code",
   "execution_count": null,
   "id": "fddb2c98-4cd4-4868-907e-53b44f93a92d",
   "metadata": {},
   "outputs": [],
   "source": []
  },
  {
   "cell_type": "code",
   "execution_count": null,
   "id": "4c68dc73-ebf1-4c4a-97c9-34ed4ab988c0",
   "metadata": {},
   "outputs": [],
   "source": []
  }
 ],
 "metadata": {
  "kernelspec": {
   "display_name": "Python 3 (ipykernel)",
   "language": "python",
   "name": "python3"
  },
  "language_info": {
   "codemirror_mode": {
    "name": "ipython",
    "version": 3
   },
   "file_extension": ".py",
   "mimetype": "text/x-python",
   "name": "python",
   "nbconvert_exporter": "python",
   "pygments_lexer": "ipython3",
   "version": "3.12.0"
  }
 },
 "nbformat": 4,
 "nbformat_minor": 5
}
