{
 "cells": [
  {
   "cell_type": "markdown",
   "id": "1edb4c20-d212-4b95-8e5b-c00d3978f688",
   "metadata": {},
   "source": [
    "Lab1: Write a Pandas program to create a dataframe from a dictionary and\n",
    "display it.\n",
    "Sample data:\n",
    "score={'Math':[78,85,96,80,86], 'English':[84,94,89,83,86],'Hindi':[86,97,96,72,83]}"
   ]
  },
  {
   "cell_type": "code",
   "execution_count": 8,
   "id": "d4b8ac58-923b-4391-ad86-6dc0145db3c9",
   "metadata": {},
   "outputs": [],
   "source": [
    "import pandas as pd"
   ]
  },
  {
   "cell_type": "code",
   "execution_count": 11,
   "id": "6cffe45c-ebba-480d-91a6-b890da9c0bc9",
   "metadata": {},
   "outputs": [],
   "source": [
    "#Sample data set\n",
    "score={'Math':[78,85,96,80,86], \n",
    "       'English':[84,94,89,83,86],\n",
    "       'Hindi':[86,97,96,72,83]}"
   ]
  },
  {
   "cell_type": "code",
   "execution_count": 12,
   "id": "b4b556d2-34ed-4cbe-a8ac-62cee60728af",
   "metadata": {},
   "outputs": [
    {
     "name": "stdout",
     "output_type": "stream",
     "text": [
      "   Math  English  Hindi\n",
      "0    78       84     86\n",
      "1    85       94     97\n",
      "2    96       89     96\n",
      "3    80       83     72\n",
      "4    86       86     83\n"
     ]
    }
   ],
   "source": [
    "#DataFrame() returns data set in a table format\n",
    "df=pd.DataFrame(score)\n",
    "print(df)"
   ]
  },
  {
   "cell_type": "code",
   "execution_count": null,
   "id": "4b20ab87-7016-431e-a426-e6cf72b9d2d9",
   "metadata": {},
   "outputs": [],
   "source": []
  }
 ],
 "metadata": {
  "kernelspec": {
   "display_name": "Python 3 (ipykernel)",
   "language": "python",
   "name": "python3"
  },
  "language_info": {
   "codemirror_mode": {
    "name": "ipython",
    "version": 3
   },
   "file_extension": ".py",
   "mimetype": "text/x-python",
   "name": "python",
   "nbconvert_exporter": "python",
   "pygments_lexer": "ipython3",
   "version": "3.12.0"
  }
 },
 "nbformat": 4,
 "nbformat_minor": 5
}
