{
 "cells": [
  {
   "cell_type": "code",
   "execution_count": 1,
   "id": "d9405838-3924-4c44-96a3-e5cba7f974e8",
   "metadata": {},
   "outputs": [],
   "source": [
    "import pandas as pd\n",
    "import numpy as np"
   ]
  },
  {
   "cell_type": "code",
   "execution_count": 32,
   "id": "c580af6e-88e0-4879-b7fc-bfdae81393a6",
   "metadata": {},
   "outputs": [
    {
     "name": "stdout",
     "output_type": "stream",
     "text": [
      "     name  empId      dName\n",
      "0  Ankita    101      Sales\n",
      "1    Amit    102        NaN\n",
      "2   Reena    103   Accounts\n",
      "3     Ram    104  Marketing\n",
      "4   Pinky    105        NaN\n",
      "5  Pratik    106      Sales\n"
     ]
    }
   ],
   "source": [
    "#using numpy attribute np.nan to replace the value with NaN\n",
    "df = pd.DataFrame({\n",
    "    'name':['Ankita','Amit','Reena','Ram','Pinky','Pratik'],\n",
    "    'empId':[101,102,103,104,105,106],\n",
    "    'dName':['Sales',np.nan,'Accounts','Marketing',np.nan,'Sales']\n",
    "})\n",
    "\n",
    "print(df)"
   ]
  },
  {
   "cell_type": "code",
   "execution_count": 33,
   "id": "23c4e962-88c8-418a-aa3f-f76f8cfe0287",
   "metadata": {},
   "outputs": [
    {
     "name": "stdout",
     "output_type": "stream",
     "text": [
      "  empName  empId   deptName\n",
      "0  Ankita    101      Sales\n",
      "1    Amit    102        NaN\n",
      "2   Reena    103   Accounts\n",
      "3     Ram    104  Marketing\n",
      "4   Pinky    105        NaN\n",
      "5  Pratik    106      Sales\n"
     ]
    }
   ],
   "source": [
    "#update the column name\n",
    "df = df.rename(columns={'name':'empName','dName':'deptName'})\n",
    "print(df)"
   ]
  },
  {
   "cell_type": "code",
   "execution_count": 34,
   "id": "af88aad0-bc82-411e-a4c0-54257c4cb538",
   "metadata": {},
   "outputs": [
    {
     "name": "stdout",
     "output_type": "stream",
     "text": [
      "Index(['empName', 'empId', 'deptName'], dtype='object')\n"
     ]
    }
   ],
   "source": [
    "print(df.columns)"
   ]
  },
  {
   "cell_type": "code",
   "execution_count": 35,
   "id": "f3720d86-6b2c-4709-aa18-64a51694da1e",
   "metadata": {},
   "outputs": [
    {
     "name": "stdout",
     "output_type": "stream",
     "text": [
      "  EMPNAME  EMPID   DEPTNAME\n",
      "0  Ankita    101      Sales\n",
      "1    Amit    102        NaN\n",
      "2   Reena    103   Accounts\n",
      "3     Ram    104  Marketing\n",
      "4   Pinky    105        NaN\n",
      "5  Pratik    106      Sales\n"
     ]
    }
   ],
   "source": [
    "#converting the columns atrributes/names to upper case\n",
    "df.columns = df.columns.str.upper()\n",
    "print(df)"
   ]
  },
  {
   "cell_type": "code",
   "execution_count": 36,
   "id": "4bcf639a-de80-4a9b-914f-e7e398b82d2f",
   "metadata": {},
   "outputs": [
    {
     "name": "stdout",
     "output_type": "stream",
     "text": [
      "EMPNAME           Ram\n",
      "EMPID             104\n",
      "DEPTNAME    Marketing\n",
      "Name: 3, dtype: object\n"
     ]
    }
   ],
   "source": [
    "print(df.loc[3])"
   ]
  },
  {
   "cell_type": "code",
   "execution_count": 37,
   "id": "ef365f9f-0d9d-4665-abc2-41318623e1e9",
   "metadata": {},
   "outputs": [
    {
     "name": "stdout",
     "output_type": "stream",
     "text": [
      "  EMPNAME  EMPID   DEPTNAME\n",
      "3     Ram    104  Marketing\n"
     ]
    }
   ],
   "source": [
    "#fetching the details of an employee where both the conditions should be true\n",
    "print(df.loc[(df['EMPID']==104) & (df['EMPNAME']=='Ram')])"
   ]
  },
  {
   "cell_type": "code",
   "execution_count": 38,
   "id": "19d555d1-c684-4543-88b2-5d5fce618f9b",
   "metadata": {},
   "outputs": [
    {
     "name": "stdout",
     "output_type": "stream",
     "text": [
      "  EMPNAME  EMPID   DEPTNAME\n",
      "3     Ram    104  Marketing\n",
      "4   Pinky    105        NaN\n"
     ]
    }
   ],
   "source": [
    "#fetching the details of an employee where any the conditions should be true\n",
    "print(df.loc[(df['EMPID']==104) | (df['EMPNAME']=='Pinky')])"
   ]
  },
  {
   "cell_type": "code",
   "execution_count": 39,
   "id": "d2b297ce-f84c-426a-adc7-8e9bcabddbff",
   "metadata": {},
   "outputs": [
    {
     "name": "stdout",
     "output_type": "stream",
     "text": [
      "  EMPNAME  EMPID  DEPTNAME\n",
      "0  Ankita    101     Sales\n",
      "1    Amit    102       NaN\n",
      "2   Reena    103  Accounts\n",
      "3   Rohit    104     Sales\n",
      "4   Pinky    105       NaN\n",
      "5  Pratik    106     Sales\n"
     ]
    }
   ],
   "source": [
    "#update the whole values\n",
    "df.loc[df['EMPID']==104] = ['Rohit',104,'Sales']\n",
    "print(df)"
   ]
  },
  {
   "cell_type": "code",
   "execution_count": 40,
   "id": "bce3f581-8d57-491d-a6f8-2f9ab2625d26",
   "metadata": {},
   "outputs": [
    {
     "name": "stdout",
     "output_type": "stream",
     "text": [
      "  DEPTNAME\n",
      "3    Sales\n"
     ]
    }
   ],
   "source": [
    "print(df.loc[df['EMPID']==104,['DEPTNAME']])"
   ]
  },
  {
   "cell_type": "code",
   "execution_count": 41,
   "id": "324ddb7a-2677-4ede-9194-71d1858506e0",
   "metadata": {},
   "outputs": [
    {
     "name": "stdout",
     "output_type": "stream",
     "text": [
      "  EMPNAME  EMPID   DEPTNAME\n",
      "0  Ankita    101      Sales\n",
      "1    Amit    102        NaN\n",
      "2   Reena    103   Accounts\n",
      "3   Rohit    104  Marketing\n",
      "4   Pinky    105        NaN\n",
      "5  Pratik    106      Sales\n"
     ]
    }
   ],
   "source": [
    "df.loc[df['EMPID']==104,['DEPTNAME']] = ['Marketing']\n",
    "\n",
    "print(df)"
   ]
  },
  {
   "cell_type": "code",
   "execution_count": 42,
   "id": "0c322bdf-ae20-4892-8009-d0f2c9a52ddc",
   "metadata": {},
   "outputs": [
    {
     "data": {
      "text/plain": [
       "array(['Sales', nan, 'Accounts', 'Marketing'], dtype=object)"
      ]
     },
     "execution_count": 42,
     "metadata": {},
     "output_type": "execute_result"
    }
   ],
   "source": [
    "df['DEPTNAME'].unique()"
   ]
  },
  {
   "cell_type": "code",
   "execution_count": 43,
   "id": "e444dca7-f092-4d4f-81cf-05c18393bbb2",
   "metadata": {},
   "outputs": [
    {
     "data": {
      "text/plain": [
       "DEPTNAME\n",
       "Sales        2\n",
       "Accounts     1\n",
       "Marketing    1\n",
       "Name: count, dtype: int64"
      ]
     },
     "execution_count": 43,
     "metadata": {},
     "output_type": "execute_result"
    }
   ],
   "source": [
    "df['DEPTNAME'].value_counts()"
   ]
  },
  {
   "cell_type": "code",
   "execution_count": 44,
   "id": "83e66626-48d4-4cb7-9217-deec305fa26f",
   "metadata": {},
   "outputs": [
    {
     "data": {
      "text/plain": [
       "DEPTNAME\n",
       "False    4\n",
       "True     2\n",
       "Name: count, dtype: int64"
      ]
     },
     "execution_count": 44,
     "metadata": {},
     "output_type": "execute_result"
    }
   ],
   "source": [
    "#checking if there are any null values present in the column DEPTNAME and counting it\n",
    "df['DEPTNAME'].isnull().value_counts()"
   ]
  },
  {
   "cell_type": "code",
   "execution_count": 45,
   "id": "4ee394c0-fb00-464a-97dc-441d6ee30760",
   "metadata": {},
   "outputs": [
    {
     "name": "stdout",
     "output_type": "stream",
     "text": [
      "  EMPNAME  EMPID   DEPTNAME\n",
      "0  Ankita    101      Sales\n",
      "1    Amit    102        NaN\n",
      "2   Reena    103   Accounts\n",
      "3   Rohit    104  Marketing\n",
      "4   Pinky    105        NaN\n",
      "5  Pratik    106      Sales\n"
     ]
    }
   ],
   "source": [
    "print(df)"
   ]
  },
  {
   "cell_type": "code",
   "execution_count": 15,
   "id": "881e77bf-983e-47ca-95da-6a1d05fbb87b",
   "metadata": {},
   "outputs": [
    {
     "name": "stdout",
     "output_type": "stream",
     "text": [
      "  EMPNAME  EMPID   DEPTNAME\n",
      "0  Ankita    101      Sales\n",
      "1    Amit    102   No Dept.\n",
      "2   Reena    103   Accounts\n",
      "3   Rohit    104  Marketing\n",
      "4   Pinky    105    Finance\n",
      "5  Pratik    106      Sales\n"
     ]
    }
   ],
   "source": [
    "#filling the null values with No dept as the employee has not been assigned a department\n",
    "df[\"DEPTNAME\"].fillna(\"No Dept.\", inplace = True)\n",
    "\n",
    "print(df)"
   ]
  },
  {
   "cell_type": "code",
   "execution_count": 16,
   "id": "25cc38dc-d52e-4320-8a81-87525f7fc496",
   "metadata": {},
   "outputs": [
    {
     "data": {
      "text/plain": [
       "DEPTNAME\n",
       "False    6\n",
       "Name: count, dtype: int64"
      ]
     },
     "execution_count": 16,
     "metadata": {},
     "output_type": "execute_result"
    }
   ],
   "source": [
    "df['DEPTNAME'].isnull().value_counts()"
   ]
  },
  {
   "cell_type": "code",
   "execution_count": null,
   "id": "65da8853-e558-492c-99d8-c5719788e344",
   "metadata": {},
   "outputs": [],
   "source": []
  },
  {
   "cell_type": "code",
   "execution_count": null,
   "id": "bcd00371-b27f-43e0-b030-7058de463a30",
   "metadata": {},
   "outputs": [],
   "source": []
  }
 ],
 "metadata": {
  "kernelspec": {
   "display_name": "Python 3 (ipykernel)",
   "language": "python",
   "name": "python3"
  },
  "language_info": {
   "codemirror_mode": {
    "name": "ipython",
    "version": 3
   },
   "file_extension": ".py",
   "mimetype": "text/x-python",
   "name": "python",
   "nbconvert_exporter": "python",
   "pygments_lexer": "ipython3",
   "version": "3.12.0"
  }
 },
 "nbformat": 4,
 "nbformat_minor": 5
}
