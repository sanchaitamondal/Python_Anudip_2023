{
 "cells": [
  {
   "cell_type": "code",
   "execution_count": 1,
   "id": "3771bb1e-8176-4ac2-8d7e-fa3e29f7f4d8",
   "metadata": {},
   "outputs": [],
   "source": [
    "import pandas as pd\n",
    "import seaborn as sns\n",
    "import matplotlib.pyplot as plt"
   ]
  },
  {
   "cell_type": "code",
   "execution_count": 2,
   "id": "22e442d4-3bc9-460f-a1b3-9f37ec5e0084",
   "metadata": {},
   "outputs": [
    {
     "data": {
      "text/html": [
       "<div>\n",
       "<style scoped>\n",
       "    .dataframe tbody tr th:only-of-type {\n",
       "        vertical-align: middle;\n",
       "    }\n",
       "\n",
       "    .dataframe tbody tr th {\n",
       "        vertical-align: top;\n",
       "    }\n",
       "\n",
       "    .dataframe thead th {\n",
       "        text-align: right;\n",
       "    }\n",
       "</style>\n",
       "<table border=\"1\" class=\"dataframe\">\n",
       "  <thead>\n",
       "    <tr style=\"text-align: right;\">\n",
       "      <th></th>\n",
       "      <th>Transaction_date</th>\n",
       "      <th>Transaction_ID</th>\n",
       "      <th>Gender</th>\n",
       "      <th>Age</th>\n",
       "      <th>Marital_status</th>\n",
       "      <th>State_names</th>\n",
       "      <th>Segment</th>\n",
       "      <th>Employees_status</th>\n",
       "      <th>Payment_method</th>\n",
       "      <th>Referal</th>\n",
       "      <th>Amount_spent</th>\n",
       "    </tr>\n",
       "  </thead>\n",
       "  <tbody>\n",
       "    <tr>\n",
       "      <th>0</th>\n",
       "      <td>01-01-2019</td>\n",
       "      <td>151200</td>\n",
       "      <td>Female</td>\n",
       "      <td>19.0</td>\n",
       "      <td>Single</td>\n",
       "      <td>Kansas</td>\n",
       "      <td>Basic</td>\n",
       "      <td>Unemployment</td>\n",
       "      <td>Other</td>\n",
       "      <td>1.0</td>\n",
       "      <td>2051.36</td>\n",
       "    </tr>\n",
       "    <tr>\n",
       "      <th>1</th>\n",
       "      <td>02-01-2019</td>\n",
       "      <td>151201</td>\n",
       "      <td>Male</td>\n",
       "      <td>49.0</td>\n",
       "      <td>Single</td>\n",
       "      <td>Illinois</td>\n",
       "      <td>Basic</td>\n",
       "      <td>self-employed</td>\n",
       "      <td>Card</td>\n",
       "      <td>0.0</td>\n",
       "      <td>544.04</td>\n",
       "    </tr>\n",
       "    <tr>\n",
       "      <th>2</th>\n",
       "      <td>03-01-2019</td>\n",
       "      <td>151202</td>\n",
       "      <td>Male</td>\n",
       "      <td>63.0</td>\n",
       "      <td>Married</td>\n",
       "      <td>New Mexico</td>\n",
       "      <td>Basic</td>\n",
       "      <td>workers</td>\n",
       "      <td>PayPal</td>\n",
       "      <td>1.0</td>\n",
       "      <td>1572.60</td>\n",
       "    </tr>\n",
       "    <tr>\n",
       "      <th>3</th>\n",
       "      <td>04-01-2019</td>\n",
       "      <td>151203</td>\n",
       "      <td>NaN</td>\n",
       "      <td>18.0</td>\n",
       "      <td>Single</td>\n",
       "      <td>Virginia</td>\n",
       "      <td>Platinum</td>\n",
       "      <td>workers</td>\n",
       "      <td>Card</td>\n",
       "      <td>1.0</td>\n",
       "      <td>1199.79</td>\n",
       "    </tr>\n",
       "    <tr>\n",
       "      <th>4</th>\n",
       "      <td>05-01-2019</td>\n",
       "      <td>151204</td>\n",
       "      <td>Male</td>\n",
       "      <td>27.0</td>\n",
       "      <td>Single</td>\n",
       "      <td>Connecticut</td>\n",
       "      <td>Basic</td>\n",
       "      <td>self-employed</td>\n",
       "      <td>Card</td>\n",
       "      <td>0.0</td>\n",
       "      <td>NaN</td>\n",
       "    </tr>\n",
       "  </tbody>\n",
       "</table>\n",
       "</div>"
      ],
      "text/plain": [
       "  Transaction_date  Transaction_ID  Gender   Age Marital_status  State_names  \\\n",
       "0       01-01-2019          151200  Female  19.0         Single       Kansas   \n",
       "1       02-01-2019          151201    Male  49.0         Single     Illinois   \n",
       "2       03-01-2019          151202    Male  63.0        Married   New Mexico   \n",
       "3       04-01-2019          151203     NaN  18.0         Single     Virginia   \n",
       "4       05-01-2019          151204    Male  27.0         Single  Connecticut   \n",
       "\n",
       "    Segment Employees_status Payment_method  Referal  Amount_spent  \n",
       "0     Basic     Unemployment          Other      1.0       2051.36  \n",
       "1     Basic    self-employed           Card      0.0        544.04  \n",
       "2     Basic          workers         PayPal      1.0       1572.60  \n",
       "3  Platinum          workers           Card      1.0       1199.79  \n",
       "4     Basic    self-employed           Card      0.0           NaN  "
      ]
     },
     "execution_count": 2,
     "metadata": {},
     "output_type": "execute_result"
    }
   ],
   "source": [
    "#reading the data from the csv file\n",
    "df = pd.read_csv('customer_data.csv')\n",
    "\n",
    "df.head()"
   ]
  },
  {
   "cell_type": "code",
   "execution_count": 3,
   "id": "690ec73a-1dec-4a4e-9c04-d668bd55a5f8",
   "metadata": {},
   "outputs": [
    {
     "name": "stdout",
     "output_type": "stream",
     "text": [
      "<class 'pandas.core.frame.DataFrame'>\n",
      "RangeIndex: 2512 entries, 0 to 2511\n",
      "Data columns (total 11 columns):\n",
      " #   Column            Non-Null Count  Dtype  \n",
      "---  ------            --------------  -----  \n",
      " 0   Transaction_date  2512 non-null   object \n",
      " 1   Transaction_ID    2512 non-null   int64  \n",
      " 2   Gender            2484 non-null   object \n",
      " 3   Age               2470 non-null   float64\n",
      " 4   Marital_status    2512 non-null   object \n",
      " 5   State_names       2512 non-null   object \n",
      " 6   Segment           2512 non-null   object \n",
      " 7   Employees_status  2486 non-null   object \n",
      " 8   Payment_method    2512 non-null   object \n",
      " 9   Referal           2357 non-null   float64\n",
      " 10  Amount_spent      2270 non-null   float64\n",
      "dtypes: float64(3), int64(1), object(7)\n",
      "memory usage: 216.0+ KB\n"
     ]
    }
   ],
   "source": [
    "df.info()"
   ]
  },
  {
   "cell_type": "code",
   "execution_count": 4,
   "id": "b9a447a4-d81f-4230-8005-54d04d71a7a8",
   "metadata": {},
   "outputs": [
    {
     "data": {
      "text/html": [
       "<div>\n",
       "<style scoped>\n",
       "    .dataframe tbody tr th:only-of-type {\n",
       "        vertical-align: middle;\n",
       "    }\n",
       "\n",
       "    .dataframe tbody tr th {\n",
       "        vertical-align: top;\n",
       "    }\n",
       "\n",
       "    .dataframe thead th {\n",
       "        text-align: right;\n",
       "    }\n",
       "</style>\n",
       "<table border=\"1\" class=\"dataframe\">\n",
       "  <thead>\n",
       "    <tr style=\"text-align: right;\">\n",
       "      <th></th>\n",
       "      <th>count</th>\n",
       "      <th>mean</th>\n",
       "      <th>std</th>\n",
       "      <th>min</th>\n",
       "      <th>25%</th>\n",
       "      <th>50%</th>\n",
       "      <th>75%</th>\n",
       "      <th>max</th>\n",
       "    </tr>\n",
       "  </thead>\n",
       "  <tbody>\n",
       "    <tr>\n",
       "      <th>Transaction_ID</th>\n",
       "      <td>2512.0</td>\n",
       "      <td>152443.931131</td>\n",
       "      <td>724.580482</td>\n",
       "      <td>151200.00</td>\n",
       "      <td>151815.7500</td>\n",
       "      <td>152443.500</td>\n",
       "      <td>153071.2500</td>\n",
       "      <td>153699.00</td>\n",
       "    </tr>\n",
       "    <tr>\n",
       "      <th>Age</th>\n",
       "      <td>2470.0</td>\n",
       "      <td>46.637652</td>\n",
       "      <td>18.186277</td>\n",
       "      <td>15.00</td>\n",
       "      <td>32.0000</td>\n",
       "      <td>47.000</td>\n",
       "      <td>62.0000</td>\n",
       "      <td>78.00</td>\n",
       "    </tr>\n",
       "    <tr>\n",
       "      <th>Referal</th>\n",
       "      <td>2357.0</td>\n",
       "      <td>0.652100</td>\n",
       "      <td>0.476405</td>\n",
       "      <td>0.00</td>\n",
       "      <td>0.0000</td>\n",
       "      <td>1.000</td>\n",
       "      <td>1.0000</td>\n",
       "      <td>1.00</td>\n",
       "    </tr>\n",
       "    <tr>\n",
       "      <th>Amount_spent</th>\n",
       "      <td>2270.0</td>\n",
       "      <td>1418.422577</td>\n",
       "      <td>878.507451</td>\n",
       "      <td>2.09</td>\n",
       "      <td>678.1925</td>\n",
       "      <td>1341.435</td>\n",
       "      <td>2038.1025</td>\n",
       "      <td>2999.98</td>\n",
       "    </tr>\n",
       "  </tbody>\n",
       "</table>\n",
       "</div>"
      ],
      "text/plain": [
       "                 count           mean         std        min          25%  \\\n",
       "Transaction_ID  2512.0  152443.931131  724.580482  151200.00  151815.7500   \n",
       "Age             2470.0      46.637652   18.186277      15.00      32.0000   \n",
       "Referal         2357.0       0.652100    0.476405       0.00       0.0000   \n",
       "Amount_spent    2270.0    1418.422577  878.507451       2.09     678.1925   \n",
       "\n",
       "                       50%          75%        max  \n",
       "Transaction_ID  152443.500  153071.2500  153699.00  \n",
       "Age                 47.000      62.0000      78.00  \n",
       "Referal              1.000       1.0000       1.00  \n",
       "Amount_spent      1341.435    2038.1025    2999.98  "
      ]
     },
     "execution_count": 4,
     "metadata": {},
     "output_type": "execute_result"
    }
   ],
   "source": [
    "#statistical data for numeric columns\n",
    "df.describe().T"
   ]
  },
  {
   "cell_type": "code",
   "execution_count": 5,
   "id": "9902b881-b5cb-4bc2-b591-a665cc14480f",
   "metadata": {},
   "outputs": [
    {
     "data": {
      "text/html": [
       "<div>\n",
       "<style scoped>\n",
       "    .dataframe tbody tr th:only-of-type {\n",
       "        vertical-align: middle;\n",
       "    }\n",
       "\n",
       "    .dataframe tbody tr th {\n",
       "        vertical-align: top;\n",
       "    }\n",
       "\n",
       "    .dataframe thead th {\n",
       "        text-align: right;\n",
       "    }\n",
       "</style>\n",
       "<table border=\"1\" class=\"dataframe\">\n",
       "  <thead>\n",
       "    <tr style=\"text-align: right;\">\n",
       "      <th></th>\n",
       "      <th>count</th>\n",
       "      <th>unique</th>\n",
       "      <th>top</th>\n",
       "      <th>freq</th>\n",
       "    </tr>\n",
       "  </thead>\n",
       "  <tbody>\n",
       "    <tr>\n",
       "      <th>Transaction_date</th>\n",
       "      <td>2512</td>\n",
       "      <td>2512</td>\n",
       "      <td>01-01-2019</td>\n",
       "      <td>1</td>\n",
       "    </tr>\n",
       "    <tr>\n",
       "      <th>Gender</th>\n",
       "      <td>2484</td>\n",
       "      <td>2</td>\n",
       "      <td>Female</td>\n",
       "      <td>1356</td>\n",
       "    </tr>\n",
       "    <tr>\n",
       "      <th>Marital_status</th>\n",
       "      <td>2512</td>\n",
       "      <td>2</td>\n",
       "      <td>Married</td>\n",
       "      <td>1473</td>\n",
       "    </tr>\n",
       "    <tr>\n",
       "      <th>State_names</th>\n",
       "      <td>2512</td>\n",
       "      <td>50</td>\n",
       "      <td>Illinois</td>\n",
       "      <td>67</td>\n",
       "    </tr>\n",
       "    <tr>\n",
       "      <th>Segment</th>\n",
       "      <td>2512</td>\n",
       "      <td>5</td>\n",
       "      <td>Basic</td>\n",
       "      <td>1136</td>\n",
       "    </tr>\n",
       "    <tr>\n",
       "      <th>Employees_status</th>\n",
       "      <td>2486</td>\n",
       "      <td>4</td>\n",
       "      <td>Employees</td>\n",
       "      <td>946</td>\n",
       "    </tr>\n",
       "    <tr>\n",
       "      <th>Payment_method</th>\n",
       "      <td>2512</td>\n",
       "      <td>3</td>\n",
       "      <td>PayPal</td>\n",
       "      <td>1168</td>\n",
       "    </tr>\n",
       "  </tbody>\n",
       "</table>\n",
       "</div>"
      ],
      "text/plain": [
       "                 count unique         top  freq\n",
       "Transaction_date  2512   2512  01-01-2019     1\n",
       "Gender            2484      2      Female  1356\n",
       "Marital_status    2512      2     Married  1473\n",
       "State_names       2512     50    Illinois    67\n",
       "Segment           2512      5       Basic  1136\n",
       "Employees_status  2486      4   Employees   946\n",
       "Payment_method    2512      3      PayPal  1168"
      ]
     },
     "execution_count": 5,
     "metadata": {},
     "output_type": "execute_result"
    }
   ],
   "source": [
    "#statistical data for object columns\n",
    "df.describe(include=object).T"
   ]
  },
  {
   "cell_type": "code",
   "execution_count": 6,
   "id": "ffdff4a5-c8eb-44dd-9774-edc299520c6d",
   "metadata": {},
   "outputs": [
    {
     "data": {
      "text/plain": [
       "Referal\n",
       "1.0    1537\n",
       "0.0     820\n",
       "Name: count, dtype: int64"
      ]
     },
     "execution_count": 6,
     "metadata": {},
     "output_type": "execute_result"
    }
   ],
   "source": [
    "df['Referal'].value_counts()"
   ]
  },
  {
   "cell_type": "code",
   "execution_count": 7,
   "id": "2f243c9d-96ae-4eb3-b36f-2af903846b5d",
   "metadata": {},
   "outputs": [
    {
     "data": {
      "text/plain": [
       "Referal\n",
       "False    2357\n",
       "True      155\n",
       "Name: count, dtype: int64"
      ]
     },
     "execution_count": 7,
     "metadata": {},
     "output_type": "execute_result"
    }
   ],
   "source": [
    "df['Referal'].isnull().value_counts()"
   ]
  },
  {
   "cell_type": "code",
   "execution_count": 8,
   "id": "71be882c-a330-4074-8a26-8ddc5f1c5e23",
   "metadata": {},
   "outputs": [],
   "source": [
    "#filling the null values with 0\n",
    "df['Referal'].fillna(0, inplace=True)"
   ]
  },
  {
   "cell_type": "code",
   "execution_count": 9,
   "id": "d6ce6c80-b388-4dc7-ac6c-4dd2beb89e58",
   "metadata": {},
   "outputs": [
    {
     "data": {
      "text/plain": [
       "Referal\n",
       "False    2512\n",
       "Name: count, dtype: int64"
      ]
     },
     "execution_count": 9,
     "metadata": {},
     "output_type": "execute_result"
    }
   ],
   "source": [
    "df['Referal'].isnull().value_counts()"
   ]
  },
  {
   "cell_type": "code",
   "execution_count": 10,
   "id": "0f00638b-a64e-4b48-a62c-eea474653451",
   "metadata": {},
   "outputs": [
    {
     "data": {
      "text/plain": [
       "Age\n",
       "False    2470\n",
       "True       42\n",
       "Name: count, dtype: int64"
      ]
     },
     "execution_count": 10,
     "metadata": {},
     "output_type": "execute_result"
    }
   ],
   "source": [
    "df['Age'].isnull().value_counts()"
   ]
  },
  {
   "cell_type": "code",
   "execution_count": 11,
   "id": "a357c0c8-addf-4403-a0de-1682e445a8be",
   "metadata": {},
   "outputs": [
    {
     "name": "stdout",
     "output_type": "stream",
     "text": [
      "47.0\n"
     ]
    }
   ],
   "source": [
    "#finding the median age \n",
    "median_age = df['Age'].median()\n",
    "print(median_age)"
   ]
  },
  {
   "cell_type": "code",
   "execution_count": 12,
   "id": "1b680fe9-d94b-4249-a0a1-7c0f9925b817",
   "metadata": {},
   "outputs": [],
   "source": [
    "#filling null values with the median age\n",
    "df['Age'].fillna(median_age, inplace=True)"
   ]
  },
  {
   "cell_type": "code",
   "execution_count": 13,
   "id": "c907a854-065c-4522-9185-422e9604887d",
   "metadata": {},
   "outputs": [
    {
     "data": {
      "text/plain": [
       "Age\n",
       "False    2512\n",
       "Name: count, dtype: int64"
      ]
     },
     "execution_count": 13,
     "metadata": {},
     "output_type": "execute_result"
    }
   ],
   "source": [
    "df['Age'].isnull().value_counts()"
   ]
  },
  {
   "cell_type": "code",
   "execution_count": 14,
   "id": "e735082e-8d9e-4d7b-8d45-a621b061becd",
   "metadata": {},
   "outputs": [
    {
     "data": {
      "text/plain": [
       "Amount_spent\n",
       "False    2270\n",
       "True      242\n",
       "Name: count, dtype: int64"
      ]
     },
     "execution_count": 14,
     "metadata": {},
     "output_type": "execute_result"
    }
   ],
   "source": [
    "df['Amount_spent'].isnull().value_counts()"
   ]
  },
  {
   "cell_type": "code",
   "execution_count": 15,
   "id": "92dbd394-f119-4595-9067-0afbc814cb55",
   "metadata": {},
   "outputs": [
    {
     "name": "stdout",
     "output_type": "stream",
     "text": [
      "1418.42\n"
     ]
    }
   ],
   "source": [
    "#calculation the mean amount spent and rounding it to 2 decimal points\n",
    "mean_amount = round(df['Amount_spent'].mean(),2)\n",
    "print(mean_amount)"
   ]
  },
  {
   "cell_type": "code",
   "execution_count": 16,
   "id": "9193c893-955f-41ec-bc06-bdcb8e047c43",
   "metadata": {},
   "outputs": [],
   "source": [
    "#filling the null values with the mean amount\n",
    "df['Amount_spent'].fillna(mean_amount, inplace=True)"
   ]
  },
  {
   "cell_type": "code",
   "execution_count": 17,
   "id": "27997566-5cbe-41a1-8868-e99dcc1f12dc",
   "metadata": {},
   "outputs": [
    {
     "name": "stdout",
     "output_type": "stream",
     "text": [
      "<class 'pandas.core.frame.DataFrame'>\n",
      "RangeIndex: 2512 entries, 0 to 2511\n",
      "Data columns (total 11 columns):\n",
      " #   Column            Non-Null Count  Dtype  \n",
      "---  ------            --------------  -----  \n",
      " 0   Transaction_date  2512 non-null   object \n",
      " 1   Transaction_ID    2512 non-null   int64  \n",
      " 2   Gender            2484 non-null   object \n",
      " 3   Age               2512 non-null   float64\n",
      " 4   Marital_status    2512 non-null   object \n",
      " 5   State_names       2512 non-null   object \n",
      " 6   Segment           2512 non-null   object \n",
      " 7   Employees_status  2486 non-null   object \n",
      " 8   Payment_method    2512 non-null   object \n",
      " 9   Referal           2512 non-null   float64\n",
      " 10  Amount_spent      2512 non-null   float64\n",
      "dtypes: float64(3), int64(1), object(7)\n",
      "memory usage: 216.0+ KB\n"
     ]
    }
   ],
   "source": [
    "df.info()"
   ]
  },
  {
   "cell_type": "code",
   "execution_count": 18,
   "id": "f80eab04-c07b-4c4d-b9e0-b4bed1fa201e",
   "metadata": {},
   "outputs": [
    {
     "data": {
      "text/plain": [
       "2"
      ]
     },
     "execution_count": 18,
     "metadata": {},
     "output_type": "execute_result"
    }
   ],
   "source": [
    "#finding the count of unique values\n",
    "df['Gender'].nunique()"
   ]
  },
  {
   "cell_type": "code",
   "execution_count": 19,
   "id": "f2493dfc-5d7f-47fd-8aa0-1c6beda4fadd",
   "metadata": {},
   "outputs": [
    {
     "data": {
      "text/plain": [
       "array(['Female', 'Male', nan], dtype=object)"
      ]
     },
     "execution_count": 19,
     "metadata": {},
     "output_type": "execute_result"
    }
   ],
   "source": [
    "df['Gender'].unique()"
   ]
  },
  {
   "cell_type": "code",
   "execution_count": 20,
   "id": "2724048e-ca1a-4972-b2b1-1720585c45c6",
   "metadata": {},
   "outputs": [
    {
     "data": {
      "text/plain": [
       "Gender\n",
       "Female    1356\n",
       "Male      1128\n",
       "Name: count, dtype: int64"
      ]
     },
     "execution_count": 20,
     "metadata": {},
     "output_type": "execute_result"
    }
   ],
   "source": [
    "df['Gender'].value_counts()"
   ]
  },
  {
   "cell_type": "code",
   "execution_count": 21,
   "id": "c4c39721-cb11-4353-a097-e8d59310810d",
   "metadata": {},
   "outputs": [
    {
     "data": {
      "text/plain": [
       "Gender\n",
       "False    2484\n",
       "True       28\n",
       "Name: count, dtype: int64"
      ]
     },
     "execution_count": 21,
     "metadata": {},
     "output_type": "execute_result"
    }
   ],
   "source": [
    "df['Gender'].isnull().value_counts()"
   ]
  },
  {
   "cell_type": "code",
   "execution_count": 22,
   "id": "8666b3ce-b0fb-4595-947f-b90e6b0c250b",
   "metadata": {},
   "outputs": [],
   "source": [
    "#Filling the null values with Others\n",
    "df['Gender'].fillna('Others', inplace=True)"
   ]
  },
  {
   "cell_type": "code",
   "execution_count": 23,
   "id": "6aeb3533-fa12-4a16-b5f6-1cac8d58e088",
   "metadata": {},
   "outputs": [
    {
     "data": {
      "text/plain": [
       "array(['Female', 'Male', 'Others'], dtype=object)"
      ]
     },
     "execution_count": 23,
     "metadata": {},
     "output_type": "execute_result"
    }
   ],
   "source": [
    "df['Gender'].unique()"
   ]
  },
  {
   "cell_type": "code",
   "execution_count": 24,
   "id": "ef9339c1-4653-4be5-a2c1-70c3248e315a",
   "metadata": {},
   "outputs": [
    {
     "data": {
      "text/plain": [
       "Employees_status\n",
       "Employees        946\n",
       "workers          798\n",
       "self-employed    487\n",
       "Unemployment     255\n",
       "Name: count, dtype: int64"
      ]
     },
     "execution_count": 24,
     "metadata": {},
     "output_type": "execute_result"
    }
   ],
   "source": [
    "df['Employees_status'].value_counts()"
   ]
  },
  {
   "cell_type": "code",
   "execution_count": 25,
   "id": "8c95b8d2-2d50-430a-a763-88303cc55968",
   "metadata": {},
   "outputs": [
    {
     "data": {
      "text/plain": [
       "Employees_status\n",
       "False    2486\n",
       "True       26\n",
       "Name: count, dtype: int64"
      ]
     },
     "execution_count": 25,
     "metadata": {},
     "output_type": "execute_result"
    }
   ],
   "source": [
    "df['Employees_status'].isnull().value_counts()"
   ]
  },
  {
   "cell_type": "code",
   "execution_count": 26,
   "id": "a5dd1438-3501-4975-85c2-d5564024660d",
   "metadata": {},
   "outputs": [],
   "source": [
    "#Filling the null values with not mentioned as the customer has not provided it\n",
    "df['Employees_status'].fillna('Not mentioned', inplace=True)"
   ]
  },
  {
   "cell_type": "code",
   "execution_count": 27,
   "id": "4a552574-ea0f-4de2-872b-4eeb653eec9d",
   "metadata": {},
   "outputs": [
    {
     "data": {
      "text/plain": [
       "Employees_status\n",
       "Employees        946\n",
       "workers          798\n",
       "self-employed    487\n",
       "Unemployment     255\n",
       "Not mentioned     26\n",
       "Name: count, dtype: int64"
      ]
     },
     "execution_count": 27,
     "metadata": {},
     "output_type": "execute_result"
    }
   ],
   "source": [
    "df['Employees_status'].value_counts()"
   ]
  },
  {
   "cell_type": "code",
   "execution_count": 28,
   "id": "a1a49605-3812-4b77-81c2-a9af2e79c987",
   "metadata": {},
   "outputs": [
    {
     "name": "stdout",
     "output_type": "stream",
     "text": [
      "<class 'pandas.core.frame.DataFrame'>\n",
      "RangeIndex: 2512 entries, 0 to 2511\n",
      "Data columns (total 11 columns):\n",
      " #   Column            Non-Null Count  Dtype  \n",
      "---  ------            --------------  -----  \n",
      " 0   Transaction_date  2512 non-null   object \n",
      " 1   Transaction_ID    2512 non-null   int64  \n",
      " 2   Gender            2512 non-null   object \n",
      " 3   Age               2512 non-null   float64\n",
      " 4   Marital_status    2512 non-null   object \n",
      " 5   State_names       2512 non-null   object \n",
      " 6   Segment           2512 non-null   object \n",
      " 7   Employees_status  2512 non-null   object \n",
      " 8   Payment_method    2512 non-null   object \n",
      " 9   Referal           2512 non-null   float64\n",
      " 10  Amount_spent      2512 non-null   float64\n",
      "dtypes: float64(3), int64(1), object(7)\n",
      "memory usage: 216.0+ KB\n"
     ]
    }
   ],
   "source": [
    "df.info()"
   ]
  },
  {
   "cell_type": "code",
   "execution_count": 29,
   "id": "10a91daa-aa05-4b58-ac8a-52c30b7c6f89",
   "metadata": {},
   "outputs": [
    {
     "name": "stdout",
     "output_type": "stream",
     "text": [
      "0\n"
     ]
    }
   ],
   "source": [
    "#checking if any duplicate values are present\n",
    "print(df.duplicated().sum())"
   ]
  },
  {
   "cell_type": "code",
   "execution_count": 30,
   "id": "5a0bbdbc-0b93-44c9-9610-170f2ff6b7d3",
   "metadata": {},
   "outputs": [
    {
     "name": "stdout",
     "output_type": "stream",
     "text": [
      "-0.022128192357559015\n"
     ]
    }
   ],
   "source": [
    "#trying to see if two columns are correlated with one another or not\n",
    "#Correlation ranges from -1 to 1\n",
    "#1 indicating positive correlation - if one values increases other values will also increase by certain amount\n",
    "#-1 indicating negative correlation - if one values increases other values will also decrease by certain amount\n",
    "#0 indicates that there is no correlation\n",
    "correlation = df['Age'].corr(df['Amount_spent'])\n",
    "print(correlation)"
   ]
  },
  {
   "cell_type": "code",
   "execution_count": 31,
   "id": "548452b8-2fbf-42ed-bbb6-fe86d5975ed0",
   "metadata": {},
   "outputs": [],
   "source": [
    "#creating a new dataframe which contains only numeric values\n",
    "df2 = df.select_dtypes(include='number')"
   ]
  },
  {
   "cell_type": "code",
   "execution_count": 32,
   "id": "9879853d-864a-4af4-91a4-a8648a47ae48",
   "metadata": {},
   "outputs": [
    {
     "data": {
      "text/plain": [
       "<Axes: >"
      ]
     },
     "execution_count": 32,
     "metadata": {},
     "output_type": "execute_result"
    },
    {
     "data": {
      "image/png": "[encoded data removed]",
      "text/plain": [
       "<Figure size 640x480 with 2 Axes>"
      ]
     },
     "metadata": {},
     "output_type": "display_data"
    }
   ],
   "source": [
    "#using seaborn heatmap so that we can see the correlation between those numeric columns\n",
    "sns.heatmap(df2.corr(), cmap='coolwarm', annot=True)"
   ]
  },
  {
   "cell_type": "code",
   "execution_count": 33,
   "id": "37390a3b-03cd-415c-8a40-118a10438cf0",
   "metadata": {},
   "outputs": [
    {
     "name": "stdout",
     "output_type": "stream",
     "text": [
      "['Kansas' 'Illinois' 'New Mexico' 'Virginia' 'Connecticut' 'Hawaii'\n",
      " 'Florida' 'Vermont' 'California' 'Colorado' 'Iowa' 'South Carolina'\n",
      " 'New York' 'Maine' 'Maryland' 'Missouri' 'North Dakota' 'Ohio' 'Nebraska'\n",
      " 'Montana' 'Indiana' 'Wisconsin' 'Alabama' 'Arkansas' 'Pennsylvania'\n",
      " 'New Hampshire' 'Washington' 'Texas' 'Kentucky' 'Massachusetts' 'Wyoming'\n",
      " 'Louisiana' 'North Carolina' 'Rhode Island' 'West Virginia' 'Tennessee'\n",
      " 'Oregon' 'Alaska' 'Oklahoma' 'Nevada' 'New Jersey' 'Michigan' 'Utah'\n",
      " 'Arizona' 'South Dakota' 'Georgia' 'Idaho' 'Mississippi' 'Minnesota'\n",
      " 'Delaware']\n"
     ]
    }
   ],
   "source": [
    "print(df['State_names'].unique())"
   ]
  },
  {
   "cell_type": "code",
   "execution_count": 34,
   "id": "c10a120a-f378-4fcd-bf2c-11eed803cb21",
   "metadata": {},
   "outputs": [
    {
     "data": {
      "text/plain": [
       "State_names\n",
       "Illinois         67\n",
       "Georgia          64\n",
       "Massachusetts    63\n",
       "Maine            62\n",
       "Kentucky         59\n",
       "Minnesota        59\n",
       "Missouri         57\n",
       "Arizona          56\n",
       "Delaware         56\n",
       "Arkansas         55\n",
       "Name: count, dtype: int64"
      ]
     },
     "execution_count": 34,
     "metadata": {},
     "output_type": "execute_result"
    }
   ],
   "source": [
    "df['State_names'].value_counts().head(10)"
   ]
  },
  {
   "cell_type": "code",
   "execution_count": 35,
   "id": "14c2ff5e-9b8f-4022-81d5-817ff93768e0",
   "metadata": {},
   "outputs": [
    {
     "data": {
      "text/plain": [
       "State_names\n",
       "Utah             43\n",
       "New Hampshire    43\n",
       "Indiana          43\n",
       "Ohio             43\n",
       "Alabama          42\n",
       "Alaska           41\n",
       "Nebraska         41\n",
       "North Dakota     41\n",
       "Kansas           41\n",
       "Tennessee        39\n",
       "Name: count, dtype: int64"
      ]
     },
     "execution_count": 35,
     "metadata": {},
     "output_type": "execute_result"
    }
   ],
   "source": [
    "df['State_names'].value_counts().tail(10)"
   ]
  },
  {
   "cell_type": "code",
   "execution_count": 36,
   "id": "960fc69f-b6d0-4830-a6e0-1753c95f1e26",
   "metadata": {},
   "outputs": [
    {
     "data": {
      "text/html": [
       "<div>\n",
       "<style scoped>\n",
       "    .dataframe tbody tr th:only-of-type {\n",
       "        vertical-align: middle;\n",
       "    }\n",
       "\n",
       "    .dataframe tbody tr th {\n",
       "        vertical-align: top;\n",
       "    }\n",
       "\n",
       "    .dataframe thead th {\n",
       "        text-align: right;\n",
       "    }\n",
       "</style>\n",
       "<table border=\"1\" class=\"dataframe\">\n",
       "  <thead>\n",
       "    <tr style=\"text-align: right;\">\n",
       "      <th></th>\n",
       "      <th>Transaction_date</th>\n",
       "      <th>Transaction_ID</th>\n",
       "      <th>Gender</th>\n",
       "      <th>Age</th>\n",
       "      <th>Marital_status</th>\n",
       "      <th>State_names</th>\n",
       "      <th>Segment</th>\n",
       "      <th>Employees_status</th>\n",
       "      <th>Payment_method</th>\n",
       "      <th>Referal</th>\n",
       "      <th>Amount_spent</th>\n",
       "    </tr>\n",
       "  </thead>\n",
       "  <tbody>\n",
       "    <tr>\n",
       "      <th>617</th>\n",
       "      <td>09-09-2020</td>\n",
       "      <td>151805</td>\n",
       "      <td>Male</td>\n",
       "      <td>43.0</td>\n",
       "      <td>Married</td>\n",
       "      <td>Alabama</td>\n",
       "      <td>Silver</td>\n",
       "      <td>Employees</td>\n",
       "      <td>PayPal</td>\n",
       "      <td>1.0</td>\n",
       "      <td>87.88</td>\n",
       "    </tr>\n",
       "    <tr>\n",
       "      <th>1856</th>\n",
       "      <td>31-01-2024</td>\n",
       "      <td>153044</td>\n",
       "      <td>Female</td>\n",
       "      <td>18.0</td>\n",
       "      <td>Married</td>\n",
       "      <td>Alabama</td>\n",
       "      <td>Silver</td>\n",
       "      <td>workers</td>\n",
       "      <td>PayPal</td>\n",
       "      <td>0.0</td>\n",
       "      <td>2091.73</td>\n",
       "    </tr>\n",
       "    <tr>\n",
       "      <th>2443</th>\n",
       "      <td>09-09-2025</td>\n",
       "      <td>153631</td>\n",
       "      <td>Male</td>\n",
       "      <td>60.0</td>\n",
       "      <td>Married</td>\n",
       "      <td>Alabama</td>\n",
       "      <td>Platinum</td>\n",
       "      <td>Employees</td>\n",
       "      <td>PayPal</td>\n",
       "      <td>1.0</td>\n",
       "      <td>1418.42</td>\n",
       "    </tr>\n",
       "    <tr>\n",
       "      <th>2441</th>\n",
       "      <td>07-09-2025</td>\n",
       "      <td>153629</td>\n",
       "      <td>Male</td>\n",
       "      <td>18.0</td>\n",
       "      <td>Single</td>\n",
       "      <td>Alabama</td>\n",
       "      <td>Platinum</td>\n",
       "      <td>Employees</td>\n",
       "      <td>Card</td>\n",
       "      <td>0.0</td>\n",
       "      <td>289.85</td>\n",
       "    </tr>\n",
       "    <tr>\n",
       "      <th>1023</th>\n",
       "      <td>20-10-2021</td>\n",
       "      <td>152211</td>\n",
       "      <td>Female</td>\n",
       "      <td>30.0</td>\n",
       "      <td>Married</td>\n",
       "      <td>Alabama</td>\n",
       "      <td>Platinum</td>\n",
       "      <td>Unemployment</td>\n",
       "      <td>Other</td>\n",
       "      <td>0.0</td>\n",
       "      <td>1418.42</td>\n",
       "    </tr>\n",
       "    <tr>\n",
       "      <th>1853</th>\n",
       "      <td>28-01-2024</td>\n",
       "      <td>153041</td>\n",
       "      <td>Male</td>\n",
       "      <td>18.0</td>\n",
       "      <td>Married</td>\n",
       "      <td>Alabama</td>\n",
       "      <td>Silver</td>\n",
       "      <td>Employees</td>\n",
       "      <td>Other</td>\n",
       "      <td>0.0</td>\n",
       "      <td>1418.42</td>\n",
       "    </tr>\n",
       "    <tr>\n",
       "      <th>1097</th>\n",
       "      <td>02-01-2022</td>\n",
       "      <td>152285</td>\n",
       "      <td>Female</td>\n",
       "      <td>59.0</td>\n",
       "      <td>Married</td>\n",
       "      <td>Alabama</td>\n",
       "      <td>Platinum</td>\n",
       "      <td>workers</td>\n",
       "      <td>Card</td>\n",
       "      <td>1.0</td>\n",
       "      <td>2747.99</td>\n",
       "    </tr>\n",
       "    <tr>\n",
       "      <th>1109</th>\n",
       "      <td>14-01-2022</td>\n",
       "      <td>152297</td>\n",
       "      <td>Female</td>\n",
       "      <td>73.0</td>\n",
       "      <td>Married</td>\n",
       "      <td>Alabama</td>\n",
       "      <td>Silver</td>\n",
       "      <td>self-employed</td>\n",
       "      <td>Other</td>\n",
       "      <td>0.0</td>\n",
       "      <td>851.25</td>\n",
       "    </tr>\n",
       "    <tr>\n",
       "      <th>2379</th>\n",
       "      <td>07-07-2025</td>\n",
       "      <td>153567</td>\n",
       "      <td>Female</td>\n",
       "      <td>34.0</td>\n",
       "      <td>Single</td>\n",
       "      <td>Alabama</td>\n",
       "      <td>Silver</td>\n",
       "      <td>Employees</td>\n",
       "      <td>PayPal</td>\n",
       "      <td>0.0</td>\n",
       "      <td>77.90</td>\n",
       "    </tr>\n",
       "    <tr>\n",
       "      <th>2348</th>\n",
       "      <td>06-06-2025</td>\n",
       "      <td>153536</td>\n",
       "      <td>Female</td>\n",
       "      <td>27.0</td>\n",
       "      <td>Married</td>\n",
       "      <td>Alabama</td>\n",
       "      <td>Basic</td>\n",
       "      <td>workers</td>\n",
       "      <td>Card</td>\n",
       "      <td>1.0</td>\n",
       "      <td>413.11</td>\n",
       "    </tr>\n",
       "  </tbody>\n",
       "</table>\n",
       "</div>"
      ],
      "text/plain": [
       "     Transaction_date  Transaction_ID  Gender   Age Marital_status  \\\n",
       "617        09-09-2020          151805    Male  43.0        Married   \n",
       "1856       31-01-2024          153044  Female  18.0        Married   \n",
       "2443       09-09-2025          153631    Male  60.0        Married   \n",
       "2441       07-09-2025          153629    Male  18.0         Single   \n",
       "1023       20-10-2021          152211  Female  30.0        Married   \n",
       "1853       28-01-2024          153041    Male  18.0        Married   \n",
       "1097       02-01-2022          152285  Female  59.0        Married   \n",
       "1109       14-01-2022          152297  Female  73.0        Married   \n",
       "2379       07-07-2025          153567  Female  34.0         Single   \n",
       "2348       06-06-2025          153536  Female  27.0        Married   \n",
       "\n",
       "     State_names   Segment Employees_status Payment_method  Referal  \\\n",
       "617      Alabama    Silver        Employees         PayPal      1.0   \n",
       "1856     Alabama    Silver          workers         PayPal      0.0   \n",
       "2443     Alabama  Platinum        Employees         PayPal      1.0   \n",
       "2441     Alabama  Platinum        Employees           Card      0.0   \n",
       "1023     Alabama  Platinum     Unemployment          Other      0.0   \n",
       "1853     Alabama    Silver        Employees          Other      0.0   \n",
       "1097     Alabama  Platinum          workers           Card      1.0   \n",
       "1109     Alabama    Silver    self-employed          Other      0.0   \n",
       "2379     Alabama    Silver        Employees         PayPal      0.0   \n",
       "2348     Alabama     Basic          workers           Card      1.0   \n",
       "\n",
       "      Amount_spent  \n",
       "617          87.88  \n",
       "1856       2091.73  \n",
       "2443       1418.42  \n",
       "2441        289.85  \n",
       "1023       1418.42  \n",
       "1853       1418.42  \n",
       "1097       2747.99  \n",
       "1109        851.25  \n",
       "2379         77.90  \n",
       "2348        413.11  "
      ]
     },
     "execution_count": 36,
     "metadata": {},
     "output_type": "execute_result"
    }
   ],
   "source": [
    "#sorting the values using the column\n",
    "df.sort_values(by=['State_names']).head(10)"
   ]
  },
  {
   "cell_type": "code",
   "execution_count": 37,
   "id": "1951faf6-22f1-4476-bbd7-d80aed60c3ca",
   "metadata": {},
   "outputs": [
    {
     "data": {
      "text/html": [
       "<div>\n",
       "<style scoped>\n",
       "    .dataframe tbody tr th:only-of-type {\n",
       "        vertical-align: middle;\n",
       "    }\n",
       "\n",
       "    .dataframe tbody tr th {\n",
       "        vertical-align: top;\n",
       "    }\n",
       "\n",
       "    .dataframe thead th {\n",
       "        text-align: right;\n",
       "    }\n",
       "</style>\n",
       "<table border=\"1\" class=\"dataframe\">\n",
       "  <thead>\n",
       "    <tr style=\"text-align: right;\">\n",
       "      <th></th>\n",
       "      <th>Transaction_date</th>\n",
       "      <th>Transaction_ID</th>\n",
       "      <th>Gender</th>\n",
       "      <th>Age</th>\n",
       "      <th>Marital_status</th>\n",
       "      <th>State_names</th>\n",
       "      <th>Segment</th>\n",
       "      <th>Employees_status</th>\n",
       "      <th>Payment_method</th>\n",
       "      <th>Referal</th>\n",
       "      <th>Amount_spent</th>\n",
       "    </tr>\n",
       "  </thead>\n",
       "  <tbody>\n",
       "    <tr>\n",
       "      <th>17</th>\n",
       "      <td>18-01-2019</td>\n",
       "      <td>151217</td>\n",
       "      <td>Female</td>\n",
       "      <td>77.0</td>\n",
       "      <td>Married</td>\n",
       "      <td>New Mexico</td>\n",
       "      <td>Platinum</td>\n",
       "      <td>workers</td>\n",
       "      <td>Card</td>\n",
       "      <td>0.0</td>\n",
       "      <td>2999.98</td>\n",
       "    </tr>\n",
       "    <tr>\n",
       "      <th>485</th>\n",
       "      <td>30-04-2020</td>\n",
       "      <td>151673</td>\n",
       "      <td>Male</td>\n",
       "      <td>65.0</td>\n",
       "      <td>Married</td>\n",
       "      <td>Arizona</td>\n",
       "      <td>Gold</td>\n",
       "      <td>self-employed</td>\n",
       "      <td>PayPal</td>\n",
       "      <td>1.0</td>\n",
       "      <td>2998.62</td>\n",
       "    </tr>\n",
       "    <tr>\n",
       "      <th>2279</th>\n",
       "      <td>29-03-2025</td>\n",
       "      <td>153467</td>\n",
       "      <td>Female</td>\n",
       "      <td>78.0</td>\n",
       "      <td>Single</td>\n",
       "      <td>Arizona</td>\n",
       "      <td>Silver</td>\n",
       "      <td>Employees</td>\n",
       "      <td>PayPal</td>\n",
       "      <td>1.0</td>\n",
       "      <td>2997.21</td>\n",
       "    </tr>\n",
       "    <tr>\n",
       "      <th>589</th>\n",
       "      <td>12-08-2020</td>\n",
       "      <td>151777</td>\n",
       "      <td>Male</td>\n",
       "      <td>51.0</td>\n",
       "      <td>Single</td>\n",
       "      <td>North Carolina</td>\n",
       "      <td>Missing</td>\n",
       "      <td>Employees</td>\n",
       "      <td>PayPal</td>\n",
       "      <td>1.0</td>\n",
       "      <td>2997.15</td>\n",
       "    </tr>\n",
       "    <tr>\n",
       "      <th>743</th>\n",
       "      <td>13-01-2021</td>\n",
       "      <td>151931</td>\n",
       "      <td>Male</td>\n",
       "      <td>44.0</td>\n",
       "      <td>Single</td>\n",
       "      <td>Illinois</td>\n",
       "      <td>Basic</td>\n",
       "      <td>Employees</td>\n",
       "      <td>Card</td>\n",
       "      <td>1.0</td>\n",
       "      <td>2996.82</td>\n",
       "    </tr>\n",
       "  </tbody>\n",
       "</table>\n",
       "</div>"
      ],
      "text/plain": [
       "     Transaction_date  Transaction_ID  Gender   Age Marital_status  \\\n",
       "17         18-01-2019          151217  Female  77.0        Married   \n",
       "485        30-04-2020          151673    Male  65.0        Married   \n",
       "2279       29-03-2025          153467  Female  78.0         Single   \n",
       "589        12-08-2020          151777    Male  51.0         Single   \n",
       "743        13-01-2021          151931    Male  44.0         Single   \n",
       "\n",
       "         State_names   Segment Employees_status Payment_method  Referal  \\\n",
       "17        New Mexico  Platinum          workers           Card      0.0   \n",
       "485          Arizona      Gold    self-employed         PayPal      1.0   \n",
       "2279         Arizona    Silver        Employees         PayPal      1.0   \n",
       "589   North Carolina   Missing        Employees         PayPal      1.0   \n",
       "743         Illinois     Basic        Employees           Card      1.0   \n",
       "\n",
       "      Amount_spent  \n",
       "17         2999.98  \n",
       "485        2998.62  \n",
       "2279       2997.21  \n",
       "589        2997.15  \n",
       "743        2996.82  "
      ]
     },
     "execution_count": 37,
     "metadata": {},
     "output_type": "execute_result"
    }
   ],
   "source": [
    "df.sort_values(by=['Amount_spent'], ascending = False).head(5)"
   ]
  },
  {
   "cell_type": "code",
   "execution_count": 38,
   "id": "3e718bf6-ba33-490a-b350-a61a86402988",
   "metadata": {},
   "outputs": [
    {
     "data": {
      "text/html": [
       "<div>\n",
       "<style scoped>\n",
       "    .dataframe tbody tr th:only-of-type {\n",
       "        vertical-align: middle;\n",
       "    }\n",
       "\n",
       "    .dataframe tbody tr th {\n",
       "        vertical-align: top;\n",
       "    }\n",
       "\n",
       "    .dataframe thead th {\n",
       "        text-align: right;\n",
       "    }\n",
       "</style>\n",
       "<table border=\"1\" class=\"dataframe\">\n",
       "  <thead>\n",
       "    <tr style=\"text-align: right;\">\n",
       "      <th></th>\n",
       "      <th>Transaction_date</th>\n",
       "      <th>Transaction_ID</th>\n",
       "      <th>Gender</th>\n",
       "      <th>Age</th>\n",
       "      <th>Marital_status</th>\n",
       "      <th>State_names</th>\n",
       "      <th>Segment</th>\n",
       "      <th>Employees_status</th>\n",
       "      <th>Payment_method</th>\n",
       "      <th>Referal</th>\n",
       "      <th>Amount_spent</th>\n",
       "    </tr>\n",
       "  </thead>\n",
       "  <tbody>\n",
       "    <tr>\n",
       "      <th>17</th>\n",
       "      <td>18-01-2019</td>\n",
       "      <td>151217</td>\n",
       "      <td>Female</td>\n",
       "      <td>77.0</td>\n",
       "      <td>Married</td>\n",
       "      <td>New Mexico</td>\n",
       "      <td>Platinum</td>\n",
       "      <td>workers</td>\n",
       "      <td>Card</td>\n",
       "      <td>0.0</td>\n",
       "      <td>2999.98</td>\n",
       "    </tr>\n",
       "    <tr>\n",
       "      <th>485</th>\n",
       "      <td>30-04-2020</td>\n",
       "      <td>151673</td>\n",
       "      <td>Male</td>\n",
       "      <td>65.0</td>\n",
       "      <td>Married</td>\n",
       "      <td>Arizona</td>\n",
       "      <td>Gold</td>\n",
       "      <td>self-employed</td>\n",
       "      <td>PayPal</td>\n",
       "      <td>1.0</td>\n",
       "      <td>2998.62</td>\n",
       "    </tr>\n",
       "    <tr>\n",
       "      <th>2279</th>\n",
       "      <td>29-03-2025</td>\n",
       "      <td>153467</td>\n",
       "      <td>Female</td>\n",
       "      <td>78.0</td>\n",
       "      <td>Single</td>\n",
       "      <td>Arizona</td>\n",
       "      <td>Silver</td>\n",
       "      <td>Employees</td>\n",
       "      <td>PayPal</td>\n",
       "      <td>1.0</td>\n",
       "      <td>2997.21</td>\n",
       "    </tr>\n",
       "    <tr>\n",
       "      <th>589</th>\n",
       "      <td>12-08-2020</td>\n",
       "      <td>151777</td>\n",
       "      <td>Male</td>\n",
       "      <td>51.0</td>\n",
       "      <td>Single</td>\n",
       "      <td>North Carolina</td>\n",
       "      <td>Missing</td>\n",
       "      <td>Employees</td>\n",
       "      <td>PayPal</td>\n",
       "      <td>1.0</td>\n",
       "      <td>2997.15</td>\n",
       "    </tr>\n",
       "    <tr>\n",
       "      <th>743</th>\n",
       "      <td>13-01-2021</td>\n",
       "      <td>151931</td>\n",
       "      <td>Male</td>\n",
       "      <td>44.0</td>\n",
       "      <td>Single</td>\n",
       "      <td>Illinois</td>\n",
       "      <td>Basic</td>\n",
       "      <td>Employees</td>\n",
       "      <td>Card</td>\n",
       "      <td>1.0</td>\n",
       "      <td>2996.82</td>\n",
       "    </tr>\n",
       "  </tbody>\n",
       "</table>\n",
       "</div>"
      ],
      "text/plain": [
       "     Transaction_date  Transaction_ID  Gender   Age Marital_status  \\\n",
       "17         18-01-2019          151217  Female  77.0        Married   \n",
       "485        30-04-2020          151673    Male  65.0        Married   \n",
       "2279       29-03-2025          153467  Female  78.0         Single   \n",
       "589        12-08-2020          151777    Male  51.0         Single   \n",
       "743        13-01-2021          151931    Male  44.0         Single   \n",
       "\n",
       "         State_names   Segment Employees_status Payment_method  Referal  \\\n",
       "17        New Mexico  Platinum          workers           Card      0.0   \n",
       "485          Arizona      Gold    self-employed         PayPal      1.0   \n",
       "2279         Arizona    Silver        Employees         PayPal      1.0   \n",
       "589   North Carolina   Missing        Employees         PayPal      1.0   \n",
       "743         Illinois     Basic        Employees           Card      1.0   \n",
       "\n",
       "      Amount_spent  \n",
       "17         2999.98  \n",
       "485        2998.62  \n",
       "2279       2997.21  \n",
       "589        2997.15  \n",
       "743        2996.82  "
      ]
     },
     "execution_count": 38,
     "metadata": {},
     "output_type": "execute_result"
    }
   ],
   "source": [
    "#nlargest is another method to fetch the largest values from a column by passing the no_of_result \n",
    "#and the column name as the parameters\n",
    "df.nlargest(5, 'Amount_spent')"
   ]
  },
  {
   "cell_type": "code",
   "execution_count": 39,
   "id": "7b1541ca-404e-4ee6-b85b-660e181265f5",
   "metadata": {},
   "outputs": [
    {
     "data": {
      "text/html": [
       "<div>\n",
       "<style scoped>\n",
       "    .dataframe tbody tr th:only-of-type {\n",
       "        vertical-align: middle;\n",
       "    }\n",
       "\n",
       "    .dataframe tbody tr th {\n",
       "        vertical-align: top;\n",
       "    }\n",
       "\n",
       "    .dataframe thead th {\n",
       "        text-align: right;\n",
       "    }\n",
       "</style>\n",
       "<table border=\"1\" class=\"dataframe\">\n",
       "  <thead>\n",
       "    <tr style=\"text-align: right;\">\n",
       "      <th></th>\n",
       "      <th>Transaction_date</th>\n",
       "      <th>Transaction_ID</th>\n",
       "      <th>Gender</th>\n",
       "      <th>Age</th>\n",
       "      <th>Marital_status</th>\n",
       "      <th>State_names</th>\n",
       "      <th>Segment</th>\n",
       "      <th>Employees_status</th>\n",
       "      <th>Payment_method</th>\n",
       "      <th>Referal</th>\n",
       "      <th>Amount_spent</th>\n",
       "    </tr>\n",
       "  </thead>\n",
       "  <tbody>\n",
       "    <tr>\n",
       "      <th>2468</th>\n",
       "      <td>04-10-2025</td>\n",
       "      <td>153656</td>\n",
       "      <td>Female</td>\n",
       "      <td>73.0</td>\n",
       "      <td>Married</td>\n",
       "      <td>Michigan</td>\n",
       "      <td>Gold</td>\n",
       "      <td>Employees</td>\n",
       "      <td>PayPal</td>\n",
       "      <td>1.0</td>\n",
       "      <td>2.09</td>\n",
       "    </tr>\n",
       "    <tr>\n",
       "      <th>568</th>\n",
       "      <td>22-07-2020</td>\n",
       "      <td>151756</td>\n",
       "      <td>Male</td>\n",
       "      <td>46.0</td>\n",
       "      <td>Single</td>\n",
       "      <td>South Carolina</td>\n",
       "      <td>Gold</td>\n",
       "      <td>workers</td>\n",
       "      <td>PayPal</td>\n",
       "      <td>0.0</td>\n",
       "      <td>2.16</td>\n",
       "    </tr>\n",
       "    <tr>\n",
       "      <th>2401</th>\n",
       "      <td>29-07-2025</td>\n",
       "      <td>153589</td>\n",
       "      <td>Female</td>\n",
       "      <td>60.0</td>\n",
       "      <td>Single</td>\n",
       "      <td>Maryland</td>\n",
       "      <td>Silver</td>\n",
       "      <td>Employees</td>\n",
       "      <td>PayPal</td>\n",
       "      <td>1.0</td>\n",
       "      <td>2.84</td>\n",
       "    </tr>\n",
       "    <tr>\n",
       "      <th>962</th>\n",
       "      <td>20-08-2021</td>\n",
       "      <td>152150</td>\n",
       "      <td>Female</td>\n",
       "      <td>56.0</td>\n",
       "      <td>Married</td>\n",
       "      <td>Nevada</td>\n",
       "      <td>Basic</td>\n",
       "      <td>workers</td>\n",
       "      <td>Other</td>\n",
       "      <td>1.0</td>\n",
       "      <td>5.31</td>\n",
       "    </tr>\n",
       "    <tr>\n",
       "      <th>860</th>\n",
       "      <td>10-05-2021</td>\n",
       "      <td>152048</td>\n",
       "      <td>Male</td>\n",
       "      <td>26.0</td>\n",
       "      <td>Single</td>\n",
       "      <td>Maryland</td>\n",
       "      <td>Silver</td>\n",
       "      <td>Unemployment</td>\n",
       "      <td>PayPal</td>\n",
       "      <td>1.0</td>\n",
       "      <td>5.55</td>\n",
       "    </tr>\n",
       "  </tbody>\n",
       "</table>\n",
       "</div>"
      ],
      "text/plain": [
       "     Transaction_date  Transaction_ID  Gender   Age Marital_status  \\\n",
       "2468       04-10-2025          153656  Female  73.0        Married   \n",
       "568        22-07-2020          151756    Male  46.0         Single   \n",
       "2401       29-07-2025          153589  Female  60.0         Single   \n",
       "962        20-08-2021          152150  Female  56.0        Married   \n",
       "860        10-05-2021          152048    Male  26.0         Single   \n",
       "\n",
       "         State_names Segment Employees_status Payment_method  Referal  \\\n",
       "2468        Michigan    Gold        Employees         PayPal      1.0   \n",
       "568   South Carolina    Gold          workers         PayPal      0.0   \n",
       "2401        Maryland  Silver        Employees         PayPal      1.0   \n",
       "962           Nevada   Basic          workers          Other      1.0   \n",
       "860         Maryland  Silver     Unemployment         PayPal      1.0   \n",
       "\n",
       "      Amount_spent  \n",
       "2468          2.09  \n",
       "568           2.16  \n",
       "2401          2.84  \n",
       "962           5.31  \n",
       "860           5.55  "
      ]
     },
     "execution_count": 39,
     "metadata": {},
     "output_type": "execute_result"
    }
   ],
   "source": [
    "#nsmallest is another method to fetch the smallest values from a column by passing the no_of_result \n",
    "#and the column name as the parameters\n",
    "df.nsmallest(5, 'Amount_spent')"
   ]
  },
  {
   "cell_type": "code",
   "execution_count": 40,
   "id": "6f5dc98c-e989-4c7e-897a-466ece968c69",
   "metadata": {},
   "outputs": [],
   "source": [
    "#converting the type from object to datetime\n",
    "df['Transaction_date'] = pd.to_datetime(df['Transaction_date'], format='%d-%m-%Y')"
   ]
  },
  {
   "cell_type": "code",
   "execution_count": 41,
   "id": "31c15853-3fb1-4ac2-84eb-e09a7438cb43",
   "metadata": {},
   "outputs": [
    {
     "name": "stdout",
     "output_type": "stream",
     "text": [
      "<class 'pandas.core.frame.DataFrame'>\n",
      "RangeIndex: 2512 entries, 0 to 2511\n",
      "Data columns (total 11 columns):\n",
      " #   Column            Non-Null Count  Dtype         \n",
      "---  ------            --------------  -----         \n",
      " 0   Transaction_date  2512 non-null   datetime64[ns]\n",
      " 1   Transaction_ID    2512 non-null   int64         \n",
      " 2   Gender            2512 non-null   object        \n",
      " 3   Age               2512 non-null   float64       \n",
      " 4   Marital_status    2512 non-null   object        \n",
      " 5   State_names       2512 non-null   object        \n",
      " 6   Segment           2512 non-null   object        \n",
      " 7   Employees_status  2512 non-null   object        \n",
      " 8   Payment_method    2512 non-null   object        \n",
      " 9   Referal           2512 non-null   float64       \n",
      " 10  Amount_spent      2512 non-null   float64       \n",
      "dtypes: datetime64[ns](1), float64(3), int64(1), object(6)\n",
      "memory usage: 216.0+ KB\n"
     ]
    }
   ],
   "source": [
    "df.info()"
   ]
  },
  {
   "cell_type": "code",
   "execution_count": 42,
   "id": "09e2fc50-6560-4f90-8096-ba0e3974d323",
   "metadata": {},
   "outputs": [],
   "source": [
    "#fetching the name of the month and creating a new column\n",
    "df['Month'] = df['Transaction_date'].dt.strftime('%B')"
   ]
  },
  {
   "cell_type": "code",
   "execution_count": 43,
   "id": "9a701dc3-7420-4bc8-820a-70743901a5cc",
   "metadata": {},
   "outputs": [
    {
     "name": "stdout",
     "output_type": "stream",
     "text": [
      "<class 'pandas.core.frame.DataFrame'>\n",
      "RangeIndex: 2512 entries, 0 to 2511\n",
      "Data columns (total 12 columns):\n",
      " #   Column            Non-Null Count  Dtype         \n",
      "---  ------            --------------  -----         \n",
      " 0   Transaction_date  2512 non-null   datetime64[ns]\n",
      " 1   Transaction_ID    2512 non-null   int64         \n",
      " 2   Gender            2512 non-null   object        \n",
      " 3   Age               2512 non-null   float64       \n",
      " 4   Marital_status    2512 non-null   object        \n",
      " 5   State_names       2512 non-null   object        \n",
      " 6   Segment           2512 non-null   object        \n",
      " 7   Employees_status  2512 non-null   object        \n",
      " 8   Payment_method    2512 non-null   object        \n",
      " 9   Referal           2512 non-null   float64       \n",
      " 10  Amount_spent      2512 non-null   float64       \n",
      " 11  Month             2512 non-null   object        \n",
      "dtypes: datetime64[ns](1), float64(3), int64(1), object(7)\n",
      "memory usage: 235.6+ KB\n"
     ]
    }
   ],
   "source": [
    "df.info()"
   ]
  },
  {
   "cell_type": "code",
   "execution_count": 44,
   "id": "1a5d3a06-33af-47de-9738-6c4c3a014302",
   "metadata": {},
   "outputs": [],
   "source": [
    "#fetch the year from the tranasction date\n",
    "df['Year'] = df['Transaction_date'].dt.year"
   ]
  },
  {
   "cell_type": "code",
   "execution_count": 45,
   "id": "867dedb1-e742-43c9-9693-1cba112ecfb9",
   "metadata": {},
   "outputs": [
    {
     "data": {
      "text/plain": [
       "Month\n",
       "January      217\n",
       "March        217\n",
       "May          217\n",
       "July         217\n",
       "August       217\n",
       "October      217\n",
       "April        210\n",
       "June         210\n",
       "September    210\n",
       "February     198\n",
       "November     196\n",
       "December     186\n",
       "Name: count, dtype: int64"
      ]
     },
     "execution_count": 45,
     "metadata": {},
     "output_type": "execute_result"
    }
   ],
   "source": [
    "df['Month'].value_counts()"
   ]
  },
  {
   "cell_type": "code",
   "execution_count": 46,
   "id": "3a9c6a3c-15dc-4956-93e9-cc7005b8864b",
   "metadata": {},
   "outputs": [
    {
     "data": {
      "text/plain": [
       "Year\n",
       "2020    366\n",
       "2024    366\n",
       "2019    365\n",
       "2021    365\n",
       "2022    365\n",
       "2023    365\n",
       "2025    320\n",
       "Name: count, dtype: int64"
      ]
     },
     "execution_count": 46,
     "metadata": {},
     "output_type": "execute_result"
    }
   ],
   "source": [
    "df['Year'].value_counts()"
   ]
  },
  {
   "cell_type": "code",
   "execution_count": 47,
   "id": "a3d9af8b-0f94-4010-840a-d5e9566ef91b",
   "metadata": {},
   "outputs": [],
   "source": [
    "#dropping the column transaction_date\n",
    "df.drop('Transaction_date', axis=1, inplace=True)"
   ]
  },
  {
   "cell_type": "code",
   "execution_count": 48,
   "id": "2b911316-2e5c-49e4-8b66-77f580703a2e",
   "metadata": {},
   "outputs": [
    {
     "name": "stdout",
     "output_type": "stream",
     "text": [
      "<class 'pandas.core.frame.DataFrame'>\n",
      "RangeIndex: 2512 entries, 0 to 2511\n",
      "Data columns (total 12 columns):\n",
      " #   Column            Non-Null Count  Dtype  \n",
      "---  ------            --------------  -----  \n",
      " 0   Transaction_ID    2512 non-null   int64  \n",
      " 1   Gender            2512 non-null   object \n",
      " 2   Age               2512 non-null   float64\n",
      " 3   Marital_status    2512 non-null   object \n",
      " 4   State_names       2512 non-null   object \n",
      " 5   Segment           2512 non-null   object \n",
      " 6   Employees_status  2512 non-null   object \n",
      " 7   Payment_method    2512 non-null   object \n",
      " 8   Referal           2512 non-null   float64\n",
      " 9   Amount_spent      2512 non-null   float64\n",
      " 10  Month             2512 non-null   object \n",
      " 11  Year              2512 non-null   int32  \n",
      "dtypes: float64(3), int32(1), int64(1), object(7)\n",
      "memory usage: 225.8+ KB\n"
     ]
    }
   ],
   "source": [
    "df.info()"
   ]
  },
  {
   "cell_type": "code",
   "execution_count": null,
   "id": "549f3855-8dd8-48ef-a654-ad3388313e49",
   "metadata": {},
   "outputs": [],
   "source": []
  }
 ],
 "metadata": {
  "kernelspec": {
   "display_name": "Python 3 (ipykernel)",
   "language": "python",
   "name": "python3"
  },
  "language_info": {
   "codemirror_mode": {
    "name": "ipython",
    "version": 3
   },
   "file_extension": ".py",
   "mimetype": "text/x-python",
   "name": "python",
   "nbconvert_exporter": "python",
   "pygments_lexer": "ipython3",
   "version": "3.12.0"
  }
 },
 "nbformat": 4,
 "nbformat_minor": 5
}
